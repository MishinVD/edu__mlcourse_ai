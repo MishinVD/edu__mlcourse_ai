{
 "cells": [
  {
   "cell_type": "markdown",
   "metadata": {
    "_uuid": "90e3a2685594cc6aae3914d3d519be153b050d78"
   },
   "source": [
    "<center>\n",
    "<img src=\"../../img/ods_stickers.jpg\" />\n",
    "</center> \n",
    "     \n",
    "## <center>  [mlcourse.ai](https://mlcourse.ai) – Open Machine Learning Course \n",
    "\n",
    "#### <center> Author: [Yury Kashnitskiy](https://yorko.github.io) (@yorko) \n",
    "\n",
    "# <center>Assignment #3. Spring 2019\n",
    "## <center> Part 3. Gradient boosting"
   ]
  },
  {
   "cell_type": "markdown",
   "metadata": {
    "_uuid": "1cc3855272f09bf4b32a22bcf317d7ea22564706"
   },
   "source": [
    "**In this assignment, you're asked to beat a baseline in the [\"Flight delays\" competition](https://www.kaggle.com/c/flight-delays-fall-2018).**\n",
    "\n",
    "Prior to working on the assignment, you'd better check out the corresponding course material:\n",
    " 1. [Classification, Decision Trees and k Nearest Neighbors](https://nbviewer.jupyter.org/github/Yorko/mlcourse_open/blob/master/jupyter_english/topic03_decision_trees_kNN/topic3_decision_trees_kNN.ipynb?flush_cache=true), the same as an interactive web-based [Kaggle Kernel](https://www.kaggle.com/kashnitsky/topic-3-decision-trees-and-knn) \n",
    " 2. Ensembles:\n",
    "  - [Bagging](https://nbviewer.jupyter.org/github/Yorko/mlcourse_open/blob/master/jupyter_english/topic05_ensembles_random_forests/topic5_part1_bagging.ipynb?flush_cache=true), the same as a [Kaggle Kernel](https://www.kaggle.com/kashnitsky/topic-5-ensembles-part-1-bagging)\n",
    "  - [Random Forest](https://nbviewer.jupyter.org/github/Yorko/mlcourse_open/blob/master/jupyter_english/topic05_ensembles_random_forests/topic5_part2_random_forest.ipynb?flush_cache=true), the same as a [Kaggle Kernel](https://www.kaggle.com/kashnitsky/topic-5-ensembles-part-2-random-forest)\n",
    "  - [Feature Importance](https://nbviewer.jupyter.org/github/Yorko/mlcourse_open/blob/master/jupyter_english/topic05_ensembles_random_forests/topic5_part3_feature_importance.ipynb?flush_cache=true), the same as a [Kaggle Kernel](https://www.kaggle.com/kashnitsky/topic-5-ensembles-part-3-feature-importance)\n",
    " 3. - [Gradient boosting](https://nbviewer.jupyter.org/github/Yorko/mlcourse_open/blob/master/jupyter_english/topic10_boosting/topic10_gradient_boosting.ipynb?flush_cache=true), the same as a [Kaggle Kernel](https://www.kaggle.com/kashnitsky/topic-10-gradient-boosting) \n",
    "   - Logistic regression, Random Forest, and LightGBM in the \"Kaggle Forest Cover Type Prediction\" competition: [Kernel](https://www.kaggle.com/kashnitsky/topic-10-practice-with-logit-rf-and-lightgbm) \n",
    " 4. You can also practice with demo assignments, which are simpler and already shared with solutions:\n",
    "  - \"Decision trees with a toy task and the UCI Adult dataset\": [assignment](https://www.kaggle.com/kashnitsky/a3-demo-decision-trees) + [solution](https://www.kaggle.com/kashnitsky/a3-demo-decision-trees-solution)\n",
    "  - \"Logistic Regression and Random Forest in the credit scoring problem\": [assignment](https://www.kaggle.com/kashnitsky/assignment-5-logit-and-rf-for-credit-scoring) + [solution](https://www.kaggle.com/kashnitsky/a5-demo-logit-and-rf-for-credit-scoring-sol)\n",
    " 5. There are also 7 video lectures on trees, forests, boosting and their applications: [mlcourse.ai/video](https://mlcourse.ai/video) \n",
    "\n",
    "### Your task is to:\n",
    " 1. beat **\"A3 baseline (8 credits)\"** on Public LB (**0.73449** LB score)\n",
    " 2. rename your [team](https://www.kaggle.com/c/flight-delays-fall-2018/team) in full accordance with the course rating\n",
    " \n",
    " This task is intended to be relatively easy. Here you are not required to upload your reproducible solution.\n",
    " \n",
    "### <center> Deadline for A3: 2019 March 31, 20:59 GMT (London time)"
   ]
  },
  {
   "cell_type": "code",
   "execution_count": null,
   "metadata": {},
   "outputs": [],
   "source": []
  },
  {
   "cell_type": "code",
   "execution_count": 1,
   "metadata": {
    "_uuid": "b486c4beb6f64fbeb70610a0e5ed7145256605e1"
   },
   "outputs": [
    {
     "data": {
      "text/html": [
       "<style>.container { width:100% !important; }</style>"
      ],
      "text/plain": [
       "<IPython.core.display.HTML object>"
      ]
     },
     "metadata": {},
     "output_type": "display_data"
    }
   ],
   "source": [
    "import warnings\n",
    "warnings.filterwarnings('ignore')\n",
    "import numpy as np\n",
    "import pandas as pd\n",
    "import matplotlib.pyplot as plt\n",
    "import datetime\n",
    "import re\n",
    "\n",
    "from sklearn.preprocessing import StandardScaler\n",
    "#from sklearn.grid_search import GridSearchCV\n",
    "from sklearn.model_selection import GridSearchCV\n",
    "from sklearn.model_selection import train_test_split, StratifiedKFold, cross_val_score, RandomizedSearchCV\n",
    "from sklearn.linear_model import LogisticRegression\n",
    "from sklearn.metrics import roc_auc_score\n",
    "from sklearn.ensemble import RandomForestClassifier\n",
    "from sklearn.svm import LinearSVC\n",
    "from sklearn.pipeline import Pipeline\n",
    "from sklearn.feature_selection import SelectKBest, f_classif\n",
    "\n",
    "from xgboost import XGBClassifier\n",
    "\n",
    "from lightgbm import LGBMClassifier\n",
    "from catboost import CatBoostClassifier\n",
    "\n",
    "from IPython.display import display_html\n",
    "import eli5\n",
    "\n",
    "from IPython.core.display import display, HTML\n",
    "display(HTML(\"<style>.container { width:100% !important; }</style>\"))"
   ]
  },
  {
   "cell_type": "markdown",
   "metadata": {},
   "source": [
    "# Top settings"
   ]
  },
  {
   "cell_type": "code",
   "execution_count": 2,
   "metadata": {},
   "outputs": [],
   "source": [
    "N_JOBS = 8\n",
    "N_JOBS_ONE_FREE = 7\n",
    "N_JOBS_HALF = 4\n"
   ]
  },
  {
   "cell_type": "markdown",
   "metadata": {},
   "source": [
    "# Defs"
   ]
  },
  {
   "cell_type": "code",
   "execution_count": 3,
   "metadata": {},
   "outputs": [],
   "source": [
    "# <!-- collapse=True -->\n",
    "\n",
    "# Modified from http://scikit-learn.org/stable/auto_examples/plot_learning_curve.html\n",
    "#from sklearn.learning_curve import learning_curve\n",
    "from sklearn.model_selection import learning_curve\n",
    "def plot_learning_curve(estimator, title, X, y, ylim=None, cv=None,\n",
    "                        train_sizes=np.linspace(.1, 1.0, 5), scoring='roc_auc', n_jobs=4, verbose=0):\n",
    "    \"\"\"\n",
    "    Generate a simple plot of the test and traning learning curve.\n",
    "\n",
    "    Parameters\n",
    "    ----------\n",
    "    estimator : object type that implements the \"fit\" and \"predict\" methods\n",
    "        An object of that type which is cloned for each validation.\n",
    "\n",
    "    title : string\n",
    "        Title for the chart.\n",
    "\n",
    "    X : array-like, shape (n_samples, n_features)\n",
    "        Training vector, where n_samples is the number of samples and\n",
    "        n_features is the number of features.\n",
    "\n",
    "    y : array-like, shape (n_samples) or (n_samples, n_features), optional\n",
    "        Target relative to X for classification or regression;\n",
    "        None for unsupervised learning.\n",
    "\n",
    "    ylim : tuple, shape (ymin, ymax), optional\n",
    "        Defines minimum and maximum yvalues plotted.\n",
    "\n",
    "    cv : integer, cross-validation generator, optional\n",
    "        If an integer is passed, it is the number of folds (defaults to 3).\n",
    "        Specific cross-validation objects can be passed, see\n",
    "        sklearn.cross_validation module for the list of possible objects\n",
    "    \"\"\"\n",
    "    \n",
    "    plt.figure()\n",
    "    train_sizes, train_scores, test_scores = learning_curve(\n",
    "        estimator, X, y, cv=5, n_jobs=n_jobs, train_sizes=train_sizes, scoring=scoring, verbose=verbose)\n",
    "    train_scores_mean = np.mean(train_scores, axis=1)\n",
    "    train_scores_std = np.std(train_scores, axis=1)\n",
    "    test_scores_mean = np.mean(test_scores, axis=1)\n",
    "    test_scores_std = np.std(test_scores, axis=1)\n",
    "\n",
    "    plt.fill_between(train_sizes, train_scores_mean - train_scores_std,\n",
    "                     train_scores_mean + train_scores_std, alpha=0.1,\n",
    "                     color=\"r\")\n",
    "    plt.fill_between(train_sizes, test_scores_mean - test_scores_std,\n",
    "                     test_scores_mean + test_scores_std, alpha=0.1, color=\"g\")\n",
    "    plt.plot(train_sizes, train_scores_mean, 'o-', color=\"r\",\n",
    "             label=\"Training score\")\n",
    "    plt.plot(train_sizes, test_scores_mean, 'o-', color=\"g\",\n",
    "             label=\"Cross-validation score\")\n",
    "\n",
    "    plt.xlabel(\"Training examples\")\n",
    "    plt.ylabel(\"Score\")\n",
    "    plt.legend(loc=\"best\")\n",
    "    plt.grid(\"on\") \n",
    "    if ylim:\n",
    "        plt.ylim(ylim)\n",
    "    plt.title(title)"
   ]
  },
  {
   "cell_type": "code",
   "execution_count": 4,
   "metadata": {},
   "outputs": [],
   "source": [
    "def get_timestamp_without_msecs():\n",
    "    \"\"\"\n",
    "    Example: '2017-03-07T15:41:41.458000' -> '20170307T154141'\n",
    "    :return:\n",
    "    \"\"\"\n",
    "    timestamp = datetime.datetime.now().isoformat().replace('-', '').replace(':', '')\n",
    "    if re.match('^\\d{8}T\\d{6}$', timestamp):\n",
    "        # Zero microseconds case\n",
    "        timestamp += '.000000'        \n",
    "    assert re.match('^\\d{8}T\\d{6}\\.\\d{6}$', timestamp), \"Unexpected format of datetime: {}\".format(timestamp)\n",
    "    return timestamp[:-7]"
   ]
  },
  {
   "cell_type": "code",
   "execution_count": 5,
   "metadata": {},
   "outputs": [],
   "source": [
    "def gen_subm_name(suffix):\n",
    "    return 'subm_a3-3_{}_{}.csv'.format(get_timestamp_without_msecs(), suffix)"
   ]
  },
  {
   "cell_type": "code",
   "execution_count": 6,
   "metadata": {},
   "outputs": [],
   "source": [
    "def write_to_subm_file_a3_3(test_pred, submission_suffix):\n",
    "    fname = gen_subm_name(submission_suffix)\n",
    "    pd.Series(test_pred, \n",
    "          name='dep_delayed_15min').to_csv(fname, \n",
    "                                           index_label='id', header=True)\n",
    "    print('Submission written to: {}'.format(fname))\n",
    "    "
   ]
  },
  {
   "cell_type": "code",
   "execution_count": 7,
   "metadata": {},
   "outputs": [],
   "source": [
    "def train_and_predict(model, X_train, y_train, X_test, cv, submission_suffix, scoring='roc_auc',\n",
    "                      top_n_features_to_show=10):\n",
    "    \n",
    "    \n",
    "    cv_scores = cross_val_score(model, X_train, y_train, cv=cv, \n",
    "                            scoring=scoring, n_jobs=4, verbose=1)\n",
    "    print('CV scores', cv_scores)\n",
    "    print('CV mean: {}, CV std: {}'.format(cv_scores.mean(), cv_scores.std()))\n",
    "    model.fit(X_train, y_train)\n",
    "     \n",
    "    try:\n",
    "        display_html(eli5.show_weights(estimator=model, top=top_n_features_to_show))\n",
    "    except:\n",
    "        print(\"Exception in eli5.show_weights -> skip.\")\n",
    "    \n",
    "    if submission_suffix is None:\n",
    "        print('submission_suffix is None -> skip generating subm file.')\n",
    "    else:\n",
    "        print('Predicting on X_test: {}'.format(X_test.shape))\n",
    "        test_pred = model.predict_proba(X_test)[:, 1]\n",
    "        write_to_subm_file_a3_3(test_pred, submission_suffix)\n",
    "    \n",
    "    return cv_scores"
   ]
  },
  {
   "cell_type": "code",
   "execution_count": 8,
   "metadata": {},
   "outputs": [],
   "source": [
    "# Utility function to report best scores\n",
    "def grid_search_report(results, n_top=3):\n",
    "    for i in range(1, n_top + 1):\n",
    "        candidates = np.flatnonzero(results['rank_test_score'] == i)\n",
    "        for candidate in candidates:\n",
    "            print(\"Model with rank: {0}\".format(i))\n",
    "            print(\"Mean validation score: {0:.5f} (std: {1:.5f})\".format(\n",
    "                  results['mean_test_score'][candidate],\n",
    "                  results['std_test_score'][candidate]))\n",
    "            print(\"Parameters: {0}\".format(results['params'][candidate]))\n",
    "            print(\"\")"
   ]
  },
  {
   "cell_type": "markdown",
   "metadata": {},
   "source": [
    "Download data from the [competition page](https://www.kaggle.com/c/flight-delays-fall-2018/data) and change paths if needed."
   ]
  },
  {
   "cell_type": "markdown",
   "metadata": {},
   "source": [
    "# Load data"
   ]
  },
  {
   "cell_type": "code",
   "execution_count": 9,
   "metadata": {
    "_uuid": "2e7833f60e9392ba0526aec5b68ea8587ce90274"
   },
   "outputs": [],
   "source": [
    "train_df = pd.read_csv('data/flight_delays_train.csv')\n",
    "test_df = pd.read_csv('data/flight_delays_test.csv')"
   ]
  },
  {
   "cell_type": "code",
   "execution_count": 10,
   "metadata": {
    "_uuid": "c02aa9ea53a2733cd5683bd10beed2b561acf7bb",
    "scrolled": true
   },
   "outputs": [
    {
     "data": {
      "text/html": [
       "<div>\n",
       "<style scoped>\n",
       "    .dataframe tbody tr th:only-of-type {\n",
       "        vertical-align: middle;\n",
       "    }\n",
       "\n",
       "    .dataframe tbody tr th {\n",
       "        vertical-align: top;\n",
       "    }\n",
       "\n",
       "    .dataframe thead th {\n",
       "        text-align: right;\n",
       "    }\n",
       "</style>\n",
       "<table border=\"1\" class=\"dataframe\">\n",
       "  <thead>\n",
       "    <tr style=\"text-align: right;\">\n",
       "      <th></th>\n",
       "      <th>Month</th>\n",
       "      <th>DayofMonth</th>\n",
       "      <th>DayOfWeek</th>\n",
       "      <th>DepTime</th>\n",
       "      <th>UniqueCarrier</th>\n",
       "      <th>Origin</th>\n",
       "      <th>Dest</th>\n",
       "      <th>Distance</th>\n",
       "      <th>dep_delayed_15min</th>\n",
       "    </tr>\n",
       "  </thead>\n",
       "  <tbody>\n",
       "    <tr>\n",
       "      <th>0</th>\n",
       "      <td>c-8</td>\n",
       "      <td>c-21</td>\n",
       "      <td>c-7</td>\n",
       "      <td>1934</td>\n",
       "      <td>AA</td>\n",
       "      <td>ATL</td>\n",
       "      <td>DFW</td>\n",
       "      <td>732</td>\n",
       "      <td>N</td>\n",
       "    </tr>\n",
       "    <tr>\n",
       "      <th>1</th>\n",
       "      <td>c-4</td>\n",
       "      <td>c-20</td>\n",
       "      <td>c-3</td>\n",
       "      <td>1548</td>\n",
       "      <td>US</td>\n",
       "      <td>PIT</td>\n",
       "      <td>MCO</td>\n",
       "      <td>834</td>\n",
       "      <td>N</td>\n",
       "    </tr>\n",
       "    <tr>\n",
       "      <th>2</th>\n",
       "      <td>c-9</td>\n",
       "      <td>c-2</td>\n",
       "      <td>c-5</td>\n",
       "      <td>1422</td>\n",
       "      <td>XE</td>\n",
       "      <td>RDU</td>\n",
       "      <td>CLE</td>\n",
       "      <td>416</td>\n",
       "      <td>N</td>\n",
       "    </tr>\n",
       "    <tr>\n",
       "      <th>3</th>\n",
       "      <td>c-11</td>\n",
       "      <td>c-25</td>\n",
       "      <td>c-6</td>\n",
       "      <td>1015</td>\n",
       "      <td>OO</td>\n",
       "      <td>DEN</td>\n",
       "      <td>MEM</td>\n",
       "      <td>872</td>\n",
       "      <td>N</td>\n",
       "    </tr>\n",
       "    <tr>\n",
       "      <th>4</th>\n",
       "      <td>c-10</td>\n",
       "      <td>c-7</td>\n",
       "      <td>c-6</td>\n",
       "      <td>1828</td>\n",
       "      <td>WN</td>\n",
       "      <td>MDW</td>\n",
       "      <td>OMA</td>\n",
       "      <td>423</td>\n",
       "      <td>Y</td>\n",
       "    </tr>\n",
       "  </tbody>\n",
       "</table>\n",
       "</div>"
      ],
      "text/plain": [
       "  Month DayofMonth DayOfWeek  DepTime UniqueCarrier Origin Dest  Distance  \\\n",
       "0   c-8       c-21       c-7     1934            AA    ATL  DFW       732   \n",
       "1   c-4       c-20       c-3     1548            US    PIT  MCO       834   \n",
       "2   c-9        c-2       c-5     1422            XE    RDU  CLE       416   \n",
       "3  c-11       c-25       c-6     1015            OO    DEN  MEM       872   \n",
       "4  c-10        c-7       c-6     1828            WN    MDW  OMA       423   \n",
       "\n",
       "  dep_delayed_15min  \n",
       "0                 N  \n",
       "1                 N  \n",
       "2                 N  \n",
       "3                 N  \n",
       "4                 Y  "
      ]
     },
     "execution_count": 10,
     "metadata": {},
     "output_type": "execute_result"
    }
   ],
   "source": [
    "train_df.head()"
   ]
  },
  {
   "cell_type": "code",
   "execution_count": 11,
   "metadata": {
    "scrolled": false
   },
   "outputs": [
    {
     "data": {
      "text/html": [
       "<div>\n",
       "<style scoped>\n",
       "    .dataframe tbody tr th:only-of-type {\n",
       "        vertical-align: middle;\n",
       "    }\n",
       "\n",
       "    .dataframe tbody tr th {\n",
       "        vertical-align: top;\n",
       "    }\n",
       "\n",
       "    .dataframe thead th {\n",
       "        text-align: right;\n",
       "    }\n",
       "</style>\n",
       "<table border=\"1\" class=\"dataframe\">\n",
       "  <thead>\n",
       "    <tr style=\"text-align: right;\">\n",
       "      <th></th>\n",
       "      <th>Month</th>\n",
       "      <th>DayofMonth</th>\n",
       "      <th>DayOfWeek</th>\n",
       "      <th>DepTime</th>\n",
       "      <th>UniqueCarrier</th>\n",
       "      <th>Origin</th>\n",
       "      <th>Dest</th>\n",
       "      <th>Distance</th>\n",
       "      <th>dep_delayed_15min</th>\n",
       "    </tr>\n",
       "  </thead>\n",
       "  <tbody>\n",
       "    <tr>\n",
       "      <th>count</th>\n",
       "      <td>100000</td>\n",
       "      <td>100000</td>\n",
       "      <td>100000</td>\n",
       "      <td>100000.000000</td>\n",
       "      <td>100000</td>\n",
       "      <td>100000</td>\n",
       "      <td>100000</td>\n",
       "      <td>100000.00000</td>\n",
       "      <td>100000</td>\n",
       "    </tr>\n",
       "    <tr>\n",
       "      <th>unique</th>\n",
       "      <td>12</td>\n",
       "      <td>31</td>\n",
       "      <td>7</td>\n",
       "      <td>NaN</td>\n",
       "      <td>22</td>\n",
       "      <td>289</td>\n",
       "      <td>289</td>\n",
       "      <td>NaN</td>\n",
       "      <td>2</td>\n",
       "    </tr>\n",
       "    <tr>\n",
       "      <th>top</th>\n",
       "      <td>c-8</td>\n",
       "      <td>c-1</td>\n",
       "      <td>c-4</td>\n",
       "      <td>NaN</td>\n",
       "      <td>WN</td>\n",
       "      <td>ATL</td>\n",
       "      <td>ATL</td>\n",
       "      <td>NaN</td>\n",
       "      <td>N</td>\n",
       "    </tr>\n",
       "    <tr>\n",
       "      <th>freq</th>\n",
       "      <td>8830</td>\n",
       "      <td>3399</td>\n",
       "      <td>14736</td>\n",
       "      <td>NaN</td>\n",
       "      <td>15082</td>\n",
       "      <td>5834</td>\n",
       "      <td>5795</td>\n",
       "      <td>NaN</td>\n",
       "      <td>80956</td>\n",
       "    </tr>\n",
       "    <tr>\n",
       "      <th>mean</th>\n",
       "      <td>NaN</td>\n",
       "      <td>NaN</td>\n",
       "      <td>NaN</td>\n",
       "      <td>1341.523880</td>\n",
       "      <td>NaN</td>\n",
       "      <td>NaN</td>\n",
       "      <td>NaN</td>\n",
       "      <td>729.39716</td>\n",
       "      <td>NaN</td>\n",
       "    </tr>\n",
       "    <tr>\n",
       "      <th>std</th>\n",
       "      <td>NaN</td>\n",
       "      <td>NaN</td>\n",
       "      <td>NaN</td>\n",
       "      <td>476.378445</td>\n",
       "      <td>NaN</td>\n",
       "      <td>NaN</td>\n",
       "      <td>NaN</td>\n",
       "      <td>574.61686</td>\n",
       "      <td>NaN</td>\n",
       "    </tr>\n",
       "    <tr>\n",
       "      <th>min</th>\n",
       "      <td>NaN</td>\n",
       "      <td>NaN</td>\n",
       "      <td>NaN</td>\n",
       "      <td>1.000000</td>\n",
       "      <td>NaN</td>\n",
       "      <td>NaN</td>\n",
       "      <td>NaN</td>\n",
       "      <td>30.00000</td>\n",
       "      <td>NaN</td>\n",
       "    </tr>\n",
       "    <tr>\n",
       "      <th>25%</th>\n",
       "      <td>NaN</td>\n",
       "      <td>NaN</td>\n",
       "      <td>NaN</td>\n",
       "      <td>931.000000</td>\n",
       "      <td>NaN</td>\n",
       "      <td>NaN</td>\n",
       "      <td>NaN</td>\n",
       "      <td>317.00000</td>\n",
       "      <td>NaN</td>\n",
       "    </tr>\n",
       "    <tr>\n",
       "      <th>50%</th>\n",
       "      <td>NaN</td>\n",
       "      <td>NaN</td>\n",
       "      <td>NaN</td>\n",
       "      <td>1330.000000</td>\n",
       "      <td>NaN</td>\n",
       "      <td>NaN</td>\n",
       "      <td>NaN</td>\n",
       "      <td>575.00000</td>\n",
       "      <td>NaN</td>\n",
       "    </tr>\n",
       "    <tr>\n",
       "      <th>75%</th>\n",
       "      <td>NaN</td>\n",
       "      <td>NaN</td>\n",
       "      <td>NaN</td>\n",
       "      <td>1733.000000</td>\n",
       "      <td>NaN</td>\n",
       "      <td>NaN</td>\n",
       "      <td>NaN</td>\n",
       "      <td>957.00000</td>\n",
       "      <td>NaN</td>\n",
       "    </tr>\n",
       "    <tr>\n",
       "      <th>max</th>\n",
       "      <td>NaN</td>\n",
       "      <td>NaN</td>\n",
       "      <td>NaN</td>\n",
       "      <td>2534.000000</td>\n",
       "      <td>NaN</td>\n",
       "      <td>NaN</td>\n",
       "      <td>NaN</td>\n",
       "      <td>4962.00000</td>\n",
       "      <td>NaN</td>\n",
       "    </tr>\n",
       "  </tbody>\n",
       "</table>\n",
       "</div>"
      ],
      "text/plain": [
       "         Month DayofMonth DayOfWeek        DepTime UniqueCarrier  Origin  \\\n",
       "count   100000     100000    100000  100000.000000        100000  100000   \n",
       "unique      12         31         7            NaN            22     289   \n",
       "top        c-8        c-1       c-4            NaN            WN     ATL   \n",
       "freq      8830       3399     14736            NaN         15082    5834   \n",
       "mean       NaN        NaN       NaN    1341.523880           NaN     NaN   \n",
       "std        NaN        NaN       NaN     476.378445           NaN     NaN   \n",
       "min        NaN        NaN       NaN       1.000000           NaN     NaN   \n",
       "25%        NaN        NaN       NaN     931.000000           NaN     NaN   \n",
       "50%        NaN        NaN       NaN    1330.000000           NaN     NaN   \n",
       "75%        NaN        NaN       NaN    1733.000000           NaN     NaN   \n",
       "max        NaN        NaN       NaN    2534.000000           NaN     NaN   \n",
       "\n",
       "          Dest      Distance dep_delayed_15min  \n",
       "count   100000  100000.00000            100000  \n",
       "unique     289           NaN                 2  \n",
       "top        ATL           NaN                 N  \n",
       "freq      5795           NaN             80956  \n",
       "mean       NaN     729.39716               NaN  \n",
       "std        NaN     574.61686               NaN  \n",
       "min        NaN      30.00000               NaN  \n",
       "25%        NaN     317.00000               NaN  \n",
       "50%        NaN     575.00000               NaN  \n",
       "75%        NaN     957.00000               NaN  \n",
       "max        NaN    4962.00000               NaN  "
      ]
     },
     "execution_count": 11,
     "metadata": {},
     "output_type": "execute_result"
    }
   ],
   "source": [
    "train_df.describe(include='all')"
   ]
  },
  {
   "cell_type": "code",
   "execution_count": 12,
   "metadata": {},
   "outputs": [
    {
     "data": {
      "text/plain": [
       "<matplotlib.axes._subplots.AxesSubplot at 0x7f7251259a90>"
      ]
     },
     "execution_count": 12,
     "metadata": {},
     "output_type": "execute_result"
    },
    {
     "data": {
      "image/png": "[encoded data removed]",
      "text/plain": [
       "<Figure size 432x288 with 1 Axes>"
      ]
     },
     "metadata": {
      "needs_background": "light"
     },
     "output_type": "display_data"
    }
   ],
   "source": [
    "train_df.Distance.hist(bins=40)"
   ]
  },
  {
   "cell_type": "code",
   "execution_count": 13,
   "metadata": {
    "_uuid": "4a0f1e18cc9b10cfd4f098183511f21722e61752",
    "scrolled": true
   },
   "outputs": [
    {
     "data": {
      "text/html": [
       "<div>\n",
       "<style scoped>\n",
       "    .dataframe tbody tr th:only-of-type {\n",
       "        vertical-align: middle;\n",
       "    }\n",
       "\n",
       "    .dataframe tbody tr th {\n",
       "        vertical-align: top;\n",
       "    }\n",
       "\n",
       "    .dataframe thead th {\n",
       "        text-align: right;\n",
       "    }\n",
       "</style>\n",
       "<table border=\"1\" class=\"dataframe\">\n",
       "  <thead>\n",
       "    <tr style=\"text-align: right;\">\n",
       "      <th></th>\n",
       "      <th>Month</th>\n",
       "      <th>DayofMonth</th>\n",
       "      <th>DayOfWeek</th>\n",
       "      <th>DepTime</th>\n",
       "      <th>UniqueCarrier</th>\n",
       "      <th>Origin</th>\n",
       "      <th>Dest</th>\n",
       "      <th>Distance</th>\n",
       "    </tr>\n",
       "  </thead>\n",
       "  <tbody>\n",
       "    <tr>\n",
       "      <th>0</th>\n",
       "      <td>c-7</td>\n",
       "      <td>c-25</td>\n",
       "      <td>c-3</td>\n",
       "      <td>615</td>\n",
       "      <td>YV</td>\n",
       "      <td>MRY</td>\n",
       "      <td>PHX</td>\n",
       "      <td>598</td>\n",
       "    </tr>\n",
       "    <tr>\n",
       "      <th>1</th>\n",
       "      <td>c-4</td>\n",
       "      <td>c-17</td>\n",
       "      <td>c-2</td>\n",
       "      <td>739</td>\n",
       "      <td>WN</td>\n",
       "      <td>LAS</td>\n",
       "      <td>HOU</td>\n",
       "      <td>1235</td>\n",
       "    </tr>\n",
       "    <tr>\n",
       "      <th>2</th>\n",
       "      <td>c-12</td>\n",
       "      <td>c-2</td>\n",
       "      <td>c-7</td>\n",
       "      <td>651</td>\n",
       "      <td>MQ</td>\n",
       "      <td>GSP</td>\n",
       "      <td>ORD</td>\n",
       "      <td>577</td>\n",
       "    </tr>\n",
       "    <tr>\n",
       "      <th>3</th>\n",
       "      <td>c-3</td>\n",
       "      <td>c-25</td>\n",
       "      <td>c-7</td>\n",
       "      <td>1614</td>\n",
       "      <td>WN</td>\n",
       "      <td>BWI</td>\n",
       "      <td>MHT</td>\n",
       "      <td>377</td>\n",
       "    </tr>\n",
       "    <tr>\n",
       "      <th>4</th>\n",
       "      <td>c-6</td>\n",
       "      <td>c-6</td>\n",
       "      <td>c-3</td>\n",
       "      <td>1505</td>\n",
       "      <td>UA</td>\n",
       "      <td>ORD</td>\n",
       "      <td>STL</td>\n",
       "      <td>258</td>\n",
       "    </tr>\n",
       "  </tbody>\n",
       "</table>\n",
       "</div>"
      ],
      "text/plain": [
       "  Month DayofMonth DayOfWeek  DepTime UniqueCarrier Origin Dest  Distance\n",
       "0   c-7       c-25       c-3      615            YV    MRY  PHX       598\n",
       "1   c-4       c-17       c-2      739            WN    LAS  HOU      1235\n",
       "2  c-12        c-2       c-7      651            MQ    GSP  ORD       577\n",
       "3   c-3       c-25       c-7     1614            WN    BWI  MHT       377\n",
       "4   c-6        c-6       c-3     1505            UA    ORD  STL       258"
      ]
     },
     "execution_count": 13,
     "metadata": {},
     "output_type": "execute_result"
    }
   ],
   "source": [
    "test_df.head()"
   ]
  },
  {
   "cell_type": "markdown",
   "metadata": {
    "_uuid": "ce71f38fec3d94108609ef0cae861010ab0e8ca6"
   },
   "source": [
    "Given flight departure time, carrier's code, departure airport, destination location, and flight distance, you have to predict departure delay for more than 15 minutes. As the simplest benchmark, let's take logistic regression and two features that are easiest to take: DepTime and Distance. This will correspond to **\"simple logit baseline\"** on Public LB."
   ]
  },
  {
   "cell_type": "markdown",
   "metadata": {},
   "source": [
    "# Simple baseline"
   ]
  },
  {
   "cell_type": "code",
   "execution_count": 14,
   "metadata": {},
   "outputs": [],
   "source": [
    "X_train = train_df[['Distance', 'DepTime']].values \n",
    "y_train = train_df['dep_delayed_15min'].map({'Y': 1, 'N': 0}).values\n",
    "X_test = test_df[['Distance', 'DepTime']].values\n",
    "\n",
    "X_train_part, X_valid, y_train_part, y_valid = \\\n",
    "    train_test_split(X_train, y_train, \n",
    "                     test_size=0.3, random_state=17)"
   ]
  },
  {
   "cell_type": "code",
   "execution_count": 15,
   "metadata": {},
   "outputs": [],
   "source": [
    "logit_pipe = Pipeline([('scaler', StandardScaler()),\n",
    "                       ('logit', LogisticRegression(C=1, random_state=17, solver='liblinear'))])"
   ]
  },
  {
   "cell_type": "code",
   "execution_count": 16,
   "metadata": {},
   "outputs": [
    {
     "data": {
      "text/plain": [
       "0.6795691465352607"
      ]
     },
     "execution_count": 16,
     "metadata": {},
     "output_type": "execute_result"
    }
   ],
   "source": [
    "logit_pipe.fit(X_train_part, y_train_part)\n",
    "logit_valid_pred = logit_pipe.predict_proba(X_valid)[:, 1]\n",
    "\n",
    "roc_auc_score(y_valid, logit_valid_pred)"
   ]
  },
  {
   "cell_type": "code",
   "execution_count": 17,
   "metadata": {},
   "outputs": [
    {
     "name": "stdout",
     "output_type": "stream",
     "text": [
      "subm_a3-3_20190330T184041_logit_2feat.csv\n"
     ]
    }
   ],
   "source": [
    "logit_pipe.fit(X_train, y_train)\n",
    "logit_test_pred = logit_pipe.predict_proba(X_test)[:, 1]\n",
    "\n",
    "fname = gen_subm_name('logit_2feat')\n",
    "print(fname)\n",
    "pd.Series(logit_test_pred, \n",
    "          name='dep_delayed_15min').to_csv(fname, \n",
    "                                           index_label='id', header=True)"
   ]
  },
  {
   "cell_type": "markdown",
   "metadata": {},
   "source": [
    "# Try other estimators"
   ]
  },
  {
   "cell_type": "code",
   "execution_count": 18,
   "metadata": {},
   "outputs": [],
   "source": [
    "# ests = [('LogitPipe', logit_pipe),\n",
    "# #         (\"LinearSVC(C=10.0)\", LinearSVC(C=10.0)), \n",
    "#         ('LR', LogisticRegression(C=1, random_state=17, solver='liblinear')),\n",
    "#         (\"LGBM\", LGBMClassifier(random_state=17)), \n",
    "#         (\"LGBM_100est\", LGBMClassifier(random_state=17, n_estimators=100)),\n",
    "#         (\"XGBC_100est\", XGBClassifier(random_state=17, n_estimators=100)),\n",
    "#         (\"rf_100est\", RandomForestClassifier(random_state=17, n_estimators=100)),\n",
    "#         (\"cat_100est\", CatBoostClassifier(random_state=17, n_estimators=100, verbose=0))]\n",
    "# scores = []\n",
    "# for name, est in ests:\n",
    "#     %time est.fit(X_train_part, y_train_part)\n",
    "#     est_pred = est.predict_proba(X_valid)[:, 1]\n",
    "#     score = roc_auc_score(y_valid, est_pred)\n",
    "#     scores.append(score)\n",
    "#     print(name, score)\n"
   ]
  },
  {
   "cell_type": "code",
   "execution_count": 19,
   "metadata": {},
   "outputs": [],
   "source": [
    "# names = [x[0] for x in ests]\n",
    "# print(names)\n",
    "# print(scores)"
   ]
  },
  {
   "cell_type": "code",
   "execution_count": 20,
   "metadata": {
    "scrolled": true
   },
   "outputs": [],
   "source": [
    "# plt.bar(range(len(names)), scores)"
   ]
  },
  {
   "cell_type": "markdown",
   "metadata": {},
   "source": [
    "# Process categorical feature"
   ]
  },
  {
   "cell_type": "code",
   "execution_count": 21,
   "metadata": {},
   "outputs": [],
   "source": [
    "train_df = pd.read_csv('data/flight_delays_train.csv')\n",
    "test_df = pd.read_csv('data/flight_delays_test.csv')"
   ]
  },
  {
   "cell_type": "code",
   "execution_count": 22,
   "metadata": {},
   "outputs": [],
   "source": [
    "train_df['DepTime'] = train_df['DepTime'].apply(lambda x: '{0:0>4}'.format(x))\n",
    "test_df['DepTime'] = test_df['DepTime'].apply(lambda x: '{0:0>4}'.format(x))"
   ]
  },
  {
   "cell_type": "code",
   "execution_count": 23,
   "metadata": {},
   "outputs": [
    {
     "data": {
      "text/html": [
       "<div>\n",
       "<style scoped>\n",
       "    .dataframe tbody tr th:only-of-type {\n",
       "        vertical-align: middle;\n",
       "    }\n",
       "\n",
       "    .dataframe tbody tr th {\n",
       "        vertical-align: top;\n",
       "    }\n",
       "\n",
       "    .dataframe thead th {\n",
       "        text-align: right;\n",
       "    }\n",
       "</style>\n",
       "<table border=\"1\" class=\"dataframe\">\n",
       "  <thead>\n",
       "    <tr style=\"text-align: right;\">\n",
       "      <th></th>\n",
       "      <th>Month</th>\n",
       "      <th>DayofMonth</th>\n",
       "      <th>DayOfWeek</th>\n",
       "      <th>DepTime</th>\n",
       "      <th>UniqueCarrier</th>\n",
       "      <th>Origin</th>\n",
       "      <th>Dest</th>\n",
       "      <th>Distance</th>\n",
       "      <th>dep_delayed_15min</th>\n",
       "    </tr>\n",
       "  </thead>\n",
       "  <tbody>\n",
       "    <tr>\n",
       "      <th>3558</th>\n",
       "      <td>c-7</td>\n",
       "      <td>c-9</td>\n",
       "      <td>c-6</td>\n",
       "      <td>2400</td>\n",
       "      <td>B6</td>\n",
       "      <td>OAK</td>\n",
       "      <td>IAD</td>\n",
       "      <td>2408</td>\n",
       "      <td>Y</td>\n",
       "    </tr>\n",
       "    <tr>\n",
       "      <th>6423</th>\n",
       "      <td>c-9</td>\n",
       "      <td>c-7</td>\n",
       "      <td>c-3</td>\n",
       "      <td>2400</td>\n",
       "      <td>B6</td>\n",
       "      <td>SEA</td>\n",
       "      <td>JFK</td>\n",
       "      <td>2421</td>\n",
       "      <td>N</td>\n",
       "    </tr>\n",
       "    <tr>\n",
       "      <th>8189</th>\n",
       "      <td>c-6</td>\n",
       "      <td>c-14</td>\n",
       "      <td>c-2</td>\n",
       "      <td>2435</td>\n",
       "      <td>EV</td>\n",
       "      <td>CVG</td>\n",
       "      <td>AVL</td>\n",
       "      <td>275</td>\n",
       "      <td>Y</td>\n",
       "    </tr>\n",
       "    <tr>\n",
       "      <th>11652</th>\n",
       "      <td>c-12</td>\n",
       "      <td>c-9</td>\n",
       "      <td>c-6</td>\n",
       "      <td>2400</td>\n",
       "      <td>US</td>\n",
       "      <td>LAS</td>\n",
       "      <td>OAK</td>\n",
       "      <td>407</td>\n",
       "      <td>N</td>\n",
       "    </tr>\n",
       "    <tr>\n",
       "      <th>16603</th>\n",
       "      <td>c-3</td>\n",
       "      <td>c-27</td>\n",
       "      <td>c-7</td>\n",
       "      <td>2400</td>\n",
       "      <td>HP</td>\n",
       "      <td>LAS</td>\n",
       "      <td>ATL</td>\n",
       "      <td>1747</td>\n",
       "      <td>Y</td>\n",
       "    </tr>\n",
       "    <tr>\n",
       "      <th>20766</th>\n",
       "      <td>c-5</td>\n",
       "      <td>c-31</td>\n",
       "      <td>c-2</td>\n",
       "      <td>2534</td>\n",
       "      <td>EV</td>\n",
       "      <td>ATL</td>\n",
       "      <td>HSV</td>\n",
       "      <td>151</td>\n",
       "      <td>Y</td>\n",
       "    </tr>\n",
       "    <tr>\n",
       "      <th>24350</th>\n",
       "      <td>c-12</td>\n",
       "      <td>c-27</td>\n",
       "      <td>c-2</td>\n",
       "      <td>2400</td>\n",
       "      <td>DL</td>\n",
       "      <td>LAX</td>\n",
       "      <td>CVG</td>\n",
       "      <td>1900</td>\n",
       "      <td>N</td>\n",
       "    </tr>\n",
       "    <tr>\n",
       "      <th>27391</th>\n",
       "      <td>c-3</td>\n",
       "      <td>c-23</td>\n",
       "      <td>c-4</td>\n",
       "      <td>2505</td>\n",
       "      <td>EV</td>\n",
       "      <td>ATL</td>\n",
       "      <td>AGS</td>\n",
       "      <td>143</td>\n",
       "      <td>Y</td>\n",
       "    </tr>\n",
       "    <tr>\n",
       "      <th>44332</th>\n",
       "      <td>c-7</td>\n",
       "      <td>c-15</td>\n",
       "      <td>c-5</td>\n",
       "      <td>2440</td>\n",
       "      <td>EV</td>\n",
       "      <td>ATL</td>\n",
       "      <td>SHV</td>\n",
       "      <td>552</td>\n",
       "      <td>Y</td>\n",
       "    </tr>\n",
       "    <tr>\n",
       "      <th>45796</th>\n",
       "      <td>c-8</td>\n",
       "      <td>c-18</td>\n",
       "      <td>c-4</td>\n",
       "      <td>2447</td>\n",
       "      <td>EV</td>\n",
       "      <td>ATL</td>\n",
       "      <td>JAN</td>\n",
       "      <td>341</td>\n",
       "      <td>Y</td>\n",
       "    </tr>\n",
       "    <tr>\n",
       "      <th>47218</th>\n",
       "      <td>c-1</td>\n",
       "      <td>c-2</td>\n",
       "      <td>c-1</td>\n",
       "      <td>2500</td>\n",
       "      <td>EV</td>\n",
       "      <td>ATL</td>\n",
       "      <td>ILM</td>\n",
       "      <td>377</td>\n",
       "      <td>Y</td>\n",
       "    </tr>\n",
       "    <tr>\n",
       "      <th>48180</th>\n",
       "      <td>c-2</td>\n",
       "      <td>c-27</td>\n",
       "      <td>c-7</td>\n",
       "      <td>2514</td>\n",
       "      <td>EV</td>\n",
       "      <td>ATL</td>\n",
       "      <td>CAE</td>\n",
       "      <td>191</td>\n",
       "      <td>Y</td>\n",
       "    </tr>\n",
       "    <tr>\n",
       "      <th>55909</th>\n",
       "      <td>c-8</td>\n",
       "      <td>c-9</td>\n",
       "      <td>c-3</td>\n",
       "      <td>2417</td>\n",
       "      <td>EV</td>\n",
       "      <td>ATL</td>\n",
       "      <td>SYR</td>\n",
       "      <td>793</td>\n",
       "      <td>Y</td>\n",
       "    </tr>\n",
       "    <tr>\n",
       "      <th>59857</th>\n",
       "      <td>c-5</td>\n",
       "      <td>c-28</td>\n",
       "      <td>c-6</td>\n",
       "      <td>2400</td>\n",
       "      <td>B6</td>\n",
       "      <td>PDX</td>\n",
       "      <td>JFK</td>\n",
       "      <td>2454</td>\n",
       "      <td>N</td>\n",
       "    </tr>\n",
       "    <tr>\n",
       "      <th>60639</th>\n",
       "      <td>c-1</td>\n",
       "      <td>c-8</td>\n",
       "      <td>c-7</td>\n",
       "      <td>2459</td>\n",
       "      <td>EV</td>\n",
       "      <td>ATL</td>\n",
       "      <td>JAN</td>\n",
       "      <td>341</td>\n",
       "      <td>Y</td>\n",
       "    </tr>\n",
       "    <tr>\n",
       "      <th>62669</th>\n",
       "      <td>c-3</td>\n",
       "      <td>c-20</td>\n",
       "      <td>c-1</td>\n",
       "      <td>2412</td>\n",
       "      <td>EV</td>\n",
       "      <td>ATL</td>\n",
       "      <td>GSP</td>\n",
       "      <td>153</td>\n",
       "      <td>Y</td>\n",
       "    </tr>\n",
       "    <tr>\n",
       "      <th>66223</th>\n",
       "      <td>c-7</td>\n",
       "      <td>c-4</td>\n",
       "      <td>c-1</td>\n",
       "      <td>2400</td>\n",
       "      <td>EV</td>\n",
       "      <td>ATL</td>\n",
       "      <td>DHN</td>\n",
       "      <td>171</td>\n",
       "      <td>Y</td>\n",
       "    </tr>\n",
       "    <tr>\n",
       "      <th>73435</th>\n",
       "      <td>c-8</td>\n",
       "      <td>c-14</td>\n",
       "      <td>c-7</td>\n",
       "      <td>2418</td>\n",
       "      <td>EV</td>\n",
       "      <td>CHA</td>\n",
       "      <td>ATL</td>\n",
       "      <td>106</td>\n",
       "      <td>Y</td>\n",
       "    </tr>\n",
       "    <tr>\n",
       "      <th>73532</th>\n",
       "      <td>c-10</td>\n",
       "      <td>c-22</td>\n",
       "      <td>c-7</td>\n",
       "      <td>2400</td>\n",
       "      <td>FL</td>\n",
       "      <td>ATL</td>\n",
       "      <td>DFW</td>\n",
       "      <td>732</td>\n",
       "      <td>Y</td>\n",
       "    </tr>\n",
       "    <tr>\n",
       "      <th>75602</th>\n",
       "      <td>c-7</td>\n",
       "      <td>c-9</td>\n",
       "      <td>c-7</td>\n",
       "      <td>2400</td>\n",
       "      <td>UA</td>\n",
       "      <td>DEN</td>\n",
       "      <td>PHX</td>\n",
       "      <td>602</td>\n",
       "      <td>Y</td>\n",
       "    </tr>\n",
       "    <tr>\n",
       "      <th>76370</th>\n",
       "      <td>c-8</td>\n",
       "      <td>c-11</td>\n",
       "      <td>c-5</td>\n",
       "      <td>2401</td>\n",
       "      <td>EV</td>\n",
       "      <td>ATL</td>\n",
       "      <td>CLE</td>\n",
       "      <td>554</td>\n",
       "      <td>Y</td>\n",
       "    </tr>\n",
       "    <tr>\n",
       "      <th>76854</th>\n",
       "      <td>c-1</td>\n",
       "      <td>c-23</td>\n",
       "      <td>c-1</td>\n",
       "      <td>2400</td>\n",
       "      <td>US</td>\n",
       "      <td>LAS</td>\n",
       "      <td>PHX</td>\n",
       "      <td>256</td>\n",
       "      <td>N</td>\n",
       "    </tr>\n",
       "    <tr>\n",
       "      <th>77163</th>\n",
       "      <td>c-2</td>\n",
       "      <td>c-27</td>\n",
       "      <td>c-7</td>\n",
       "      <td>2522</td>\n",
       "      <td>EV</td>\n",
       "      <td>CVG</td>\n",
       "      <td>SHV</td>\n",
       "      <td>686</td>\n",
       "      <td>Y</td>\n",
       "    </tr>\n",
       "    <tr>\n",
       "      <th>83842</th>\n",
       "      <td>c-3</td>\n",
       "      <td>c-7</td>\n",
       "      <td>c-1</td>\n",
       "      <td>2400</td>\n",
       "      <td>EV</td>\n",
       "      <td>ATL</td>\n",
       "      <td>STL</td>\n",
       "      <td>483</td>\n",
       "      <td>Y</td>\n",
       "    </tr>\n",
       "    <tr>\n",
       "      <th>93122</th>\n",
       "      <td>c-7</td>\n",
       "      <td>c-31</td>\n",
       "      <td>c-7</td>\n",
       "      <td>2435</td>\n",
       "      <td>EV</td>\n",
       "      <td>ATL</td>\n",
       "      <td>AVL</td>\n",
       "      <td>164</td>\n",
       "      <td>Y</td>\n",
       "    </tr>\n",
       "    <tr>\n",
       "      <th>93784</th>\n",
       "      <td>c-9</td>\n",
       "      <td>c-16</td>\n",
       "      <td>c-5</td>\n",
       "      <td>2450</td>\n",
       "      <td>EV</td>\n",
       "      <td>GNV</td>\n",
       "      <td>ATL</td>\n",
       "      <td>300</td>\n",
       "      <td>Y</td>\n",
       "    </tr>\n",
       "    <tr>\n",
       "      <th>98212</th>\n",
       "      <td>c-6</td>\n",
       "      <td>c-23</td>\n",
       "      <td>c-5</td>\n",
       "      <td>2400</td>\n",
       "      <td>DL</td>\n",
       "      <td>LAX</td>\n",
       "      <td>JFK</td>\n",
       "      <td>2475</td>\n",
       "      <td>Y</td>\n",
       "    </tr>\n",
       "    <tr>\n",
       "      <th>98924</th>\n",
       "      <td>c-7</td>\n",
       "      <td>c-5</td>\n",
       "      <td>c-2</td>\n",
       "      <td>2530</td>\n",
       "      <td>EV</td>\n",
       "      <td>ATL</td>\n",
       "      <td>GNV</td>\n",
       "      <td>300</td>\n",
       "      <td>Y</td>\n",
       "    </tr>\n",
       "    <tr>\n",
       "      <th>99072</th>\n",
       "      <td>c-4</td>\n",
       "      <td>c-30</td>\n",
       "      <td>c-6</td>\n",
       "      <td>2415</td>\n",
       "      <td>EV</td>\n",
       "      <td>CAE</td>\n",
       "      <td>ATL</td>\n",
       "      <td>191</td>\n",
       "      <td>Y</td>\n",
       "    </tr>\n",
       "  </tbody>\n",
       "</table>\n",
       "</div>"
      ],
      "text/plain": [
       "      Month DayofMonth DayOfWeek DepTime UniqueCarrier Origin Dest  Distance  \\\n",
       "3558    c-7        c-9       c-6    2400            B6    OAK  IAD      2408   \n",
       "6423    c-9        c-7       c-3    2400            B6    SEA  JFK      2421   \n",
       "8189    c-6       c-14       c-2    2435            EV    CVG  AVL       275   \n",
       "11652  c-12        c-9       c-6    2400            US    LAS  OAK       407   \n",
       "16603   c-3       c-27       c-7    2400            HP    LAS  ATL      1747   \n",
       "20766   c-5       c-31       c-2    2534            EV    ATL  HSV       151   \n",
       "24350  c-12       c-27       c-2    2400            DL    LAX  CVG      1900   \n",
       "27391   c-3       c-23       c-4    2505            EV    ATL  AGS       143   \n",
       "44332   c-7       c-15       c-5    2440            EV    ATL  SHV       552   \n",
       "45796   c-8       c-18       c-4    2447            EV    ATL  JAN       341   \n",
       "47218   c-1        c-2       c-1    2500            EV    ATL  ILM       377   \n",
       "48180   c-2       c-27       c-7    2514            EV    ATL  CAE       191   \n",
       "55909   c-8        c-9       c-3    2417            EV    ATL  SYR       793   \n",
       "59857   c-5       c-28       c-6    2400            B6    PDX  JFK      2454   \n",
       "60639   c-1        c-8       c-7    2459            EV    ATL  JAN       341   \n",
       "62669   c-3       c-20       c-1    2412            EV    ATL  GSP       153   \n",
       "66223   c-7        c-4       c-1    2400            EV    ATL  DHN       171   \n",
       "73435   c-8       c-14       c-7    2418            EV    CHA  ATL       106   \n",
       "73532  c-10       c-22       c-7    2400            FL    ATL  DFW       732   \n",
       "75602   c-7        c-9       c-7    2400            UA    DEN  PHX       602   \n",
       "76370   c-8       c-11       c-5    2401            EV    ATL  CLE       554   \n",
       "76854   c-1       c-23       c-1    2400            US    LAS  PHX       256   \n",
       "77163   c-2       c-27       c-7    2522            EV    CVG  SHV       686   \n",
       "83842   c-3        c-7       c-1    2400            EV    ATL  STL       483   \n",
       "93122   c-7       c-31       c-7    2435            EV    ATL  AVL       164   \n",
       "93784   c-9       c-16       c-5    2450            EV    GNV  ATL       300   \n",
       "98212   c-6       c-23       c-5    2400            DL    LAX  JFK      2475   \n",
       "98924   c-7        c-5       c-2    2530            EV    ATL  GNV       300   \n",
       "99072   c-4       c-30       c-6    2415            EV    CAE  ATL       191   \n",
       "\n",
       "      dep_delayed_15min  \n",
       "3558                  Y  \n",
       "6423                  N  \n",
       "8189                  Y  \n",
       "11652                 N  \n",
       "16603                 Y  \n",
       "20766                 Y  \n",
       "24350                 N  \n",
       "27391                 Y  \n",
       "44332                 Y  \n",
       "45796                 Y  \n",
       "47218                 Y  \n",
       "48180                 Y  \n",
       "55909                 Y  \n",
       "59857                 N  \n",
       "60639                 Y  \n",
       "62669                 Y  \n",
       "66223                 Y  \n",
       "73435                 Y  \n",
       "73532                 Y  \n",
       "75602                 Y  \n",
       "76370                 Y  \n",
       "76854                 N  \n",
       "77163                 Y  \n",
       "83842                 Y  \n",
       "93122                 Y  \n",
       "93784                 Y  \n",
       "98212                 Y  \n",
       "98924                 Y  \n",
       "99072                 Y  "
      ]
     },
     "execution_count": 23,
     "metadata": {},
     "output_type": "execute_result"
    }
   ],
   "source": [
    "train_df[train_df['DepTime'] >= '2400']"
   ]
  },
  {
   "cell_type": "code",
   "execution_count": 24,
   "metadata": {},
   "outputs": [],
   "source": [
    "test_df['DepTime'] = test_df['DepTime'].apply(lambda x: '0000' if x == '2400' else x)\n",
    "train_df['DepTime'] = train_df['DepTime'].apply(lambda x: '{0:0>4}'.format(int(x)-2400) if x >= '2400' else x)"
   ]
  },
  {
   "cell_type": "code",
   "execution_count": 25,
   "metadata": {},
   "outputs": [
    {
     "data": {
      "text/plain": [
       "Month                 c-4\n",
       "DayofMonth           c-30\n",
       "DayOfWeek             c-6\n",
       "DepTime              0015\n",
       "UniqueCarrier          EV\n",
       "Origin                CAE\n",
       "Dest                  ATL\n",
       "Distance              191\n",
       "dep_delayed_15min       Y\n",
       "Name: 99072, dtype: object"
      ]
     },
     "execution_count": 25,
     "metadata": {},
     "output_type": "execute_result"
    }
   ],
   "source": [
    "train_df.loc[99072]"
   ]
  },
  {
   "cell_type": "code",
   "execution_count": 26,
   "metadata": {
    "scrolled": true
   },
   "outputs": [],
   "source": [
    "train_df['DepTimeHM'] = pd.to_datetime(train_df['DepTime'], format='%H%M', errors='coerce')\n",
    "test_df['DepTimeHM'] = pd.to_datetime(test_df['DepTime'], format='%H%M', errors='raise')"
   ]
  },
  {
   "cell_type": "code",
   "execution_count": 27,
   "metadata": {},
   "outputs": [
    {
     "data": {
      "text/html": [
       "<div>\n",
       "<style scoped>\n",
       "    .dataframe tbody tr th:only-of-type {\n",
       "        vertical-align: middle;\n",
       "    }\n",
       "\n",
       "    .dataframe tbody tr th {\n",
       "        vertical-align: top;\n",
       "    }\n",
       "\n",
       "    .dataframe thead th {\n",
       "        text-align: right;\n",
       "    }\n",
       "</style>\n",
       "<table border=\"1\" class=\"dataframe\">\n",
       "  <thead>\n",
       "    <tr style=\"text-align: right;\">\n",
       "      <th></th>\n",
       "      <th>Month</th>\n",
       "      <th>DayofMonth</th>\n",
       "      <th>DayOfWeek</th>\n",
       "      <th>DepTime</th>\n",
       "      <th>UniqueCarrier</th>\n",
       "      <th>Origin</th>\n",
       "      <th>Dest</th>\n",
       "      <th>Distance</th>\n",
       "      <th>DepTimeHM</th>\n",
       "    </tr>\n",
       "  </thead>\n",
       "  <tbody>\n",
       "  </tbody>\n",
       "</table>\n",
       "</div>"
      ],
      "text/plain": [
       "Empty DataFrame\n",
       "Columns: [Month, DayofMonth, DayOfWeek, DepTime, UniqueCarrier, Origin, Dest, Distance, DepTimeHM]\n",
       "Index: []"
      ]
     },
     "execution_count": 27,
     "metadata": {},
     "output_type": "execute_result"
    }
   ],
   "source": [
    "test_df[test_df.isnull().any(axis=1)]"
   ]
  },
  {
   "cell_type": "code",
   "execution_count": 28,
   "metadata": {},
   "outputs": [
    {
     "data": {
      "text/html": [
       "<div>\n",
       "<style scoped>\n",
       "    .dataframe tbody tr th:only-of-type {\n",
       "        vertical-align: middle;\n",
       "    }\n",
       "\n",
       "    .dataframe tbody tr th {\n",
       "        vertical-align: top;\n",
       "    }\n",
       "\n",
       "    .dataframe thead th {\n",
       "        text-align: right;\n",
       "    }\n",
       "</style>\n",
       "<table border=\"1\" class=\"dataframe\">\n",
       "  <thead>\n",
       "    <tr style=\"text-align: right;\">\n",
       "      <th></th>\n",
       "      <th>Month</th>\n",
       "      <th>DayofMonth</th>\n",
       "      <th>DayOfWeek</th>\n",
       "      <th>DepTime</th>\n",
       "      <th>UniqueCarrier</th>\n",
       "      <th>Origin</th>\n",
       "      <th>Dest</th>\n",
       "      <th>Distance</th>\n",
       "      <th>dep_delayed_15min</th>\n",
       "      <th>DepTimeHM</th>\n",
       "    </tr>\n",
       "  </thead>\n",
       "  <tbody>\n",
       "  </tbody>\n",
       "</table>\n",
       "</div>"
      ],
      "text/plain": [
       "Empty DataFrame\n",
       "Columns: [Month, DayofMonth, DayOfWeek, DepTime, UniqueCarrier, Origin, Dest, Distance, dep_delayed_15min, DepTimeHM]\n",
       "Index: []"
      ]
     },
     "execution_count": 28,
     "metadata": {},
     "output_type": "execute_result"
    }
   ],
   "source": [
    "train_df[train_df.isnull().any(axis=1)]"
   ]
  },
  {
   "cell_type": "code",
   "execution_count": 29,
   "metadata": {
    "scrolled": true
   },
   "outputs": [
    {
     "name": "stdout",
     "output_type": "stream",
     "text": [
      "(100000, 10)\n",
      "(100000, 9)\n",
      "(100000, 10)\n",
      "(100000, 9)\n"
     ]
    }
   ],
   "source": [
    "print(train_df.shape)\n",
    "print(test_df.shape)\n",
    "train_df.dropna(inplace=True)\n",
    "test_df.dropna(inplace=True)\n",
    "print(train_df.shape)\n",
    "print(test_df.shape)"
   ]
  },
  {
   "cell_type": "code",
   "execution_count": 30,
   "metadata": {
    "scrolled": true
   },
   "outputs": [],
   "source": [
    "train_df['Hour'] = train_df['DepTimeHM'].apply(lambda ts: ts.hour).astype('int')\n",
    "test_df['Hour'] = test_df['DepTimeHM'].apply(lambda ts: ts.hour).astype('int')\n"
   ]
  },
  {
   "cell_type": "code",
   "execution_count": 31,
   "metadata": {},
   "outputs": [],
   "source": [
    "train_df['M'] = train_df['Hour'].apply(lambda x: 1 if (x >= 6 and x <= 11) else 0).astype('int')\n",
    "train_df['D'] = train_df['Hour'].apply(lambda x: 1 if (x >= 12 and x <= 18) else 0).astype('int')\n",
    "train_df['E'] = train_df['Hour'].apply(lambda x: 1 if (x >= 19 and x <= 23) else 0).astype('int')\n",
    "train_df['N'] = train_df['Hour'].apply(lambda x: 1 if (x >= 0 and x <= 5) else 0).astype('int')\n",
    "\n",
    "test_df['M'] = test_df['Hour'].apply(lambda x: 1 if (x >= 6 and x <= 11) else 0).astype('int')\n",
    "test_df['D'] = test_df['Hour'].apply(lambda x: 1 if (x >= 12 and x <= 18) else 0).astype('int')\n",
    "test_df['E'] = test_df['Hour'].apply(lambda x: 1 if (x >= 19 and x <= 23) else 0).astype('int')\n",
    "test_df['N'] = test_df['Hour'].apply(lambda x: 1 if (x >= 0 and x <= 5) else 0).astype('int')\n"
   ]
  },
  {
   "cell_type": "code",
   "execution_count": 32,
   "metadata": {},
   "outputs": [],
   "source": [
    "train_df['MonthD'] = train_df['Month'].replace(to_replace=r'^c\\-', value='', regex=True).astype('int')\n",
    "train_df['DayOfMD'] = train_df['DayofMonth'].replace(to_replace=r'^c\\-', value='', regex=True).astype('int')\n",
    "train_df['DayOfWD'] = train_df['DayOfWeek'].replace(to_replace=r'^c\\-', value='', regex=True).astype('int')\n",
    "\n",
    "train_df['Holiday'] = train_df['DayOfWD'].apply(lambda x: 1 if (x >= 6) else 0).astype('int')\n",
    "\n",
    "\n",
    "test_df['MonthD'] = test_df['Month'].replace(to_replace=r'^c\\-', value='', regex=True).astype('int')\n",
    "test_df['DayOfMD'] = test_df['DayofMonth'].replace(to_replace=r'^c\\-', value='', regex=True).astype('int')\n",
    "test_df['DayOfWD'] = test_df['DayOfWeek'].replace(to_replace=r'^c\\-', value='', regex=True).astype('int')\n",
    "\n",
    "test_df['Holiday'] = test_df['DayOfWD'].apply(lambda x: 1 if (x >= 6) else 0).astype('int')\n",
    "\n"
   ]
  },
  {
   "cell_type": "code",
   "execution_count": 33,
   "metadata": {},
   "outputs": [],
   "source": [
    "train_df['DistLog'] = np.log(train_df['Distance'])\n",
    "test_df['DistLog'] = np.log(test_df['Distance'])"
   ]
  },
  {
   "cell_type": "code",
   "execution_count": 34,
   "metadata": {},
   "outputs": [],
   "source": [
    "train_df[\"UnqCar\"] = train_df[\"UniqueCarrier\"].astype('category')\n",
    "test_df[\"UnqCar\"] = test_df[\"UniqueCarrier\"].astype('category')\n",
    "\n",
    "train_df[\"Org\"] = train_df[\"Origin\"].astype('category')\n",
    "test_df[\"Org\"] = test_df[\"Origin\"].astype('category')\n",
    "\n",
    "train_df[\"Dst\"] = train_df[\"Dest\"].astype('category')\n",
    "test_df[\"Dst\"] = test_df[\"Dest\"].astype('category')"
   ]
  },
  {
   "cell_type": "code",
   "execution_count": 35,
   "metadata": {},
   "outputs": [],
   "source": [
    "train_df[\"UnqCarC\"] = train_df[\"UnqCar\"].cat.codes\n",
    "test_df[\"UnqCarC\"] = test_df[\"UnqCar\"].cat.codes\n",
    "\n",
    "train_df[\"OrgC\"] = train_df[\"Org\"].cat.codes\n",
    "test_df[\"OrgC\"] = test_df[\"Org\"].cat.codes\n",
    "\n",
    "train_df[\"DstC\"] = train_df[\"Dst\"].cat.codes\n",
    "test_df[\"DstC\"] = test_df[\"Dst\"].cat.codes"
   ]
  },
  {
   "cell_type": "code",
   "execution_count": 36,
   "metadata": {
    "scrolled": false
   },
   "outputs": [
    {
     "data": {
      "text/html": [
       "<div>\n",
       "<style scoped>\n",
       "    .dataframe tbody tr th:only-of-type {\n",
       "        vertical-align: middle;\n",
       "    }\n",
       "\n",
       "    .dataframe tbody tr th {\n",
       "        vertical-align: top;\n",
       "    }\n",
       "\n",
       "    .dataframe thead th {\n",
       "        text-align: right;\n",
       "    }\n",
       "</style>\n",
       "<table border=\"1\" class=\"dataframe\">\n",
       "  <thead>\n",
       "    <tr style=\"text-align: right;\">\n",
       "      <th></th>\n",
       "      <th>count</th>\n",
       "      <th>unique</th>\n",
       "      <th>top</th>\n",
       "      <th>freq</th>\n",
       "      <th>first</th>\n",
       "      <th>last</th>\n",
       "      <th>mean</th>\n",
       "      <th>std</th>\n",
       "      <th>min</th>\n",
       "      <th>25%</th>\n",
       "      <th>50%</th>\n",
       "      <th>75%</th>\n",
       "      <th>max</th>\n",
       "    </tr>\n",
       "  </thead>\n",
       "  <tbody>\n",
       "    <tr>\n",
       "      <th>Month</th>\n",
       "      <td>100000</td>\n",
       "      <td>12</td>\n",
       "      <td>c-8</td>\n",
       "      <td>8830</td>\n",
       "      <td>NaN</td>\n",
       "      <td>NaN</td>\n",
       "      <td>NaN</td>\n",
       "      <td>NaN</td>\n",
       "      <td>NaN</td>\n",
       "      <td>NaN</td>\n",
       "      <td>NaN</td>\n",
       "      <td>NaN</td>\n",
       "      <td>NaN</td>\n",
       "    </tr>\n",
       "    <tr>\n",
       "      <th>DayofMonth</th>\n",
       "      <td>100000</td>\n",
       "      <td>31</td>\n",
       "      <td>c-1</td>\n",
       "      <td>3399</td>\n",
       "      <td>NaN</td>\n",
       "      <td>NaN</td>\n",
       "      <td>NaN</td>\n",
       "      <td>NaN</td>\n",
       "      <td>NaN</td>\n",
       "      <td>NaN</td>\n",
       "      <td>NaN</td>\n",
       "      <td>NaN</td>\n",
       "      <td>NaN</td>\n",
       "    </tr>\n",
       "    <tr>\n",
       "      <th>DayOfWeek</th>\n",
       "      <td>100000</td>\n",
       "      <td>7</td>\n",
       "      <td>c-4</td>\n",
       "      <td>14736</td>\n",
       "      <td>NaN</td>\n",
       "      <td>NaN</td>\n",
       "      <td>NaN</td>\n",
       "      <td>NaN</td>\n",
       "      <td>NaN</td>\n",
       "      <td>NaN</td>\n",
       "      <td>NaN</td>\n",
       "      <td>NaN</td>\n",
       "      <td>NaN</td>\n",
       "    </tr>\n",
       "    <tr>\n",
       "      <th>DepTime</th>\n",
       "      <td>100000</td>\n",
       "      <td>1285</td>\n",
       "      <td>0700</td>\n",
       "      <td>359</td>\n",
       "      <td>NaN</td>\n",
       "      <td>NaN</td>\n",
       "      <td>NaN</td>\n",
       "      <td>NaN</td>\n",
       "      <td>NaN</td>\n",
       "      <td>NaN</td>\n",
       "      <td>NaN</td>\n",
       "      <td>NaN</td>\n",
       "      <td>NaN</td>\n",
       "    </tr>\n",
       "    <tr>\n",
       "      <th>UniqueCarrier</th>\n",
       "      <td>100000</td>\n",
       "      <td>22</td>\n",
       "      <td>WN</td>\n",
       "      <td>15082</td>\n",
       "      <td>NaN</td>\n",
       "      <td>NaN</td>\n",
       "      <td>NaN</td>\n",
       "      <td>NaN</td>\n",
       "      <td>NaN</td>\n",
       "      <td>NaN</td>\n",
       "      <td>NaN</td>\n",
       "      <td>NaN</td>\n",
       "      <td>NaN</td>\n",
       "    </tr>\n",
       "    <tr>\n",
       "      <th>Origin</th>\n",
       "      <td>100000</td>\n",
       "      <td>289</td>\n",
       "      <td>ATL</td>\n",
       "      <td>5834</td>\n",
       "      <td>NaN</td>\n",
       "      <td>NaN</td>\n",
       "      <td>NaN</td>\n",
       "      <td>NaN</td>\n",
       "      <td>NaN</td>\n",
       "      <td>NaN</td>\n",
       "      <td>NaN</td>\n",
       "      <td>NaN</td>\n",
       "      <td>NaN</td>\n",
       "    </tr>\n",
       "    <tr>\n",
       "      <th>Dest</th>\n",
       "      <td>100000</td>\n",
       "      <td>289</td>\n",
       "      <td>ATL</td>\n",
       "      <td>5795</td>\n",
       "      <td>NaN</td>\n",
       "      <td>NaN</td>\n",
       "      <td>NaN</td>\n",
       "      <td>NaN</td>\n",
       "      <td>NaN</td>\n",
       "      <td>NaN</td>\n",
       "      <td>NaN</td>\n",
       "      <td>NaN</td>\n",
       "      <td>NaN</td>\n",
       "    </tr>\n",
       "    <tr>\n",
       "      <th>Distance</th>\n",
       "      <td>100000</td>\n",
       "      <td>NaN</td>\n",
       "      <td>NaN</td>\n",
       "      <td>NaN</td>\n",
       "      <td>NaN</td>\n",
       "      <td>NaN</td>\n",
       "      <td>729.397</td>\n",
       "      <td>574.617</td>\n",
       "      <td>30</td>\n",
       "      <td>317</td>\n",
       "      <td>575</td>\n",
       "      <td>957</td>\n",
       "      <td>4962</td>\n",
       "    </tr>\n",
       "    <tr>\n",
       "      <th>dep_delayed_15min</th>\n",
       "      <td>100000</td>\n",
       "      <td>2</td>\n",
       "      <td>N</td>\n",
       "      <td>80956</td>\n",
       "      <td>NaN</td>\n",
       "      <td>NaN</td>\n",
       "      <td>NaN</td>\n",
       "      <td>NaN</td>\n",
       "      <td>NaN</td>\n",
       "      <td>NaN</td>\n",
       "      <td>NaN</td>\n",
       "      <td>NaN</td>\n",
       "      <td>NaN</td>\n",
       "    </tr>\n",
       "    <tr>\n",
       "      <th>DepTimeHM</th>\n",
       "      <td>100000</td>\n",
       "      <td>1285</td>\n",
       "      <td>1900-01-01 07:00:00</td>\n",
       "      <td>359</td>\n",
       "      <td>1900-01-01 00:00:00</td>\n",
       "      <td>1900-01-01 23:59:00</td>\n",
       "      <td>NaN</td>\n",
       "      <td>NaN</td>\n",
       "      <td>NaN</td>\n",
       "      <td>NaN</td>\n",
       "      <td>NaN</td>\n",
       "      <td>NaN</td>\n",
       "      <td>NaN</td>\n",
       "    </tr>\n",
       "    <tr>\n",
       "      <th>Hour</th>\n",
       "      <td>100000</td>\n",
       "      <td>NaN</td>\n",
       "      <td>NaN</td>\n",
       "      <td>NaN</td>\n",
       "      <td>NaN</td>\n",
       "      <td>NaN</td>\n",
       "      <td>13.1126</td>\n",
       "      <td>4.77298</td>\n",
       "      <td>0</td>\n",
       "      <td>9</td>\n",
       "      <td>13</td>\n",
       "      <td>17</td>\n",
       "      <td>23</td>\n",
       "    </tr>\n",
       "    <tr>\n",
       "      <th>M</th>\n",
       "      <td>100000</td>\n",
       "      <td>NaN</td>\n",
       "      <td>NaN</td>\n",
       "      <td>NaN</td>\n",
       "      <td>NaN</td>\n",
       "      <td>NaN</td>\n",
       "      <td>0.38376</td>\n",
       "      <td>0.486303</td>\n",
       "      <td>0</td>\n",
       "      <td>0</td>\n",
       "      <td>0</td>\n",
       "      <td>1</td>\n",
       "      <td>1</td>\n",
       "    </tr>\n",
       "    <tr>\n",
       "      <th>D</th>\n",
       "      <td>100000</td>\n",
       "      <td>NaN</td>\n",
       "      <td>NaN</td>\n",
       "      <td>NaN</td>\n",
       "      <td>NaN</td>\n",
       "      <td>NaN</td>\n",
       "      <td>0.43501</td>\n",
       "      <td>0.495761</td>\n",
       "      <td>0</td>\n",
       "      <td>0</td>\n",
       "      <td>0</td>\n",
       "      <td>1</td>\n",
       "      <td>1</td>\n",
       "    </tr>\n",
       "    <tr>\n",
       "      <th>E</th>\n",
       "      <td>100000</td>\n",
       "      <td>NaN</td>\n",
       "      <td>NaN</td>\n",
       "      <td>NaN</td>\n",
       "      <td>NaN</td>\n",
       "      <td>NaN</td>\n",
       "      <td>0.16001</td>\n",
       "      <td>0.366617</td>\n",
       "      <td>0</td>\n",
       "      <td>0</td>\n",
       "      <td>0</td>\n",
       "      <td>0</td>\n",
       "      <td>1</td>\n",
       "    </tr>\n",
       "    <tr>\n",
       "      <th>N</th>\n",
       "      <td>100000</td>\n",
       "      <td>NaN</td>\n",
       "      <td>NaN</td>\n",
       "      <td>NaN</td>\n",
       "      <td>NaN</td>\n",
       "      <td>NaN</td>\n",
       "      <td>0.02122</td>\n",
       "      <td>0.144118</td>\n",
       "      <td>0</td>\n",
       "      <td>0</td>\n",
       "      <td>0</td>\n",
       "      <td>0</td>\n",
       "      <td>1</td>\n",
       "    </tr>\n",
       "    <tr>\n",
       "      <th>MonthD</th>\n",
       "      <td>100000</td>\n",
       "      <td>NaN</td>\n",
       "      <td>NaN</td>\n",
       "      <td>NaN</td>\n",
       "      <td>NaN</td>\n",
       "      <td>NaN</td>\n",
       "      <td>6.53764</td>\n",
       "      <td>3.41345</td>\n",
       "      <td>1</td>\n",
       "      <td>4</td>\n",
       "      <td>7</td>\n",
       "      <td>9</td>\n",
       "      <td>12</td>\n",
       "    </tr>\n",
       "    <tr>\n",
       "      <th>DayOfMD</th>\n",
       "      <td>100000</td>\n",
       "      <td>NaN</td>\n",
       "      <td>NaN</td>\n",
       "      <td>NaN</td>\n",
       "      <td>NaN</td>\n",
       "      <td>NaN</td>\n",
       "      <td>15.7038</td>\n",
       "      <td>8.79393</td>\n",
       "      <td>1</td>\n",
       "      <td>8</td>\n",
       "      <td>16</td>\n",
       "      <td>23</td>\n",
       "      <td>31</td>\n",
       "    </tr>\n",
       "    <tr>\n",
       "      <th>DayOfWD</th>\n",
       "      <td>100000</td>\n",
       "      <td>NaN</td>\n",
       "      <td>NaN</td>\n",
       "      <td>NaN</td>\n",
       "      <td>NaN</td>\n",
       "      <td>NaN</td>\n",
       "      <td>3.95183</td>\n",
       "      <td>1.99164</td>\n",
       "      <td>1</td>\n",
       "      <td>2</td>\n",
       "      <td>4</td>\n",
       "      <td>6</td>\n",
       "      <td>7</td>\n",
       "    </tr>\n",
       "    <tr>\n",
       "      <th>Holiday</th>\n",
       "      <td>100000</td>\n",
       "      <td>NaN</td>\n",
       "      <td>NaN</td>\n",
       "      <td>NaN</td>\n",
       "      <td>NaN</td>\n",
       "      <td>NaN</td>\n",
       "      <td>0.26926</td>\n",
       "      <td>0.443578</td>\n",
       "      <td>0</td>\n",
       "      <td>0</td>\n",
       "      <td>0</td>\n",
       "      <td>1</td>\n",
       "      <td>1</td>\n",
       "    </tr>\n",
       "    <tr>\n",
       "      <th>DistLog</th>\n",
       "      <td>100000</td>\n",
       "      <td>NaN</td>\n",
       "      <td>NaN</td>\n",
       "      <td>NaN</td>\n",
       "      <td>NaN</td>\n",
       "      <td>NaN</td>\n",
       "      <td>6.30392</td>\n",
       "      <td>0.782732</td>\n",
       "      <td>3.4012</td>\n",
       "      <td>5.7589</td>\n",
       "      <td>6.35437</td>\n",
       "      <td>6.8638</td>\n",
       "      <td>8.50956</td>\n",
       "    </tr>\n",
       "    <tr>\n",
       "      <th>UnqCar</th>\n",
       "      <td>100000</td>\n",
       "      <td>22</td>\n",
       "      <td>WN</td>\n",
       "      <td>15082</td>\n",
       "      <td>NaN</td>\n",
       "      <td>NaN</td>\n",
       "      <td>NaN</td>\n",
       "      <td>NaN</td>\n",
       "      <td>NaN</td>\n",
       "      <td>NaN</td>\n",
       "      <td>NaN</td>\n",
       "      <td>NaN</td>\n",
       "      <td>NaN</td>\n",
       "    </tr>\n",
       "    <tr>\n",
       "      <th>Org</th>\n",
       "      <td>100000</td>\n",
       "      <td>289</td>\n",
       "      <td>ATL</td>\n",
       "      <td>5834</td>\n",
       "      <td>NaN</td>\n",
       "      <td>NaN</td>\n",
       "      <td>NaN</td>\n",
       "      <td>NaN</td>\n",
       "      <td>NaN</td>\n",
       "      <td>NaN</td>\n",
       "      <td>NaN</td>\n",
       "      <td>NaN</td>\n",
       "      <td>NaN</td>\n",
       "    </tr>\n",
       "    <tr>\n",
       "      <th>Dst</th>\n",
       "      <td>100000</td>\n",
       "      <td>289</td>\n",
       "      <td>ATL</td>\n",
       "      <td>5795</td>\n",
       "      <td>NaN</td>\n",
       "      <td>NaN</td>\n",
       "      <td>NaN</td>\n",
       "      <td>NaN</td>\n",
       "      <td>NaN</td>\n",
       "      <td>NaN</td>\n",
       "      <td>NaN</td>\n",
       "      <td>NaN</td>\n",
       "      <td>NaN</td>\n",
       "    </tr>\n",
       "    <tr>\n",
       "      <th>UnqCarC</th>\n",
       "      <td>100000</td>\n",
       "      <td>NaN</td>\n",
       "      <td>NaN</td>\n",
       "      <td>NaN</td>\n",
       "      <td>NaN</td>\n",
       "      <td>NaN</td>\n",
       "      <td>12.045</td>\n",
       "      <td>6.56627</td>\n",
       "      <td>0</td>\n",
       "      <td>6</td>\n",
       "      <td>13</td>\n",
       "      <td>18</td>\n",
       "      <td>21</td>\n",
       "    </tr>\n",
       "    <tr>\n",
       "      <th>OrgC</th>\n",
       "      <td>100000</td>\n",
       "      <td>NaN</td>\n",
       "      <td>NaN</td>\n",
       "      <td>NaN</td>\n",
       "      <td>NaN</td>\n",
       "      <td>NaN</td>\n",
       "      <td>142.378</td>\n",
       "      <td>76.899</td>\n",
       "      <td>0</td>\n",
       "      <td>78</td>\n",
       "      <td>151</td>\n",
       "      <td>205</td>\n",
       "      <td>288</td>\n",
       "    </tr>\n",
       "    <tr>\n",
       "      <th>DstC</th>\n",
       "      <td>100000</td>\n",
       "      <td>NaN</td>\n",
       "      <td>NaN</td>\n",
       "      <td>NaN</td>\n",
       "      <td>NaN</td>\n",
       "      <td>NaN</td>\n",
       "      <td>141.041</td>\n",
       "      <td>76.7839</td>\n",
       "      <td>0</td>\n",
       "      <td>77</td>\n",
       "      <td>150</td>\n",
       "      <td>203</td>\n",
       "      <td>288</td>\n",
       "    </tr>\n",
       "  </tbody>\n",
       "</table>\n",
       "</div>"
      ],
      "text/plain": [
       "                    count unique                  top   freq  \\\n",
       "Month              100000     12                  c-8   8830   \n",
       "DayofMonth         100000     31                  c-1   3399   \n",
       "DayOfWeek          100000      7                  c-4  14736   \n",
       "DepTime            100000   1285                 0700    359   \n",
       "UniqueCarrier      100000     22                   WN  15082   \n",
       "Origin             100000    289                  ATL   5834   \n",
       "Dest               100000    289                  ATL   5795   \n",
       "Distance           100000    NaN                  NaN    NaN   \n",
       "dep_delayed_15min  100000      2                    N  80956   \n",
       "DepTimeHM          100000   1285  1900-01-01 07:00:00    359   \n",
       "Hour               100000    NaN                  NaN    NaN   \n",
       "M                  100000    NaN                  NaN    NaN   \n",
       "D                  100000    NaN                  NaN    NaN   \n",
       "E                  100000    NaN                  NaN    NaN   \n",
       "N                  100000    NaN                  NaN    NaN   \n",
       "MonthD             100000    NaN                  NaN    NaN   \n",
       "DayOfMD            100000    NaN                  NaN    NaN   \n",
       "DayOfWD            100000    NaN                  NaN    NaN   \n",
       "Holiday            100000    NaN                  NaN    NaN   \n",
       "DistLog            100000    NaN                  NaN    NaN   \n",
       "UnqCar             100000     22                   WN  15082   \n",
       "Org                100000    289                  ATL   5834   \n",
       "Dst                100000    289                  ATL   5795   \n",
       "UnqCarC            100000    NaN                  NaN    NaN   \n",
       "OrgC               100000    NaN                  NaN    NaN   \n",
       "DstC               100000    NaN                  NaN    NaN   \n",
       "\n",
       "                                 first                 last     mean  \\\n",
       "Month                              NaN                  NaN      NaN   \n",
       "DayofMonth                         NaN                  NaN      NaN   \n",
       "DayOfWeek                          NaN                  NaN      NaN   \n",
       "DepTime                            NaN                  NaN      NaN   \n",
       "UniqueCarrier                      NaN                  NaN      NaN   \n",
       "Origin                             NaN                  NaN      NaN   \n",
       "Dest                               NaN                  NaN      NaN   \n",
       "Distance                           NaN                  NaN  729.397   \n",
       "dep_delayed_15min                  NaN                  NaN      NaN   \n",
       "DepTimeHM          1900-01-01 00:00:00  1900-01-01 23:59:00      NaN   \n",
       "Hour                               NaN                  NaN  13.1126   \n",
       "M                                  NaN                  NaN  0.38376   \n",
       "D                                  NaN                  NaN  0.43501   \n",
       "E                                  NaN                  NaN  0.16001   \n",
       "N                                  NaN                  NaN  0.02122   \n",
       "MonthD                             NaN                  NaN  6.53764   \n",
       "DayOfMD                            NaN                  NaN  15.7038   \n",
       "DayOfWD                            NaN                  NaN  3.95183   \n",
       "Holiday                            NaN                  NaN  0.26926   \n",
       "DistLog                            NaN                  NaN  6.30392   \n",
       "UnqCar                             NaN                  NaN      NaN   \n",
       "Org                                NaN                  NaN      NaN   \n",
       "Dst                                NaN                  NaN      NaN   \n",
       "UnqCarC                            NaN                  NaN   12.045   \n",
       "OrgC                               NaN                  NaN  142.378   \n",
       "DstC                               NaN                  NaN  141.041   \n",
       "\n",
       "                        std     min     25%      50%     75%      max  \n",
       "Month                   NaN     NaN     NaN      NaN     NaN      NaN  \n",
       "DayofMonth              NaN     NaN     NaN      NaN     NaN      NaN  \n",
       "DayOfWeek               NaN     NaN     NaN      NaN     NaN      NaN  \n",
       "DepTime                 NaN     NaN     NaN      NaN     NaN      NaN  \n",
       "UniqueCarrier           NaN     NaN     NaN      NaN     NaN      NaN  \n",
       "Origin                  NaN     NaN     NaN      NaN     NaN      NaN  \n",
       "Dest                    NaN     NaN     NaN      NaN     NaN      NaN  \n",
       "Distance            574.617      30     317      575     957     4962  \n",
       "dep_delayed_15min       NaN     NaN     NaN      NaN     NaN      NaN  \n",
       "DepTimeHM               NaN     NaN     NaN      NaN     NaN      NaN  \n",
       "Hour                4.77298       0       9       13      17       23  \n",
       "M                  0.486303       0       0        0       1        1  \n",
       "D                  0.495761       0       0        0       1        1  \n",
       "E                  0.366617       0       0        0       0        1  \n",
       "N                  0.144118       0       0        0       0        1  \n",
       "MonthD              3.41345       1       4        7       9       12  \n",
       "DayOfMD             8.79393       1       8       16      23       31  \n",
       "DayOfWD             1.99164       1       2        4       6        7  \n",
       "Holiday            0.443578       0       0        0       1        1  \n",
       "DistLog            0.782732  3.4012  5.7589  6.35437  6.8638  8.50956  \n",
       "UnqCar                  NaN     NaN     NaN      NaN     NaN      NaN  \n",
       "Org                     NaN     NaN     NaN      NaN     NaN      NaN  \n",
       "Dst                     NaN     NaN     NaN      NaN     NaN      NaN  \n",
       "UnqCarC             6.56627       0       6       13      18       21  \n",
       "OrgC                 76.899       0      78      151     205      288  \n",
       "DstC                76.7839       0      77      150     203      288  "
      ]
     },
     "execution_count": 36,
     "metadata": {},
     "output_type": "execute_result"
    }
   ],
   "source": [
    "train_df.describe(include='all').T"
   ]
  },
  {
   "cell_type": "code",
   "execution_count": 37,
   "metadata": {
    "scrolled": true
   },
   "outputs": [
    {
     "name": "stdout",
     "output_type": "stream",
     "text": [
      "<class 'pandas.core.frame.DataFrame'>\n",
      "Int64Index: 100000 entries, 0 to 99999\n",
      "Data columns (total 26 columns):\n",
      "Month                100000 non-null object\n",
      "DayofMonth           100000 non-null object\n",
      "DayOfWeek            100000 non-null object\n",
      "DepTime              100000 non-null object\n",
      "UniqueCarrier        100000 non-null object\n",
      "Origin               100000 non-null object\n",
      "Dest                 100000 non-null object\n",
      "Distance             100000 non-null int64\n",
      "dep_delayed_15min    100000 non-null object\n",
      "DepTimeHM            100000 non-null datetime64[ns]\n",
      "Hour                 100000 non-null int64\n",
      "M                    100000 non-null int64\n",
      "D                    100000 non-null int64\n",
      "E                    100000 non-null int64\n",
      "N                    100000 non-null int64\n",
      "MonthD               100000 non-null int64\n",
      "DayOfMD              100000 non-null int64\n",
      "DayOfWD              100000 non-null int64\n",
      "Holiday              100000 non-null int64\n",
      "DistLog              100000 non-null float64\n",
      "UnqCar               100000 non-null category\n",
      "Org                  100000 non-null category\n",
      "Dst                  100000 non-null category\n",
      "UnqCarC              100000 non-null int8\n",
      "OrgC                 100000 non-null int16\n",
      "DstC                 100000 non-null int16\n",
      "dtypes: category(3), datetime64[ns](1), float64(1), int16(2), int64(10), int8(1), object(8)\n",
      "memory usage: 17.0+ MB\n"
     ]
    }
   ],
   "source": [
    "train_df.info()"
   ]
  },
  {
   "cell_type": "markdown",
   "metadata": {},
   "source": [
    "# One hot encoding"
   ]
  },
  {
   "cell_type": "code",
   "execution_count": 38,
   "metadata": {
    "scrolled": true
   },
   "outputs": [
    {
     "name": "stdout",
     "output_type": "stream",
     "text": [
      "(100000, 26)\n",
      "(100000, 25)\n"
     ]
    }
   ],
   "source": [
    "print(train_df.shape)\n",
    "print(test_df.shape)"
   ]
  },
  {
   "cell_type": "code",
   "execution_count": 39,
   "metadata": {},
   "outputs": [],
   "source": [
    "n_train = train_df.shape[0]\n",
    "all_df = pd.concat([train_df, test_df])"
   ]
  },
  {
   "cell_type": "code",
   "execution_count": 40,
   "metadata": {},
   "outputs": [
    {
     "name": "stdout",
     "output_type": "stream",
     "text": [
      "(200000, 26)\n"
     ]
    }
   ],
   "source": [
    "print(all_df.shape)\n"
   ]
  },
  {
   "cell_type": "code",
   "execution_count": 41,
   "metadata": {},
   "outputs": [
    {
     "data": {
      "text/html": [
       "<div>\n",
       "<style scoped>\n",
       "    .dataframe tbody tr th:only-of-type {\n",
       "        vertical-align: middle;\n",
       "    }\n",
       "\n",
       "    .dataframe tbody tr th {\n",
       "        vertical-align: top;\n",
       "    }\n",
       "\n",
       "    .dataframe thead th {\n",
       "        text-align: right;\n",
       "    }\n",
       "</style>\n",
       "<table border=\"1\" class=\"dataframe\">\n",
       "  <thead>\n",
       "    <tr style=\"text-align: right;\">\n",
       "      <th></th>\n",
       "      <th>D</th>\n",
       "      <th>DayOfMD</th>\n",
       "      <th>DayOfWD</th>\n",
       "      <th>DayOfWeek</th>\n",
       "      <th>DayofMonth</th>\n",
       "      <th>DepTime</th>\n",
       "      <th>DepTimeHM</th>\n",
       "      <th>Dest</th>\n",
       "      <th>DistLog</th>\n",
       "      <th>Distance</th>\n",
       "      <th>...</th>\n",
       "      <th>Month</th>\n",
       "      <th>MonthD</th>\n",
       "      <th>N</th>\n",
       "      <th>Org</th>\n",
       "      <th>OrgC</th>\n",
       "      <th>Origin</th>\n",
       "      <th>UniqueCarrier</th>\n",
       "      <th>UnqCar</th>\n",
       "      <th>UnqCarC</th>\n",
       "      <th>dep_delayed_15min</th>\n",
       "    </tr>\n",
       "  </thead>\n",
       "  <tbody>\n",
       "    <tr>\n",
       "      <th>99995</th>\n",
       "      <td>0</td>\n",
       "      <td>5</td>\n",
       "      <td>2</td>\n",
       "      <td>c-2</td>\n",
       "      <td>c-5</td>\n",
       "      <td>0852</td>\n",
       "      <td>1900-01-01 08:52:00</td>\n",
       "      <td>HOU</td>\n",
       "      <td>5.231109</td>\n",
       "      <td>187</td>\n",
       "      <td>...</td>\n",
       "      <td>c-6</td>\n",
       "      <td>6</td>\n",
       "      <td>0</td>\n",
       "      <td>CRP</td>\n",
       "      <td>70</td>\n",
       "      <td>CRP</td>\n",
       "      <td>WN</td>\n",
       "      <td>WN</td>\n",
       "      <td>17</td>\n",
       "      <td>NaN</td>\n",
       "    </tr>\n",
       "    <tr>\n",
       "      <th>99996</th>\n",
       "      <td>1</td>\n",
       "      <td>24</td>\n",
       "      <td>6</td>\n",
       "      <td>c-6</td>\n",
       "      <td>c-24</td>\n",
       "      <td>1446</td>\n",
       "      <td>1900-01-01 14:46:00</td>\n",
       "      <td>LAS</td>\n",
       "      <td>7.323171</td>\n",
       "      <td>1515</td>\n",
       "      <td>...</td>\n",
       "      <td>c-11</td>\n",
       "      <td>11</td>\n",
       "      <td>0</td>\n",
       "      <td>ORD</td>\n",
       "      <td>209</td>\n",
       "      <td>ORD</td>\n",
       "      <td>UA</td>\n",
       "      <td>UA</td>\n",
       "      <td>15</td>\n",
       "      <td>NaN</td>\n",
       "    </tr>\n",
       "    <tr>\n",
       "      <th>99997</th>\n",
       "      <td>1</td>\n",
       "      <td>30</td>\n",
       "      <td>2</td>\n",
       "      <td>c-2</td>\n",
       "      <td>c-30</td>\n",
       "      <td>1509</td>\n",
       "      <td>1900-01-01 15:09:00</td>\n",
       "      <td>SGF</td>\n",
       "      <td>6.082219</td>\n",
       "      <td>438</td>\n",
       "      <td>...</td>\n",
       "      <td>c-1</td>\n",
       "      <td>1</td>\n",
       "      <td>0</td>\n",
       "      <td>ORD</td>\n",
       "      <td>209</td>\n",
       "      <td>ORD</td>\n",
       "      <td>OO</td>\n",
       "      <td>OO</td>\n",
       "      <td>14</td>\n",
       "      <td>NaN</td>\n",
       "    </tr>\n",
       "    <tr>\n",
       "      <th>99998</th>\n",
       "      <td>0</td>\n",
       "      <td>5</td>\n",
       "      <td>5</td>\n",
       "      <td>c-5</td>\n",
       "      <td>c-5</td>\n",
       "      <td>0804</td>\n",
       "      <td>1900-01-01 08:04:00</td>\n",
       "      <td>ATL</td>\n",
       "      <td>6.634633</td>\n",
       "      <td>761</td>\n",
       "      <td>...</td>\n",
       "      <td>c-1</td>\n",
       "      <td>1</td>\n",
       "      <td>0</td>\n",
       "      <td>LGA</td>\n",
       "      <td>162</td>\n",
       "      <td>LGA</td>\n",
       "      <td>DL</td>\n",
       "      <td>DL</td>\n",
       "      <td>6</td>\n",
       "      <td>NaN</td>\n",
       "    </tr>\n",
       "    <tr>\n",
       "      <th>99999</th>\n",
       "      <td>0</td>\n",
       "      <td>29</td>\n",
       "      <td>1</td>\n",
       "      <td>c-1</td>\n",
       "      <td>c-29</td>\n",
       "      <td>0834</td>\n",
       "      <td>1900-01-01 08:34:00</td>\n",
       "      <td>MSP</td>\n",
       "      <td>5.693732</td>\n",
       "      <td>297</td>\n",
       "      <td>...</td>\n",
       "      <td>c-10</td>\n",
       "      <td>10</td>\n",
       "      <td>0</td>\n",
       "      <td>MKE</td>\n",
       "      <td>186</td>\n",
       "      <td>MKE</td>\n",
       "      <td>OO</td>\n",
       "      <td>OO</td>\n",
       "      <td>14</td>\n",
       "      <td>NaN</td>\n",
       "    </tr>\n",
       "  </tbody>\n",
       "</table>\n",
       "<p>5 rows × 26 columns</p>\n",
       "</div>"
      ],
      "text/plain": [
       "       D  DayOfMD  DayOfWD DayOfWeek DayofMonth DepTime           DepTimeHM  \\\n",
       "99995  0        5        2       c-2        c-5    0852 1900-01-01 08:52:00   \n",
       "99996  1       24        6       c-6       c-24    1446 1900-01-01 14:46:00   \n",
       "99997  1       30        2       c-2       c-30    1509 1900-01-01 15:09:00   \n",
       "99998  0        5        5       c-5        c-5    0804 1900-01-01 08:04:00   \n",
       "99999  0       29        1       c-1       c-29    0834 1900-01-01 08:34:00   \n",
       "\n",
       "      Dest   DistLog  Distance  ... Month  MonthD  N  Org  OrgC  Origin  \\\n",
       "99995  HOU  5.231109       187  ...   c-6       6  0  CRP    70     CRP   \n",
       "99996  LAS  7.323171      1515  ...  c-11      11  0  ORD   209     ORD   \n",
       "99997  SGF  6.082219       438  ...   c-1       1  0  ORD   209     ORD   \n",
       "99998  ATL  6.634633       761  ...   c-1       1  0  LGA   162     LGA   \n",
       "99999  MSP  5.693732       297  ...  c-10      10  0  MKE   186     MKE   \n",
       "\n",
       "      UniqueCarrier  UnqCar  UnqCarC dep_delayed_15min  \n",
       "99995            WN      WN       17               NaN  \n",
       "99996            UA      UA       15               NaN  \n",
       "99997            OO      OO       14               NaN  \n",
       "99998            DL      DL        6               NaN  \n",
       "99999            OO      OO       14               NaN  \n",
       "\n",
       "[5 rows x 26 columns]"
      ]
     },
     "execution_count": 41,
     "metadata": {},
     "output_type": "execute_result"
    }
   ],
   "source": [
    "all_df.tail()"
   ]
  },
  {
   "cell_type": "code",
   "execution_count": 42,
   "metadata": {},
   "outputs": [],
   "source": [
    "# train_df_dummies = pd.get_dummies(train_df[['Month', 'DayOfWeek', 'UniqueCarrier', 'Hour']])\n",
    "# test_df_dummies = pd.get_dummies(test_df[['Month', 'DayOfWeek', 'UniqueCarrier', 'Hour']])"
   ]
  },
  {
   "cell_type": "code",
   "execution_count": 43,
   "metadata": {},
   "outputs": [],
   "source": [
    "all_df_dummies = pd.get_dummies(all_df[['Month', 'DayOfWeek', 'UniqueCarrier', 'Hour']])\n"
   ]
  },
  {
   "cell_type": "code",
   "execution_count": 44,
   "metadata": {
    "scrolled": true
   },
   "outputs": [
    {
     "data": {
      "text/html": [
       "<div>\n",
       "<style scoped>\n",
       "    .dataframe tbody tr th:only-of-type {\n",
       "        vertical-align: middle;\n",
       "    }\n",
       "\n",
       "    .dataframe tbody tr th {\n",
       "        vertical-align: top;\n",
       "    }\n",
       "\n",
       "    .dataframe thead th {\n",
       "        text-align: right;\n",
       "    }\n",
       "</style>\n",
       "<table border=\"1\" class=\"dataframe\">\n",
       "  <thead>\n",
       "    <tr style=\"text-align: right;\">\n",
       "      <th></th>\n",
       "      <th>Hour</th>\n",
       "      <th>Month_c-1</th>\n",
       "      <th>Month_c-10</th>\n",
       "      <th>Month_c-11</th>\n",
       "      <th>Month_c-12</th>\n",
       "      <th>Month_c-2</th>\n",
       "      <th>Month_c-3</th>\n",
       "      <th>Month_c-4</th>\n",
       "      <th>Month_c-5</th>\n",
       "      <th>Month_c-6</th>\n",
       "      <th>...</th>\n",
       "      <th>UniqueCarrier_MQ</th>\n",
       "      <th>UniqueCarrier_NW</th>\n",
       "      <th>UniqueCarrier_OH</th>\n",
       "      <th>UniqueCarrier_OO</th>\n",
       "      <th>UniqueCarrier_TZ</th>\n",
       "      <th>UniqueCarrier_UA</th>\n",
       "      <th>UniqueCarrier_US</th>\n",
       "      <th>UniqueCarrier_WN</th>\n",
       "      <th>UniqueCarrier_XE</th>\n",
       "      <th>UniqueCarrier_YV</th>\n",
       "    </tr>\n",
       "  </thead>\n",
       "  <tbody>\n",
       "    <tr>\n",
       "      <th>0</th>\n",
       "      <td>19</td>\n",
       "      <td>0</td>\n",
       "      <td>0</td>\n",
       "      <td>0</td>\n",
       "      <td>0</td>\n",
       "      <td>0</td>\n",
       "      <td>0</td>\n",
       "      <td>0</td>\n",
       "      <td>0</td>\n",
       "      <td>0</td>\n",
       "      <td>...</td>\n",
       "      <td>0</td>\n",
       "      <td>0</td>\n",
       "      <td>0</td>\n",
       "      <td>0</td>\n",
       "      <td>0</td>\n",
       "      <td>0</td>\n",
       "      <td>0</td>\n",
       "      <td>0</td>\n",
       "      <td>0</td>\n",
       "      <td>0</td>\n",
       "    </tr>\n",
       "    <tr>\n",
       "      <th>1</th>\n",
       "      <td>15</td>\n",
       "      <td>0</td>\n",
       "      <td>0</td>\n",
       "      <td>0</td>\n",
       "      <td>0</td>\n",
       "      <td>0</td>\n",
       "      <td>0</td>\n",
       "      <td>1</td>\n",
       "      <td>0</td>\n",
       "      <td>0</td>\n",
       "      <td>...</td>\n",
       "      <td>0</td>\n",
       "      <td>0</td>\n",
       "      <td>0</td>\n",
       "      <td>0</td>\n",
       "      <td>0</td>\n",
       "      <td>0</td>\n",
       "      <td>1</td>\n",
       "      <td>0</td>\n",
       "      <td>0</td>\n",
       "      <td>0</td>\n",
       "    </tr>\n",
       "    <tr>\n",
       "      <th>2</th>\n",
       "      <td>14</td>\n",
       "      <td>0</td>\n",
       "      <td>0</td>\n",
       "      <td>0</td>\n",
       "      <td>0</td>\n",
       "      <td>0</td>\n",
       "      <td>0</td>\n",
       "      <td>0</td>\n",
       "      <td>0</td>\n",
       "      <td>0</td>\n",
       "      <td>...</td>\n",
       "      <td>0</td>\n",
       "      <td>0</td>\n",
       "      <td>0</td>\n",
       "      <td>0</td>\n",
       "      <td>0</td>\n",
       "      <td>0</td>\n",
       "      <td>0</td>\n",
       "      <td>0</td>\n",
       "      <td>1</td>\n",
       "      <td>0</td>\n",
       "    </tr>\n",
       "    <tr>\n",
       "      <th>3</th>\n",
       "      <td>10</td>\n",
       "      <td>0</td>\n",
       "      <td>0</td>\n",
       "      <td>1</td>\n",
       "      <td>0</td>\n",
       "      <td>0</td>\n",
       "      <td>0</td>\n",
       "      <td>0</td>\n",
       "      <td>0</td>\n",
       "      <td>0</td>\n",
       "      <td>...</td>\n",
       "      <td>0</td>\n",
       "      <td>0</td>\n",
       "      <td>0</td>\n",
       "      <td>1</td>\n",
       "      <td>0</td>\n",
       "      <td>0</td>\n",
       "      <td>0</td>\n",
       "      <td>0</td>\n",
       "      <td>0</td>\n",
       "      <td>0</td>\n",
       "    </tr>\n",
       "    <tr>\n",
       "      <th>4</th>\n",
       "      <td>18</td>\n",
       "      <td>0</td>\n",
       "      <td>1</td>\n",
       "      <td>0</td>\n",
       "      <td>0</td>\n",
       "      <td>0</td>\n",
       "      <td>0</td>\n",
       "      <td>0</td>\n",
       "      <td>0</td>\n",
       "      <td>0</td>\n",
       "      <td>...</td>\n",
       "      <td>0</td>\n",
       "      <td>0</td>\n",
       "      <td>0</td>\n",
       "      <td>0</td>\n",
       "      <td>0</td>\n",
       "      <td>0</td>\n",
       "      <td>0</td>\n",
       "      <td>1</td>\n",
       "      <td>0</td>\n",
       "      <td>0</td>\n",
       "    </tr>\n",
       "  </tbody>\n",
       "</table>\n",
       "<p>5 rows × 43 columns</p>\n",
       "</div>"
      ],
      "text/plain": [
       "   Hour  Month_c-1  Month_c-10  Month_c-11  Month_c-12  Month_c-2  Month_c-3  \\\n",
       "0    19          0           0           0           0          0          0   \n",
       "1    15          0           0           0           0          0          0   \n",
       "2    14          0           0           0           0          0          0   \n",
       "3    10          0           0           1           0          0          0   \n",
       "4    18          0           1           0           0          0          0   \n",
       "\n",
       "   Month_c-4  Month_c-5  Month_c-6  ...  UniqueCarrier_MQ  UniqueCarrier_NW  \\\n",
       "0          0          0          0  ...                 0                 0   \n",
       "1          1          0          0  ...                 0                 0   \n",
       "2          0          0          0  ...                 0                 0   \n",
       "3          0          0          0  ...                 0                 0   \n",
       "4          0          0          0  ...                 0                 0   \n",
       "\n",
       "   UniqueCarrier_OH  UniqueCarrier_OO  UniqueCarrier_TZ  UniqueCarrier_UA  \\\n",
       "0                 0                 0                 0                 0   \n",
       "1                 0                 0                 0                 0   \n",
       "2                 0                 0                 0                 0   \n",
       "3                 0                 1                 0                 0   \n",
       "4                 0                 0                 0                 0   \n",
       "\n",
       "   UniqueCarrier_US  UniqueCarrier_WN  UniqueCarrier_XE  UniqueCarrier_YV  \n",
       "0                 0                 0                 0                 0  \n",
       "1                 1                 0                 0                 0  \n",
       "2                 0                 0                 1                 0  \n",
       "3                 0                 0                 0                 0  \n",
       "4                 0                 1                 0                 0  \n",
       "\n",
       "[5 rows x 43 columns]"
      ]
     },
     "execution_count": 44,
     "metadata": {},
     "output_type": "execute_result"
    }
   ],
   "source": [
    "all_df_dummies.head()"
   ]
  },
  {
   "cell_type": "code",
   "execution_count": 45,
   "metadata": {},
   "outputs": [],
   "source": [
    "#test_df_dummies.head()"
   ]
  },
  {
   "cell_type": "code",
   "execution_count": 46,
   "metadata": {},
   "outputs": [
    {
     "name": "stdout",
     "output_type": "stream",
     "text": [
      "(100000, 43)\n",
      "(100000, 43)\n"
     ]
    }
   ],
   "source": [
    "train_df_dummies = all_df_dummies.iloc[:n_train]\n",
    "test_df_dummies = all_df_dummies.iloc[n_train:]\n",
    "print(train_df_dummies.shape)\n",
    "print(test_df_dummies.shape)"
   ]
  },
  {
   "cell_type": "code",
   "execution_count": 47,
   "metadata": {},
   "outputs": [],
   "source": [
    "# X_train_dummies = pd.concat((train_df[['DistLog', 'MonthD', 'DayOfMD', 'DayOfWD', \n",
    "#                     'M', 'D', 'E', 'N', 'Holiday', 'UnqCarC', 'OrgC', 'DstC', 'DepTime']], train_df_dummies), axis=1).values \n",
    "# y_train = train_df['dep_delayed_15min'].map({'Y': 1, 'N': 0}).values\n",
    "\n",
    "# X_test_dummies = pd.concat((test_df[['DistLog', 'MonthD', 'DayOfMD', 'DayOfWD', \n",
    "#                     'M', 'D', 'E', 'N', 'Holiday', 'UnqCarC', 'OrgC', 'DstC', 'DepTime']], test_df_dummies), axis=1).values "
   ]
  },
  {
   "cell_type": "code",
   "execution_count": 48,
   "metadata": {},
   "outputs": [],
   "source": [
    "X_train_dummies = pd.concat((train_df[['DistLog', 'MonthD', 'DayOfMD', 'DayOfWD', \n",
    "                    'M', 'D', 'E', 'N', 'Holiday', 'UnqCarC', 'OrgC', 'DstC', 'DepTime']], train_df_dummies), axis=1) \n",
    "y_train = train_df['dep_delayed_15min'].map({'Y': 1, 'N': 0})\n",
    "\n",
    "X_test_dummies = pd.concat((test_df[['DistLog', 'MonthD', 'DayOfMD', 'DayOfWD', \n",
    "                    'M', 'D', 'E', 'N', 'Holiday', 'UnqCarC', 'OrgC', 'DstC', 'DepTime']], test_df_dummies), axis=1)"
   ]
  },
  {
   "cell_type": "code",
   "execution_count": 49,
   "metadata": {},
   "outputs": [],
   "source": [
    "X_train_dum_part, X_valid_dum, y_train_dum_part, y_valid_dum = \\\n",
    "    train_test_split(X_train_dummies, y_train, \n",
    "                     test_size=0.3, random_state=17)"
   ]
  },
  {
   "cell_type": "code",
   "execution_count": 50,
   "metadata": {
    "scrolled": true
   },
   "outputs": [
    {
     "name": "stdout",
     "output_type": "stream",
     "text": [
      "(100000, 56)\n",
      "(100000,)\n",
      "(100000, 56)\n"
     ]
    }
   ],
   "source": [
    "print(X_train_dummies.shape)\n",
    "print(y_train.shape)\n",
    "print(X_test_dummies.shape)"
   ]
  },
  {
   "cell_type": "code",
   "execution_count": 51,
   "metadata": {},
   "outputs": [
    {
     "ename": "KeyboardInterrupt",
     "evalue": "",
     "output_type": "error",
     "traceback": [
      "\u001b[0;31m---------------------------------------------------------------------------\u001b[0m",
      "\u001b[0;31mKeyboardInterrupt\u001b[0m                         Traceback (most recent call last)",
      "\u001b[0;32m<ipython-input-51-f650f7d755cf>\u001b[0m in \u001b[0;36m<module>\u001b[0;34m\u001b[0m\n\u001b[1;32m      3\u001b[0m \u001b[0my_train\u001b[0m\u001b[0;34m.\u001b[0m\u001b[0mto_csv\u001b[0m\u001b[0;34m(\u001b[0m\u001b[0;34m'data/flight_delays__y_train.csv'\u001b[0m\u001b[0;34m,\u001b[0m \u001b[0mindex\u001b[0m\u001b[0;34m=\u001b[0m\u001b[0;32mFalse\u001b[0m\u001b[0;34m,\u001b[0m \u001b[0mheader\u001b[0m\u001b[0;34m=\u001b[0m\u001b[0;32mTrue\u001b[0m\u001b[0;34m)\u001b[0m\u001b[0;34m\u001b[0m\u001b[0m\n\u001b[1;32m      4\u001b[0m \u001b[0;34m\u001b[0m\u001b[0m\n\u001b[0;32m----> 5\u001b[0;31m \u001b[0;32mraise\u001b[0m\u001b[0;34m(\u001b[0m\u001b[0mKeyboardInterrupt\u001b[0m\u001b[0;34m)\u001b[0m\u001b[0;34m\u001b[0m\u001b[0m\n\u001b[0m",
      "\u001b[0;31mKeyboardInterrupt\u001b[0m: "
     ]
    }
   ],
   "source": [
    "# End of data preparation\n",
    "X_train_dummies.to_csv('data/flight_delays__X_train_dummies.csv', index=False, header=True)\n",
    "y_train.to_csv('data/flight_delays__y_train.csv', index=False, header=True)\n",
    "\n",
    "raise(KeyboardInterrupt)"
   ]
  },
  {
   "cell_type": "code",
   "execution_count": null,
   "metadata": {
    "scrolled": true
   },
   "outputs": [],
   "source": [
    "%%time\n",
    "clf_pipe = Pipeline([('scaler', StandardScaler()),\n",
    "                       ('lgbm', LGBMClassifier(random_state=5, n_estimators=500, learning_rate=0.1, reg_lambda=1.0))])\n",
    "\n",
    "clf_pipe.fit(X_train_dum_part, y_train_dum_part)"
   ]
  },
  {
   "cell_type": "code",
   "execution_count": null,
   "metadata": {},
   "outputs": [],
   "source": [
    "est_valid_pred = clf_pipe.predict_proba(X_valid_dum)[:, 1]\n",
    "roc_auc_score(y_valid_dum, est_valid_pred)\n",
    "# 0.7412265358265067"
   ]
  },
  {
   "cell_type": "code",
   "execution_count": null,
   "metadata": {
    "scrolled": true
   },
   "outputs": [],
   "source": [
    "# %%time\n",
    "# clf = Pipeline([('scaler', StandardScaler()),\n",
    "#                        ('cat',CatBoostClassifier(random_state=5, n_estimators=500, learning_rate=0.1, reg_lambda=1.0))])\n",
    "# clf.fit(X_train_dum_part, y_train_dum_part)"
   ]
  },
  {
   "cell_type": "code",
   "execution_count": null,
   "metadata": {},
   "outputs": [],
   "source": [
    "# est_valid_pred = clf.predict_proba(X_valid_dum)[:, 1]\n",
    "# roc_auc_score(y_valid_dum, est_valid_pred)\n",
    "# res: 0.7376394730003442\n",
    "# 0.7361556031206801"
   ]
  },
  {
   "cell_type": "code",
   "execution_count": null,
   "metadata": {},
   "outputs": [],
   "source": [
    "# est_valid_pred = clf.predict_proba(X_valid_dum)[:, 1]\n",
    "# roc_auc_score(y_valid_dum, est_valid_pred)\n",
    "# res: 0.7377182019617423"
   ]
  },
  {
   "cell_type": "code",
   "execution_count": null,
   "metadata": {
    "scrolled": true
   },
   "outputs": [],
   "source": [
    "# clf_pipe.fit(X_train_dummies, y_train)\n",
    "# lgb_test_pred = clf_pipe.predict_proba(X_test_dummies)[:, 1]\n",
    "\n",
    "# fname = gen_subm_name('scaler-lgmb-500_dum_w_train_times_ge_2400_subtracted_24h_fine_tuned')\n",
    "# print(fname)\n",
    "# pd.Series(lgb_test_pred, \n",
    "#           name='dep_delayed_15min').to_csv(fname, \n",
    "#                                            index_label='id', header=True)"
   ]
  },
  {
   "cell_type": "code",
   "execution_count": null,
   "metadata": {},
   "outputs": [],
   "source": []
  },
  {
   "cell_type": "code",
   "execution_count": null,
   "metadata": {},
   "outputs": [],
   "source": [
    "raise(KeyboardInterrupt)"
   ]
  },
  {
   "cell_type": "markdown",
   "metadata": {},
   "source": [
    "# Parameters tuning"
   ]
  },
  {
   "cell_type": "code",
   "execution_count": null,
   "metadata": {},
   "outputs": [],
   "source": [
    "clf_pipe.get_params()"
   ]
  },
  {
   "cell_type": "code",
   "execution_count": null,
   "metadata": {},
   "outputs": [],
   "source": [
    "%%time \n",
    "est = GridSearchCV(Pipeline([('scaler', StandardScaler()), ('lgbm', LGBMClassifier())]), \n",
    "                   param_grid={\"lgbm__reg_lambda\": [0.001, 0.01, 0.1, 1.0], \n",
    "                               \"lgbm__n_estimators\": [10, 100, 200, 500],\n",
    "                               \"lgbm__random_state\": [5, 17, 30, 50],\n",
    "                               \"lgbm__learning_rate\": [0.001, 0.01, 0.1]})\n",
    "# plot_learning_curve(est, \"lgbm(C=AUTO)\", \n",
    "#                     X_train_dum_part, y_train_dum_part, ylim=(0.5, 1.0),\n",
    "#                     train_sizes=np.linspace(0.2, 1.0, 5))\n",
    "print(\"Chosen parameter: %s\" % est.fit(X_train_dummies, y_train).best_params_)"
   ]
  },
  {
   "cell_type": "code",
   "execution_count": null,
   "metadata": {},
   "outputs": [],
   "source": [
    "# est.best_score_"
   ]
  },
  {
   "cell_type": "code",
   "execution_count": null,
   "metadata": {},
   "outputs": [],
   "source": [
    "pipe = Pipeline([('scaler', StandardScaler()), ('lgbm', LGBMClassifier())])\n",
    "param_grid={\"lgbm__reg_lambda\": [0.001, 0.01, 0.1, 1.0], \n",
    "                               \"lgbm__n_estimators\": [10, 100, 200, 500],\n",
    "                               \"lgbm__random_state\": [5, 17, 30, 50],\n",
    "                               \"lgbm__learning_rate\": [0.001, 0.01, 0.1]}\n",
    "# cv_ = StratifiedKFold(n_splits=5, random_state=42, shuffle=True)\n",
    "cv = 5"
   ]
  },
  {
   "cell_type": "code",
   "execution_count": null,
   "metadata": {},
   "outputs": [],
   "source": [
    "gridsearcher = GridSearchCV(pipe, param_grid, scoring='roc_auc', n_jobs=4, cv=cv, verbose=5)"
   ]
  },
  {
   "cell_type": "code",
   "execution_count": null,
   "metadata": {
    "scrolled": true
   },
   "outputs": [],
   "source": [
    "%%time\n",
    "gridsearcher.fit(X_train_dum_part, y_train_dum_part)"
   ]
  },
  {
   "cell_type": "code",
   "execution_count": null,
   "metadata": {},
   "outputs": [],
   "source": [
    "gridsearcher.best_score_, gridsearcher.best_params_"
   ]
  },
  {
   "cell_type": "code",
   "execution_count": null,
   "metadata": {},
   "outputs": [],
   "source": [
    "final_model = gridsearcher.best_estimator_"
   ]
  },
  {
   "cell_type": "code",
   "execution_count": null,
   "metadata": {
    "scrolled": true
   },
   "outputs": [],
   "source": [
    "train_and_predict(final_model, X_train_dum_part, y_train_dum_part, X_valid_dum, cv=cv, submission_suffix='123')"
   ]
  },
  {
   "cell_type": "code",
   "execution_count": null,
   "metadata": {},
   "outputs": [],
   "source": []
  },
  {
   "cell_type": "code",
   "execution_count": null,
   "metadata": {},
   "outputs": [],
   "source": [
    "raise(KeyboardInterrupt)"
   ]
  },
  {
   "cell_type": "markdown",
   "metadata": {},
   "source": [
    "# Estimator choosing - failed"
   ]
  },
  {
   "cell_type": "code",
   "execution_count": null,
   "metadata": {},
   "outputs": [],
   "source": [
    "%%time\n",
    "from sklearn.preprocessing import MaxAbsScaler\n",
    "from pipehelper import PipelineHelper\n",
    "\n",
    "pipe = Pipeline([\n",
    "    ('scaler', PipelineHelper([\n",
    "        ('std', StandardScaler()),\n",
    "        ('max', MaxAbsScaler()),\n",
    "    ])),\n",
    "    ('classifier', PipelineHelper([\n",
    "#         ('svm', LinearSVC()),\n",
    "        ('rf', RandomForestClassifier()),\n",
    "    ])),\n",
    "])\n",
    "\n",
    "params = {\n",
    "    'scaler__selected_model': pipe.named_steps['scaler'].generate({\n",
    "        'std__with_mean': [True, False],\n",
    "        'std__with_std': [True, False],\n",
    "        'max__copy': [True],  # just for displaying\n",
    "    }),\n",
    "    'classifier__selected_model': pipe.named_steps['classifier'].generate({\n",
    "#         'svm__C': [0.1, 1.0],\n",
    "        'rf__n_estimators': [10, 20],\n",
    "    })\n",
    "}\n",
    "grid = GridSearchCV(pipe, params, scoring='roc_auc', verbose=1)\n",
    "grid.fit(X_train_dum_part, y_train_dum_part)\n",
    "print(grid.best_params_)\n",
    "print(grid.best_score_)"
   ]
  },
  {
   "cell_type": "markdown",
   "metadata": {},
   "source": [
    "# Randomized grid"
   ]
  },
  {
   "cell_type": "code",
   "execution_count": null,
   "metadata": {},
   "outputs": [],
   "source": [
    "pipe = Pipeline([('scaler', StandardScaler()), ('lgbm', LGBMClassifier())])\n",
    "param_grid={\n",
    "    \"lgbm__reg_lambda\": [0.001, 0.01, 0.1, 1.0], \n",
    "    \"lgbm__n_estimators\": [10, 100, 220, 470, 1000, 2200],\n",
    "#   \"lgbm__random_state\": [5, 17, 30, 50],\n",
    "    \"lgbm__learning_rate\": [0.001, 0.01, 0.1]\n",
    "}\n",
    "# cv_ = StratifiedKFold(n_splits=5, random_state=42, shuffle=True)\n",
    "cv = 5"
   ]
  },
  {
   "cell_type": "code",
   "execution_count": null,
   "metadata": {
    "scrolled": true
   },
   "outputs": [],
   "source": [
    "%%time\n",
    "n_iter = 10\n",
    "gridsearcher = RandomizedSearchCV(pipe, param_grid, n_iter=n_iter, scoring='roc_auc', n_jobs=N_JOBS, cv=cv, verbose=5)\n",
    "gridsearcher.fit(X_train_dum_part, y_train_dum_part)"
   ]
  },
  {
   "cell_type": "code",
   "execution_count": null,
   "metadata": {},
   "outputs": [],
   "source": [
    "grid_search_report(gridsearcher.cv_results_)\n",
    "\n",
    "final_model = gridsearcher.best_estimator_\n",
    "est_valid_pred = final_model.predict_proba(X_valid_dum)[:, 1]\n",
    "print(roc_auc_score(y_valid_dum, est_valid_pred), \"\\n\")\n",
    "\n",
    "# Mean validation score: 0.74375 (std: 0.00672)\n",
    "# Parameters: {'lgbm__learning_rate': 0.01, 'lgbm__reg_lambda': 0.1, 'lgbm__n_estimators': 2200}"
   ]
  },
  {
   "cell_type": "code",
   "execution_count": null,
   "metadata": {},
   "outputs": [],
   "source": [
    "%%time\n",
    "subm_suffix = \"lgbm-rgs10-v3-predfix\"\n",
    "train_and_predict(final_model, X_train_dummies, y_train, X_test_dummies, cv=cv, submission_suffix=subm_suffix)"
   ]
  },
  {
   "cell_type": "code",
   "execution_count": null,
   "metadata": {},
   "outputs": [],
   "source": [
    "#gridsearcher.best_score_, gridsearcher.best_params_\n",
    "\n",
    "# (0.741748443394305,\n",
    "#  {'lgbm__learning_rate': 0.1,\n",
    "#   'lgbm__n_estimators': 200,\n",
    "#   'lgbm__reg_lambda': 0.001})"
   ]
  },
  {
   "cell_type": "markdown",
   "metadata": {},
   "source": [
    "## Randomized grid, v2"
   ]
  },
  {
   "cell_type": "code",
   "execution_count": null,
   "metadata": {},
   "outputs": [],
   "source": [
    "pipe = Pipeline([('scaler', StandardScaler()), ('lgbm', LGBMClassifier())])\n",
    "param_grid={\n",
    "    \"lgbm__reg_lambda\": [0.001, 0.002, 0.005, 0.010, 0.022, 0.047, 0.100, 0.220, 0.470, 1.0], \n",
    "    \"lgbm__n_estimators\": [10, 100, 220, 470, 1000, 2200, 3300],\n",
    "#   \"lgbm__random_state\": [5, 17, 30, 50],\n",
    "    \"lgbm__learning_rate\": [0.001, 0.002, 0.005, 0.010, 0.022, 0.047, 0.100]\n",
    "}\n",
    "# cv_ = StratifiedKFold(n_splits=5, random_state=42, shuffle=True)\n",
    "cv = 5"
   ]
  },
  {
   "cell_type": "code",
   "execution_count": null,
   "metadata": {
    "scrolled": true
   },
   "outputs": [],
   "source": [
    "%%time\n",
    "n_iter = 100\n",
    "gridsearcher = RandomizedSearchCV(pipe, param_grid, n_iter=n_iter, scoring='roc_auc', n_jobs=N_JOBS_HALF, cv=cv, verbose=5)\n",
    "gridsearcher.fit(X_train_dum_part, y_train_dum_part)"
   ]
  },
  {
   "cell_type": "code",
   "execution_count": null,
   "metadata": {},
   "outputs": [],
   "source": [
    "grid_search_report(gridsearcher.cv_results_)\n",
    "\n",
    "final_model = gridsearcher.best_estimator_\n",
    "est_valid_pred = final_model.predict_proba(X_valid_dum)[:, 1]\n",
    "print(roc_auc_score(y_valid_dum, est_valid_pred), \"\\n\")\n",
    "\n",
    "# Mean validation score: 0.74375 (std: 0.00672)\n",
    "# Parameters: {'lgbm__learning_rate': 0.01, 'lgbm__reg_lambda': 0.1, 'lgbm__n_estimators': 2200}\n",
    "\n",
    "# Model with rank: 1\n",
    "# Mean validation score: 0.74636 (std: 0.00625)\n",
    "# Parameters: {'lgbm__reg_lambda': 0.047, 'lgbm__n_estimators': 2200, 'lgbm__learning_rate': 0.022}\n",
    "    "
   ]
  },
  {
   "cell_type": "code",
   "execution_count": null,
   "metadata": {},
   "outputs": [],
   "source": [
    "%%time\n",
    "subm_suffix = \"lgbm-rgs100-v3-predfix\"\n",
    "train_and_predict(final_model, X_train_dummies, y_train, X_test_dummies, cv=cv, submission_suffix=subm_suffix)"
   ]
  },
  {
   "cell_type": "code",
   "execution_count": null,
   "metadata": {},
   "outputs": [],
   "source": [
    "final_model"
   ]
  },
  {
   "cell_type": "markdown",
   "metadata": {},
   "source": [
    "### Randomized grid, v2a (reproduce 2019-03-31)"
   ]
  },
  {
   "cell_type": "code",
   "execution_count": 52,
   "metadata": {},
   "outputs": [],
   "source": [
    "pipe = Pipeline([('scaler', StandardScaler()), ('lgbm', LGBMClassifier())])\n",
    "param_grid={\n",
    "    \"lgbm__reg_lambda\": [0.047, 0.470], \n",
    "    \"lgbm__n_estimators\": [1000, 2200],\n",
    "#   \"lgbm__random_state\": [5, 17, 30, 50],\n",
    "    \"lgbm__learning_rate\": [0.022, 0.047]\n",
    "}\n",
    "# cv_ = StratifiedKFold(n_splits=5, random_state=42, shuffle=True)\n",
    "cv = 5"
   ]
  },
  {
   "cell_type": "code",
   "execution_count": 53,
   "metadata": {},
   "outputs": [
    {
     "name": "stdout",
     "output_type": "stream",
     "text": [
      "Fitting 5 folds for each of 8 candidates, totalling 40 fits\n"
     ]
    },
    {
     "name": "stderr",
     "output_type": "stream",
     "text": [
      "[Parallel(n_jobs=8)]: Using backend LokyBackend with 8 concurrent workers.\n",
      "[Parallel(n_jobs=8)]: Done   2 tasks      | elapsed:   34.3s\n",
      "[Parallel(n_jobs=8)]: Done  34 out of  40 | elapsed:  4.2min remaining:   44.2s\n",
      "[Parallel(n_jobs=8)]: Done  40 out of  40 | elapsed:  4.6min finished\n"
     ]
    },
    {
     "name": "stdout",
     "output_type": "stream",
     "text": [
      "CPU times: user 57.4 s, sys: 280 ms, total: 57.7 s\n",
      "Wall time: 4min 44s\n"
     ]
    }
   ],
   "source": [
    "%%time\n",
    "n_iter = 10\n",
    "gridsearcher = RandomizedSearchCV(pipe, param_grid, n_iter=n_iter, scoring='roc_auc', n_jobs=N_JOBS, cv=cv, verbose=5)\n",
    "gridsearcher.fit(X_train_dum_part, y_train_dum_part)"
   ]
  },
  {
   "cell_type": "code",
   "execution_count": 54,
   "metadata": {},
   "outputs": [
    {
     "name": "stdout",
     "output_type": "stream",
     "text": [
      "Model with rank: 1\n",
      "Mean validation score: 0.74636 (std: 0.00625)\n",
      "Parameters: {'lgbm__n_estimators': 2200, 'lgbm__reg_lambda': 0.047, 'lgbm__learning_rate': 0.022}\n",
      "\n",
      "Model with rank: 2\n",
      "Mean validation score: 0.74620 (std: 0.00635)\n",
      "Parameters: {'lgbm__n_estimators': 1000, 'lgbm__reg_lambda': 0.47, 'lgbm__learning_rate': 0.047}\n",
      "\n",
      "Model with rank: 3\n",
      "Mean validation score: 0.74582 (std: 0.00613)\n",
      "Parameters: {'lgbm__n_estimators': 2200, 'lgbm__reg_lambda': 0.47, 'lgbm__learning_rate': 0.022}\n",
      "\n",
      "0.7432957045766915 \n",
      "\n"
     ]
    }
   ],
   "source": [
    "grid_search_report(gridsearcher.cv_results_)\n",
    "\n",
    "final_model = gridsearcher.best_estimator_\n",
    "est_valid_pred = final_model.predict_proba(X_valid_dum)[:, 1]\n",
    "print(roc_auc_score(y_valid_dum, est_valid_pred), \"\\n\")"
   ]
  },
  {
   "cell_type": "code",
   "execution_count": 55,
   "metadata": {},
   "outputs": [
    {
     "name": "stderr",
     "output_type": "stream",
     "text": [
      "[Parallel(n_jobs=4)]: Using backend LokyBackend with 4 concurrent workers.\n",
      "[Parallel(n_jobs=4)]: Done   5 out of   5 | elapsed:  1.3min finished\n"
     ]
    },
    {
     "name": "stdout",
     "output_type": "stream",
     "text": [
      "CV scores [0.75261935 0.75607804 0.75306952 0.74157243 0.75570546]\n",
      "CV mean: 0.7518089586864672, CV std: 0.0052998130070534884\n"
     ]
    },
    {
     "data": {
      "text/html": [
       "\n",
       "    <style>\n",
       "    table.eli5-weights tr:hover {\n",
       "        filter: brightness(85%);\n",
       "    }\n",
       "</style>\n",
       "\n",
       "\n",
       "\n",
       "    \n",
       "\n",
       "    \n",
       "\n",
       "    \n",
       "\n",
       "    \n",
       "\n",
       "    \n",
       "\n",
       "    \n",
       "\n",
       "\n",
       "    \n",
       "\n",
       "    \n",
       "\n",
       "    \n",
       "\n",
       "    \n",
       "\n",
       "    \n",
       "\n",
       "    \n",
       "\n",
       "\n",
       "    \n",
       "\n",
       "    \n",
       "\n",
       "    \n",
       "\n",
       "    \n",
       "\n",
       "    \n",
       "        <table class=\"eli5-weights eli5-feature-importances\" style=\"border-collapse: collapse; border: none; margin-top: 0em; table-layout: auto;\">\n",
       "    <thead>\n",
       "    <tr style=\"border: none;\">\n",
       "        <th style=\"padding: 0 1em 0 0.5em; text-align: right; border: none;\">Weight</th>\n",
       "        <th style=\"padding: 0 0.5em 0 0.5em; text-align: left; border: none;\">Feature</th>\n",
       "    </tr>\n",
       "    </thead>\n",
       "    <tbody>\n",
       "    \n",
       "        <tr style=\"background-color: hsl(120, 100.00%, 80.00%); border: none;\">\n",
       "            <td style=\"padding: 0 1em 0 0.5em; text-align: right; border: none;\">\n",
       "                0.3924\n",
       "                \n",
       "            </td>\n",
       "            <td style=\"padding: 0 0.5em 0 0.5em; text-align: left; border: none;\">\n",
       "                x12\n",
       "            </td>\n",
       "        </tr>\n",
       "    \n",
       "        <tr style=\"background-color: hsl(120, 100.00%, 92.14%); border: none;\">\n",
       "            <td style=\"padding: 0 1em 0 0.5em; text-align: right; border: none;\">\n",
       "                0.1034\n",
       "                \n",
       "            </td>\n",
       "            <td style=\"padding: 0 0.5em 0 0.5em; text-align: left; border: none;\">\n",
       "                x0\n",
       "            </td>\n",
       "        </tr>\n",
       "    \n",
       "        <tr style=\"background-color: hsl(120, 100.00%, 93.21%); border: none;\">\n",
       "            <td style=\"padding: 0 1em 0 0.5em; text-align: right; border: none;\">\n",
       "                0.0839\n",
       "                \n",
       "            </td>\n",
       "            <td style=\"padding: 0 0.5em 0 0.5em; text-align: left; border: none;\">\n",
       "                x10\n",
       "            </td>\n",
       "        </tr>\n",
       "    \n",
       "        <tr style=\"background-color: hsl(120, 100.00%, 93.51%); border: none;\">\n",
       "            <td style=\"padding: 0 1em 0 0.5em; text-align: right; border: none;\">\n",
       "                0.0787\n",
       "                \n",
       "            </td>\n",
       "            <td style=\"padding: 0 0.5em 0 0.5em; text-align: left; border: none;\">\n",
       "                x2\n",
       "            </td>\n",
       "        </tr>\n",
       "    \n",
       "        <tr style=\"background-color: hsl(120, 100.00%, 93.82%); border: none;\">\n",
       "            <td style=\"padding: 0 1em 0 0.5em; text-align: right; border: none;\">\n",
       "                0.0734\n",
       "                \n",
       "            </td>\n",
       "            <td style=\"padding: 0 0.5em 0 0.5em; text-align: left; border: none;\">\n",
       "                x11\n",
       "            </td>\n",
       "        </tr>\n",
       "    \n",
       "        <tr style=\"background-color: hsl(120, 100.00%, 95.58%); border: none;\">\n",
       "            <td style=\"padding: 0 1em 0 0.5em; text-align: right; border: none;\">\n",
       "                0.0454\n",
       "                \n",
       "            </td>\n",
       "            <td style=\"padding: 0 0.5em 0 0.5em; text-align: left; border: none;\">\n",
       "                x1\n",
       "            </td>\n",
       "        </tr>\n",
       "    \n",
       "        <tr style=\"background-color: hsl(120, 100.00%, 96.09%); border: none;\">\n",
       "            <td style=\"padding: 0 1em 0 0.5em; text-align: right; border: none;\">\n",
       "                0.0381\n",
       "                \n",
       "            </td>\n",
       "            <td style=\"padding: 0 0.5em 0 0.5em; text-align: left; border: none;\">\n",
       "                x13\n",
       "            </td>\n",
       "        </tr>\n",
       "    \n",
       "        <tr style=\"background-color: hsl(120, 100.00%, 96.84%); border: none;\">\n",
       "            <td style=\"padding: 0 1em 0 0.5em; text-align: right; border: none;\">\n",
       "                0.0281\n",
       "                \n",
       "            </td>\n",
       "            <td style=\"padding: 0 0.5em 0 0.5em; text-align: left; border: none;\">\n",
       "                x9\n",
       "            </td>\n",
       "        </tr>\n",
       "    \n",
       "        <tr style=\"background-color: hsl(120, 100.00%, 97.20%); border: none;\">\n",
       "            <td style=\"padding: 0 1em 0 0.5em; text-align: right; border: none;\">\n",
       "                0.0237\n",
       "                \n",
       "            </td>\n",
       "            <td style=\"padding: 0 0.5em 0 0.5em; text-align: left; border: none;\">\n",
       "                x3\n",
       "            </td>\n",
       "        </tr>\n",
       "    \n",
       "        <tr style=\"background-color: hsl(120, 100.00%, 98.58%); border: none;\">\n",
       "            <td style=\"padding: 0 1em 0 0.5em; text-align: right; border: none;\">\n",
       "                0.0090\n",
       "                \n",
       "            </td>\n",
       "            <td style=\"padding: 0 0.5em 0 0.5em; text-align: left; border: none;\">\n",
       "                x53\n",
       "            </td>\n",
       "        </tr>\n",
       "    \n",
       "    \n",
       "        \n",
       "            <tr style=\"background-color: hsl(120, 100.00%, 98.58%); border: none;\">\n",
       "                <td colspan=\"2\" style=\"padding: 0 0.5em 0 0.5em; text-align: center; border: none; white-space: nowrap;\">\n",
       "                    <i>&hellip; 46 more &hellip;</i>\n",
       "                </td>\n",
       "            </tr>\n",
       "        \n",
       "    \n",
       "    </tbody>\n",
       "</table>\n",
       "    \n",
       "\n",
       "    \n",
       "\n",
       "\n",
       "    \n",
       "\n",
       "    \n",
       "\n",
       "    \n",
       "\n",
       "    \n",
       "\n",
       "    \n",
       "\n",
       "    \n",
       "\n",
       "\n",
       "\n"
      ]
     },
     "metadata": {},
     "output_type": "display_data"
    },
    {
     "name": "stdout",
     "output_type": "stream",
     "text": [
      "submission_suffix is None -> skip generating subm file.\n",
      "CPU times: user 1min 15s, sys: 148 ms, total: 1min 16s\n",
      "Wall time: 1min 29s\n"
     ]
    }
   ],
   "source": [
    "%%time\n",
    "subm_suffix = None\n",
    "train_and_predict(final_model, X_train_dummies, y_train, X_test_dummies, cv=cv, submission_suffix=subm_suffix)"
   ]
  },
  {
   "cell_type": "code",
   "execution_count": 56,
   "metadata": {},
   "outputs": [],
   "source": [
    "# L0331T0448"
   ]
  },
  {
   "cell_type": "code",
   "execution_count": 60,
   "metadata": {},
   "outputs": [
    {
     "data": {
      "text/html": [
       "<div>\n",
       "<style scoped>\n",
       "    .dataframe tbody tr th:only-of-type {\n",
       "        vertical-align: middle;\n",
       "    }\n",
       "\n",
       "    .dataframe tbody tr th {\n",
       "        vertical-align: top;\n",
       "    }\n",
       "\n",
       "    .dataframe thead th {\n",
       "        text-align: right;\n",
       "    }\n",
       "</style>\n",
       "<table border=\"1\" class=\"dataframe\">\n",
       "  <thead>\n",
       "    <tr style=\"text-align: right;\">\n",
       "      <th></th>\n",
       "      <th>index</th>\n",
       "      <th>0</th>\n",
       "      <th>1</th>\n",
       "      <th>2</th>\n",
       "      <th>3</th>\n",
       "      <th>4</th>\n",
       "      <th>5</th>\n",
       "      <th>6</th>\n",
       "      <th>7</th>\n",
       "      <th>8</th>\n",
       "      <th>9</th>\n",
       "    </tr>\n",
       "  </thead>\n",
       "  <tbody>\n",
       "    <tr>\n",
       "      <th>0</th>\n",
       "      <td>DistLog</td>\n",
       "      <td>6.59578</td>\n",
       "      <td>6.72623</td>\n",
       "      <td>6.03069</td>\n",
       "      <td>6.77079</td>\n",
       "      <td>6.04737</td>\n",
       "      <td>6.52649</td>\n",
       "      <td>6.94216</td>\n",
       "      <td>6.39024</td>\n",
       "      <td>7.08087</td>\n",
       "      <td>6.74876</td>\n",
       "    </tr>\n",
       "    <tr>\n",
       "      <th>1</th>\n",
       "      <td>MonthD</td>\n",
       "      <td>8</td>\n",
       "      <td>4</td>\n",
       "      <td>9</td>\n",
       "      <td>11</td>\n",
       "      <td>10</td>\n",
       "      <td>8</td>\n",
       "      <td>1</td>\n",
       "      <td>4</td>\n",
       "      <td>7</td>\n",
       "      <td>6</td>\n",
       "    </tr>\n",
       "    <tr>\n",
       "      <th>2</th>\n",
       "      <td>DayOfMD</td>\n",
       "      <td>21</td>\n",
       "      <td>20</td>\n",
       "      <td>2</td>\n",
       "      <td>25</td>\n",
       "      <td>7</td>\n",
       "      <td>3</td>\n",
       "      <td>27</td>\n",
       "      <td>29</td>\n",
       "      <td>28</td>\n",
       "      <td>20</td>\n",
       "    </tr>\n",
       "    <tr>\n",
       "      <th>3</th>\n",
       "      <td>DayOfWD</td>\n",
       "      <td>7</td>\n",
       "      <td>3</td>\n",
       "      <td>5</td>\n",
       "      <td>6</td>\n",
       "      <td>6</td>\n",
       "      <td>4</td>\n",
       "      <td>4</td>\n",
       "      <td>6</td>\n",
       "      <td>5</td>\n",
       "      <td>2</td>\n",
       "    </tr>\n",
       "    <tr>\n",
       "      <th>4</th>\n",
       "      <td>M</td>\n",
       "      <td>0</td>\n",
       "      <td>0</td>\n",
       "      <td>0</td>\n",
       "      <td>1</td>\n",
       "      <td>0</td>\n",
       "      <td>0</td>\n",
       "      <td>1</td>\n",
       "      <td>1</td>\n",
       "      <td>1</td>\n",
       "      <td>0</td>\n",
       "    </tr>\n",
       "    <tr>\n",
       "      <th>5</th>\n",
       "      <td>D</td>\n",
       "      <td>0</td>\n",
       "      <td>1</td>\n",
       "      <td>1</td>\n",
       "      <td>0</td>\n",
       "      <td>1</td>\n",
       "      <td>0</td>\n",
       "      <td>0</td>\n",
       "      <td>0</td>\n",
       "      <td>0</td>\n",
       "      <td>0</td>\n",
       "    </tr>\n",
       "    <tr>\n",
       "      <th>6</th>\n",
       "      <td>E</td>\n",
       "      <td>1</td>\n",
       "      <td>0</td>\n",
       "      <td>0</td>\n",
       "      <td>0</td>\n",
       "      <td>0</td>\n",
       "      <td>1</td>\n",
       "      <td>0</td>\n",
       "      <td>0</td>\n",
       "      <td>0</td>\n",
       "      <td>1</td>\n",
       "    </tr>\n",
       "    <tr>\n",
       "      <th>7</th>\n",
       "      <td>N</td>\n",
       "      <td>0</td>\n",
       "      <td>0</td>\n",
       "      <td>0</td>\n",
       "      <td>0</td>\n",
       "      <td>0</td>\n",
       "      <td>0</td>\n",
       "      <td>0</td>\n",
       "      <td>0</td>\n",
       "      <td>0</td>\n",
       "      <td>0</td>\n",
       "    </tr>\n",
       "    <tr>\n",
       "      <th>8</th>\n",
       "      <td>Holiday</td>\n",
       "      <td>1</td>\n",
       "      <td>0</td>\n",
       "      <td>0</td>\n",
       "      <td>1</td>\n",
       "      <td>1</td>\n",
       "      <td>0</td>\n",
       "      <td>0</td>\n",
       "      <td>1</td>\n",
       "      <td>0</td>\n",
       "      <td>0</td>\n",
       "    </tr>\n",
       "    <tr>\n",
       "      <th>9</th>\n",
       "      <td>UnqCarC</td>\n",
       "      <td>0</td>\n",
       "      <td>18</td>\n",
       "      <td>20</td>\n",
       "      <td>15</td>\n",
       "      <td>19</td>\n",
       "      <td>13</td>\n",
       "      <td>6</td>\n",
       "      <td>14</td>\n",
       "      <td>0</td>\n",
       "      <td>15</td>\n",
       "    </tr>\n",
       "    <tr>\n",
       "      <th>10</th>\n",
       "      <td>OrgC</td>\n",
       "      <td>18</td>\n",
       "      <td>217</td>\n",
       "      <td>228</td>\n",
       "      <td>78</td>\n",
       "      <td>174</td>\n",
       "      <td>176</td>\n",
       "      <td>208</td>\n",
       "      <td>193</td>\n",
       "      <td>203</td>\n",
       "      <td>78</td>\n",
       "    </tr>\n",
       "    <tr>\n",
       "      <th>11</th>\n",
       "      <td>DstC</td>\n",
       "      <td>78</td>\n",
       "      <td>171</td>\n",
       "      <td>59</td>\n",
       "      <td>175</td>\n",
       "      <td>199</td>\n",
       "      <td>171</td>\n",
       "      <td>157</td>\n",
       "      <td>70</td>\n",
       "      <td>78</td>\n",
       "      <td>217</td>\n",
       "    </tr>\n",
       "    <tr>\n",
       "      <th>12</th>\n",
       "      <td>DepTime</td>\n",
       "      <td>1934</td>\n",
       "      <td>1548</td>\n",
       "      <td>1422</td>\n",
       "      <td>1015</td>\n",
       "      <td>1828</td>\n",
       "      <td>1918</td>\n",
       "      <td>0754</td>\n",
       "      <td>0635</td>\n",
       "      <td>0735</td>\n",
       "      <td>2029</td>\n",
       "    </tr>\n",
       "    <tr>\n",
       "      <th>13</th>\n",
       "      <td>Hour</td>\n",
       "      <td>19</td>\n",
       "      <td>15</td>\n",
       "      <td>14</td>\n",
       "      <td>10</td>\n",
       "      <td>18</td>\n",
       "      <td>19</td>\n",
       "      <td>7</td>\n",
       "      <td>6</td>\n",
       "      <td>7</td>\n",
       "      <td>20</td>\n",
       "    </tr>\n",
       "    <tr>\n",
       "      <th>14</th>\n",
       "      <td>Month_c-1</td>\n",
       "      <td>0</td>\n",
       "      <td>0</td>\n",
       "      <td>0</td>\n",
       "      <td>0</td>\n",
       "      <td>0</td>\n",
       "      <td>0</td>\n",
       "      <td>1</td>\n",
       "      <td>0</td>\n",
       "      <td>0</td>\n",
       "      <td>0</td>\n",
       "    </tr>\n",
       "    <tr>\n",
       "      <th>15</th>\n",
       "      <td>Month_c-10</td>\n",
       "      <td>0</td>\n",
       "      <td>0</td>\n",
       "      <td>0</td>\n",
       "      <td>0</td>\n",
       "      <td>1</td>\n",
       "      <td>0</td>\n",
       "      <td>0</td>\n",
       "      <td>0</td>\n",
       "      <td>0</td>\n",
       "      <td>0</td>\n",
       "    </tr>\n",
       "    <tr>\n",
       "      <th>16</th>\n",
       "      <td>Month_c-11</td>\n",
       "      <td>0</td>\n",
       "      <td>0</td>\n",
       "      <td>0</td>\n",
       "      <td>1</td>\n",
       "      <td>0</td>\n",
       "      <td>0</td>\n",
       "      <td>0</td>\n",
       "      <td>0</td>\n",
       "      <td>0</td>\n",
       "      <td>0</td>\n",
       "    </tr>\n",
       "    <tr>\n",
       "      <th>17</th>\n",
       "      <td>Month_c-12</td>\n",
       "      <td>0</td>\n",
       "      <td>0</td>\n",
       "      <td>0</td>\n",
       "      <td>0</td>\n",
       "      <td>0</td>\n",
       "      <td>0</td>\n",
       "      <td>0</td>\n",
       "      <td>0</td>\n",
       "      <td>0</td>\n",
       "      <td>0</td>\n",
       "    </tr>\n",
       "    <tr>\n",
       "      <th>18</th>\n",
       "      <td>Month_c-2</td>\n",
       "      <td>0</td>\n",
       "      <td>0</td>\n",
       "      <td>0</td>\n",
       "      <td>0</td>\n",
       "      <td>0</td>\n",
       "      <td>0</td>\n",
       "      <td>0</td>\n",
       "      <td>0</td>\n",
       "      <td>0</td>\n",
       "      <td>0</td>\n",
       "    </tr>\n",
       "    <tr>\n",
       "      <th>19</th>\n",
       "      <td>Month_c-3</td>\n",
       "      <td>0</td>\n",
       "      <td>0</td>\n",
       "      <td>0</td>\n",
       "      <td>0</td>\n",
       "      <td>0</td>\n",
       "      <td>0</td>\n",
       "      <td>0</td>\n",
       "      <td>0</td>\n",
       "      <td>0</td>\n",
       "      <td>0</td>\n",
       "    </tr>\n",
       "  </tbody>\n",
       "</table>\n",
       "</div>"
      ],
      "text/plain": [
       "         index        0        1        2        3        4        5        6  \\\n",
       "0      DistLog  6.59578  6.72623  6.03069  6.77079  6.04737  6.52649  6.94216   \n",
       "1       MonthD        8        4        9       11       10        8        1   \n",
       "2      DayOfMD       21       20        2       25        7        3       27   \n",
       "3      DayOfWD        7        3        5        6        6        4        4   \n",
       "4            M        0        0        0        1        0        0        1   \n",
       "5            D        0        1        1        0        1        0        0   \n",
       "6            E        1        0        0        0        0        1        0   \n",
       "7            N        0        0        0        0        0        0        0   \n",
       "8      Holiday        1        0        0        1        1        0        0   \n",
       "9      UnqCarC        0       18       20       15       19       13        6   \n",
       "10        OrgC       18      217      228       78      174      176      208   \n",
       "11        DstC       78      171       59      175      199      171      157   \n",
       "12     DepTime     1934     1548     1422     1015     1828     1918     0754   \n",
       "13        Hour       19       15       14       10       18       19        7   \n",
       "14   Month_c-1        0        0        0        0        0        0        1   \n",
       "15  Month_c-10        0        0        0        0        1        0        0   \n",
       "16  Month_c-11        0        0        0        1        0        0        0   \n",
       "17  Month_c-12        0        0        0        0        0        0        0   \n",
       "18   Month_c-2        0        0        0        0        0        0        0   \n",
       "19   Month_c-3        0        0        0        0        0        0        0   \n",
       "\n",
       "          7        8        9  \n",
       "0   6.39024  7.08087  6.74876  \n",
       "1         4        7        6  \n",
       "2        29       28       20  \n",
       "3         6        5        2  \n",
       "4         1        1        0  \n",
       "5         0        0        0  \n",
       "6         0        0        1  \n",
       "7         0        0        0  \n",
       "8         1        0        0  \n",
       "9        14        0       15  \n",
       "10      193      203       78  \n",
       "11       70       78      217  \n",
       "12     0635     0735     2029  \n",
       "13        6        7       20  \n",
       "14        0        0        0  \n",
       "15        0        0        0  \n",
       "16        0        0        0  \n",
       "17        0        0        0  \n",
       "18        0        0        0  \n",
       "19        0        0        0  "
      ]
     },
     "execution_count": 60,
     "metadata": {},
     "output_type": "execute_result"
    }
   ],
   "source": [
    "# Из таблички выше - лучшая фича x12 (нумерация с 0)\n",
    "X_train_dummies.head(10).T.reset_index()[:20]\n",
    "# !!! Это DepTime!"
   ]
  },
  {
   "cell_type": "markdown",
   "metadata": {},
   "source": [
    "# Catboost tuning"
   ]
  },
  {
   "cell_type": "code",
   "execution_count": null,
   "metadata": {},
   "outputs": [],
   "source": [
    "# params = {'cat__depth':[3,1,2,6,4,5,7,8,9,10],\n",
    "#           'cat__iterations':[10, 22, 47, 100, 220, 470],\n",
    "#           'cat__learning_rate':[0.03,0.001,0.01,0.1,0.2,0.3], \n",
    "#           'cat__l2_leaf_reg':[3,1,5,10,100],\n",
    "#           'cat__border_count':[32,5,10,20,50,100,200],\n",
    "#           'cat__class_weights':[[1.0, 1.0], [1.0, 4.23]]\n",
    "# #           'cat__ctr_border_count':[50,5,10,20,100,200]\n",
    "#          }\n",
    "params = {'cat__depth':[1,2,3,5,7,10],\n",
    "          'cat__iterations':[10, 22, 47, 100, 220, 470],\n",
    "          'cat__learning_rate':[0.001,0.010,0.022,0.047,0.100,0.220,0.470], \n",
    "          'cat__l2_leaf_reg':[1,2,5,10,22,47,100],\n",
    "          'cat__border_count':[5,10,22,47,100,220],\n",
    "          'cat__class_weights':[[1.0, 1.0], [1.0, 2.20], [1.0, 4.22]]\n",
    "#           'cat__ctr_border_count':[50,5,10,20,100,200]\n",
    "         }\n",
    "\n",
    "N_JOBS = 8"
   ]
  },
  {
   "cell_type": "code",
   "execution_count": null,
   "metadata": {
    "scrolled": true
   },
   "outputs": [],
   "source": [
    "y_train_dum_part.value_counts()"
   ]
  },
  {
   "cell_type": "code",
   "execution_count": null,
   "metadata": {},
   "outputs": [],
   "source": [
    "#pipe = Pipeline([('scaler', StandardScaler()), ('cat', CatBoostClassifier(random_state=42, verbose=False))])\n",
    "pipe = Pipeline([('cat', CatBoostClassifier(random_state=42, verbose=False))])\n",
    "param_grid = params\n",
    "# cv_ = StratifiedKFold(n_splits=5, random_state=42, shuffle=True)\n",
    "cv = 5"
   ]
  },
  {
   "cell_type": "code",
   "execution_count": null,
   "metadata": {
    "scrolled": true
   },
   "outputs": [],
   "source": [
    "%%time\n",
    "n_iter = 100\n",
    "gridsearcher = RandomizedSearchCV(pipe, param_grid, n_iter=n_iter, scoring='roc_auc', \n",
    "                                  n_jobs=N_JOBS, cv=cv, verbose=5, random_state=47)\n",
    "gridsearcher.fit(X_train_dum_part, y_train_dum_part)"
   ]
  },
  {
   "cell_type": "code",
   "execution_count": null,
   "metadata": {
    "scrolled": true
   },
   "outputs": [],
   "source": [
    "grid_search_report(gridsearcher.cv_results_)\n",
    "\n",
    "final_model = gridsearcher.best_estimator_\n",
    "est_valid_pred = final_model.predict_proba(X_valid_dum)[:, 1]\n",
    "print(roc_auc_score(y_valid_dum, est_valid_pred), \"\\n\")\n",
    "\n",
    "# Mean validation score: 0.733 (std: 0.005)\n",
    "# Parameters: {'cat__class_weights': [1.0, 4.22], 'cat__l2_leaf_reg': 100, 'cat__learning_rate': 0.47, 'cat__border_count': 100, 'cat__depth': 5, 'cat__iterations': 100}\n",
    "# Mean validation score: 0.738 (std: 0.006)\n",
    "# Parameters: {'cat__class_weights': [1.0, 1.0], 'cat__l2_leaf_reg': 47, 'cat__learning_rate': 0.1, 'cat__border_count': 47, 'cat__depth': 5, 'cat__iterations': 470}\n",
    "# Mean validation score: 0.73707 (std: 0.00534)\n",
    "# Parameters: {'cat__iterations': 470, 'cat__l2_leaf_reg': 2, 'cat__learning_rate': 0.1, 'cat__border_count': 22, 'cat__depth': 5, 'cat__class_weights': [1.0, 1.0]}    \n"
   ]
  },
  {
   "cell_type": "code",
   "execution_count": null,
   "metadata": {
    "scrolled": true
   },
   "outputs": [],
   "source": [
    "%%time\n",
    "subm_suffix = \"cat-rgs-n100\"\n",
    "train_and_predict(final_model, X_train_dum_part, y_train_dum_part, X_test_dummies, cv=cv, submission_suffix=subm_suffix)"
   ]
  },
  {
   "cell_type": "code",
   "execution_count": null,
   "metadata": {},
   "outputs": [],
   "source": [
    "#gridsearcher.best_score_, gridsearcher.best_params_\n",
    "# (0.73743266444867,\n",
    "#  {'cat__border_count': 20,\n",
    "#   'cat__ctr_border_count': 50,\n",
    "#   'cat__depth': 3,\n",
    "#   'cat__iterations': 1000,\n",
    "#   'cat__l2_leaf_reg': 10,\n",
    "#   'cat__learning_rate': 0.2})\n",
    "\n",
    "# (0.7278892712298419,\n",
    "#  {'cat__border_count': 100,\n",
    "#   'cat__depth': 9,\n",
    "#   'cat__iterations': 250,\n",
    "#   'cat__l2_leaf_reg': 1,\n",
    "#   'cat__learning_rate': 0.03})\n",
    "\n",
    "# (0.7380708787303846,\n",
    "#  {'cat__border_count': 50,\n",
    "#   'cat__class_weights': [1.0, 1.0],\n",
    "#   'cat__depth': 3,\n",
    "#   'cat__iterations': 500,\n",
    "#   'cat__l2_leaf_reg': 1,\n",
    "#   'cat__learning_rate': 0.2})"
   ]
  },
  {
   "cell_type": "code",
   "execution_count": null,
   "metadata": {},
   "outputs": [],
   "source": [
    "# Analysis - taken from http://localhost:8893/notebooks/hyperparameters_tunning_ilya_larchenko.ipynb\n",
    "rs = gridsearcher\n",
    "wt_cats = pd.Series(rs.cv_results_['param_cat__class_weights']).apply(lambda x: tuple(x)).astype('category')\n",
    "rs_results_df=pd.DataFrame(np.transpose([\n",
    "    rs.cv_results_['mean_test_score'],    \n",
    "    rs.cv_results_['param_cat__depth'].data,\n",
    "    rs.cv_results_['param_cat__iterations'].data,\n",
    "    rs.cv_results_['param_cat__learning_rate'].data,\n",
    "    rs.cv_results_['param_cat__l2_leaf_reg'].data,\n",
    "    \n",
    "    rs.cv_results_['param_cat__border_count'].data,\n",
    "    wt_cats.cat.codes,\n",
    "    ]),\n",
    "    columns=['score', 'cat__depth', 'cat__iterations', 'cat__learning_rate', 'cat__l2_leaf_reg', \n",
    "             'cat__border_count', 'cat__class_weights'])\n",
    "#rs_results_df.plot(subplots=True,figsize=(15, 15), grid=True)\n",
    "rs_results_df.sort_values(by=['score']).reset_index(drop=True).plot(subplots=True, figsize=(15, 15), grid=True)"
   ]
  },
  {
   "cell_type": "code",
   "execution_count": null,
   "metadata": {},
   "outputs": [],
   "source": [
    "print(wt_cats.cat.codes.head())\n",
    "wt_cats.head()"
   ]
  },
  {
   "cell_type": "markdown",
   "metadata": {},
   "source": [
    "## Cat - v02"
   ]
  },
  {
   "cell_type": "code",
   "execution_count": null,
   "metadata": {},
   "outputs": [],
   "source": [
    "params = {'cat__depth':[2,3,4,5,6,7,8,9,10,12],  # Note: max depth is 16!\n",
    "          'cat__iterations':[47, 100, 220, 470, 1000, 2200],\n",
    "          'cat__learning_rate':[0.100, 0.150, 0.220, 0.330, 0.470], \n",
    "          'cat__l2_leaf_reg':[1,2,5,10,22,47,100],\n",
    "          'cat__border_count':[5,10,22,47,100,220],\n",
    "          'cat__class_weights':[[1.0, 1.0], [1.0, 2.20], [1.0, 4.22]]\n",
    "#           'cat__ctr_border_count':[50,5,10,20,100,200]\n",
    "         }\n",
    "\n",
    "\n",
    "# [CV]  cat__l2_leaf_reg=100, cat__learning_rate=0.47, cat__depth=3, cat__iterations=1000, cat__border_count=100, cat__class_weights=[1.0, 4.22], \n",
    "# score=0.7464309172576308, total= 1.2min\n"
   ]
  },
  {
   "cell_type": "code",
   "execution_count": null,
   "metadata": {},
   "outputs": [],
   "source": [
    "#pipe = Pipeline([('scaler', StandardScaler()), ('cat', CatBoostClassifier(random_state=42, verbose=False))])\n",
    "pipe = Pipeline([('cat', CatBoostClassifier(random_state=42, verbose=False))])\n",
    "param_grid = params\n",
    "# cv_ = StratifiedKFold(n_splits=5, random_state=42, shuffle=True)\n",
    "cv = 5"
   ]
  },
  {
   "cell_type": "code",
   "execution_count": null,
   "metadata": {},
   "outputs": [],
   "source": [
    "%%time\n",
    "n_iter = 100\n",
    "gridsearcher = RandomizedSearchCV(pipe, param_grid, n_iter=n_iter, scoring='roc_auc', \n",
    "                                  n_jobs=N_JOBS, cv=cv, verbose=5, random_state=48)\n",
    "gridsearcher.fit(X_train_dum_part, y_train_dum_part)"
   ]
  },
  {
   "cell_type": "code",
   "execution_count": null,
   "metadata": {},
   "outputs": [],
   "source": [
    "grid_search_report(gridsearcher.cv_results_)\n",
    "\n",
    "final_model = gridsearcher.best_estimator_\n",
    "est_valid_pred = final_model.predict_proba(X_valid_dum)[:, 1]\n",
    "print(roc_auc_score(y_valid_dum, est_valid_pred), \"\\n\")\n",
    "\n",
    "# Mean validation score: 0.73962 (std: 0.00569)\n",
    "# Parameters: {'cat__iterations': 2200, 'cat__l2_leaf_reg': 5, 'cat__learning_rate': 0.22, 'cat__border_count': 100, 'cat__depth': 3, 'cat__class_weights': [1.0, 2.2]}\n"
   ]
  },
  {
   "cell_type": "code",
   "execution_count": null,
   "metadata": {},
   "outputs": [],
   "source": [
    "%%time\n",
    "subm_suffix = \"cat-rgs-n100v2\"\n",
    "train_and_predict(final_model, X_train_dum_part, y_train_dum_part, X_test_dummies, cv=cv, submission_suffix=subm_suffix)"
   ]
  },
  {
   "cell_type": "code",
   "execution_count": null,
   "metadata": {},
   "outputs": [],
   "source": [
    "# Analysis - taken from http://localhost:8893/notebooks/hyperparameters_tunning_ilya_larchenko.ipynb\n",
    "rs = gridsearcher\n",
    "wt_cats = pd.Series(rs.cv_results_['param_cat__class_weights']).apply(lambda x: tuple(x)).astype('category')\n",
    "rs_results_df=pd.DataFrame(np.transpose([\n",
    "    rs.cv_results_['mean_test_score'],    \n",
    "    rs.cv_results_['param_cat__depth'].data,\n",
    "    rs.cv_results_['param_cat__iterations'].data,\n",
    "    rs.cv_results_['param_cat__learning_rate'].data,\n",
    "    rs.cv_results_['param_cat__l2_leaf_reg'].data,\n",
    "    \n",
    "    rs.cv_results_['param_cat__border_count'].data,\n",
    "    wt_cats.cat.codes,\n",
    "    ]),\n",
    "    columns=['score', 'cat__depth', 'cat__iterations', 'cat__learning_rate', 'cat__l2_leaf_reg', \n",
    "             'cat__border_count', 'cat__class_weights'])\n",
    "#rs_results_df.plot(subplots=True,figsize=(15, 15), grid=True)\n",
    "rs_results_df.sort_values(by=['score']).reset_index(drop=True).plot(subplots=True, figsize=(15, 15), grid=True)"
   ]
  },
  {
   "cell_type": "code",
   "execution_count": null,
   "metadata": {},
   "outputs": [],
   "source": [
    "print(wt_cats.cat.codes.head())\n",
    "wt_cats.head()"
   ]
  },
  {
   "cell_type": "markdown",
   "metadata": {},
   "source": [
    "## Cat - v03 (2019-03-30)"
   ]
  },
  {
   "cell_type": "code",
   "execution_count": null,
   "metadata": {},
   "outputs": [],
   "source": [
    "params = {'cat__depth':[4,5,6,7,8,9,10],  # Note: max depth is 16!\n",
    "          'cat__iterations':[1000, 1500, 2200, 3300],\n",
    "          #'cat__learning_rate':[0.100, 0.150, 0.220, 0.330, 0.470], \n",
    "          'cat__l2_leaf_reg':[1,2,5,10,22,47,100],\n",
    "          'cat__border_count':[254],\n",
    "          \n",
    "          'cat__random_strength':[0.1, 0.2, 0.5, 1.0, 2.0, 5.0],\n",
    "          'cat__bagging_temperature':[0.1, 0.2, 0.5, 1.0, 2.0, 5.0],\n",
    "          'cat__class_weights':[[1.0, 1.0], [1.0, 2.20], [1.0, 4.22]]\n",
    "#           'cat__ctr_border_count':[50,5,10,20,100,200]\n",
    "         }\n",
    "\n",
    "\n",
    "# [CV]  cat__l2_leaf_reg=100, cat__learning_rate=0.47, cat__depth=3, cat__iterations=1000, cat__border_count=100, cat__class_weights=[1.0, 4.22], \n",
    "# score=0.7464309172576308, total= 1.2min\n"
   ]
  },
  {
   "cell_type": "code",
   "execution_count": null,
   "metadata": {},
   "outputs": [],
   "source": [
    "#pipe = Pipeline([('scaler', StandardScaler()), ('cat', CatBoostClassifier(random_state=42, verbose=False))])\n",
    "pipe = Pipeline([('cat', CatBoostClassifier(random_state=42, verbose=False))])\n",
    "param_grid = params\n",
    "# cv_ = StratifiedKFold(n_splits=5, random_state=42, shuffle=True)\n",
    "cv = 5"
   ]
  },
  {
   "cell_type": "code",
   "execution_count": null,
   "metadata": {},
   "outputs": [],
   "source": [
    "%%time\n",
    "n_iter = 200\n",
    "gridsearcher = RandomizedSearchCV(pipe, param_grid, n_iter=n_iter, scoring='roc_auc', \n",
    "                                  n_jobs=N_JOBS_HALF, cv=cv, verbose=5, random_state=48)\n",
    "gridsearcher.fit(X_train_dum_part, y_train_dum_part)"
   ]
  },
  {
   "cell_type": "code",
   "execution_count": null,
   "metadata": {},
   "outputs": [],
   "source": [
    "grid_search_report(gridsearcher.cv_results_)\n",
    "\n",
    "final_model = gridsearcher.best_estimator_\n",
    "est_valid_pred = final_model.predict_proba(X_valid_dum)[:, 1]\n",
    "print(roc_auc_score(y_valid_dum, est_valid_pred), \"\\n\")\n",
    "\n",
    "# Mean validation score: 0.73962 (std: 0.00569)\n",
    "# Parameters: {'cat__iterations': 2200, 'cat__l2_leaf_reg': 5, 'cat__learning_rate': 0.22, 'cat__border_count': 100, 'cat__depth': 3, 'cat__class_weights': [1.0, 2.2]}\n",
    "# Mean validation score: 0.74385 (std: 0.00554)\n",
    "# Parameters: {'cat__class_weights': [1.0, 4.22], 'cat__random_strength': 0.2, 'cat__l2_leaf_reg': 10, 'cat__border_count': 254, 'cat__depth': 4, 'cat__bagging_temperature': 0.5, 'cat__iterations': 3300}\n",
    "# Mean validation score: 0.74677 (std: 0.00613)\n",
    "# Parameters: {'cat__class_weights': [1.0, 1.0], 'cat__random_strength': 0.5, 'cat__l2_leaf_reg': 100, 'cat__border_count': 254, 'cat__depth': 6, 'cat__bagging_temperature': 0.2, 'cat__iterations': 3300}\n",
    "    "
   ]
  },
  {
   "cell_type": "code",
   "execution_count": null,
   "metadata": {},
   "outputs": [],
   "source": [
    "%%time\n",
    "subm_suffix = \"cat-rgs200-v3-predfix\"\n",
    "train_and_predict(final_model, X_train_dummies, y_train, X_test_dummies, cv=cv, submission_suffix=subm_suffix)"
   ]
  },
  {
   "cell_type": "code",
   "execution_count": null,
   "metadata": {},
   "outputs": [],
   "source": [
    "# Analysis - taken from http://localhost:8893/notebooks/hyperparameters_tunning_ilya_larchenko.ipynb\n",
    "rs = gridsearcher\n",
    "wt_cats = pd.Series(rs.cv_results_['param_cat__class_weights']).apply(lambda x: tuple(x)).astype('category')\n",
    "rs_results_df=pd.DataFrame(np.transpose([\n",
    "    rs.cv_results_['mean_test_score'],    \n",
    "    rs.cv_results_['param_cat__depth'].data,\n",
    "    rs.cv_results_['param_cat__iterations'].data,\n",
    "    #rs.cv_results_['param_cat__learning_rate'].data,\n",
    "    rs.cv_results_['param_cat__l2_leaf_reg'].data,    \n",
    "    #rs.cv_results_['param_cat__border_count'].data,\n",
    "    \n",
    "    rs.cv_results_['param_cat__random_strength'].data,\n",
    "    rs.cv_results_['param_cat__bagging_temperature'].data,\n",
    "    wt_cats.cat.codes,\n",
    "    ]),\n",
    "    columns=[\n",
    "        'score', \n",
    "        'cat__depth', \n",
    "        'cat__iterations', \n",
    "        #'cat__learning_rate', \n",
    "        'cat__l2_leaf_reg', \n",
    "        #'cat__border_count', \n",
    "        \n",
    "        'cat__random_strength',\n",
    "        'cat__bagging_temperature',\n",
    "        'cat__class_weights',\n",
    "    ],\n",
    "                           index=None\n",
    "                          )\n",
    "#rs_results_df.plot(subplots=True,figsize=(15, 15), grid=True)\n",
    "rs_results_df.sort_values(by=['score']).reset_index(drop=True).plot(subplots=True, figsize=(15, 15), grid=True)"
   ]
  },
  {
   "cell_type": "code",
   "execution_count": null,
   "metadata": {},
   "outputs": [],
   "source": [
    "print(wt_cats.cat.codes.head())\n",
    "wt_cats.head()"
   ]
  },
  {
   "cell_type": "markdown",
   "metadata": {},
   "source": [
    "### Cat - v03-2 (rank2 model)"
   ]
  },
  {
   "cell_type": "code",
   "execution_count": null,
   "metadata": {},
   "outputs": [],
   "source": [
    "# Model with rank: 2\n",
    "# Mean validation score: 0.74565 (std: 0.00608)\n",
    "# Parameters: {'cat__class_weights': [1.0, 2.2], 'cat__random_strength': 0.1, 'cat__l2_leaf_reg': 5, \n",
    "#'cat__border_count': 254, 'cat__depth': 5, 'cat__bagging_temperature': 0.5, 'cat__iterations': 3300}\n",
    "\n",
    "good_params = {\n",
    "    'iterations': 3300, \n",
    "    'l2_leaf_reg': 5, \n",
    "    #'learning_rate': 0.22, \n",
    "    'border_count': 254, \n",
    "    'depth': 5, \n",
    "    'class_weights': [1.0, 2.2],\n",
    "    'random_strength': 0.1,\n",
    "    'bagging_temperature': 0.5\n",
    "}\n",
    "est = CatBoostClassifier(random_state=42, verbose=False, **good_params)"
   ]
  },
  {
   "cell_type": "code",
   "execution_count": null,
   "metadata": {},
   "outputs": [],
   "source": [
    "est.fit(X_train_dum_part, y_train_dum_part, plot=True)"
   ]
  },
  {
   "cell_type": "code",
   "execution_count": null,
   "metadata": {},
   "outputs": [],
   "source": [
    "%%time\n",
    "ylim=(0.5, 1)\n",
    "plot_learning_curve(est, \"est\", X_train_dum_part, y_train_dum_part, cv=5, ylim=ylim, verbose=10, n_jobs=N_JOBS)"
   ]
  },
  {
   "cell_type": "code",
   "execution_count": null,
   "metadata": {},
   "outputs": [],
   "source": [
    "%%time\n",
    "plot_learning_curve(est, \"est\", X_valid_dum, y_valid_dum, cv=5, ylim=(0.5, 1), verbose=10, n_jobs=N_JOBS)"
   ]
  },
  {
   "cell_type": "markdown",
   "metadata": {},
   "source": [
    "# NEW0329: Hyperopt"
   ]
  },
  {
   "cell_type": "code",
   "execution_count": null,
   "metadata": {},
   "outputs": [],
   "source": [
    "from hyperopt import fmin, tpe, rand, hp, anneal, Trials"
   ]
  },
  {
   "cell_type": "code",
   "execution_count": null,
   "metadata": {},
   "outputs": [],
   "source": [
    "cv = 5\n",
    "random_state = 42\n",
    "\n",
    "# params = {'cat__depth':[2,3,4,5,6,7,8,9,10,12],  # Note: max depth is 16!\n",
    "#           'cat__iterations':[47, 100, 220, 470, 1000, 2200],\n",
    "#           'cat__learning_rate':[0.100, 0.150, 0.220, 0.330, 0.470], \n",
    "#           'cat__l2_leaf_reg':[1,2,5,10,22,47,100],\n",
    "#           'cat__border_count':[5,10,22,47,100,220],\n",
    "#           'cat__class_weights':[[1.0, 1.0], [1.0, 2.20], [1.0, 4.22]]\n",
    "# #           'cat__ctr_border_count':[50,5,10,20,100,200]\n",
    "#          }\n",
    "\n",
    "def score_cv(params, random_state=random_state, cv=cv, X=X_train_dum_part, y=y_train_dum_part):\n",
    "    # the function gets a set of variable parameters in \"param\"\n",
    "    params = {\n",
    "        'depth': int(params['depth']), \n",
    "        'iterations': int(params['iterations']), \n",
    "        'learning_rate': params['learning_rate'],\n",
    "        'l2_leaf_reg': int(params['l2_leaf_reg']), \n",
    "        'border_count': int(params['border_count']), \n",
    "    }\n",
    "    \n",
    "    # we use this params to create a new LGBM Regressor\n",
    "    model = CatBoostClassifier(random_state=random_state, verbose=False, **params)\n",
    "    \n",
    "    # and then conduct the cross validation with the same folds as before\n",
    "    score = cross_val_score(model, X, y, cv=cv, scoring=\"roc_auc\", n_jobs=-1).mean()\n",
    "\n",
    "    return -score"
   ]
  },
  {
   "cell_type": "code",
   "execution_count": null,
   "metadata": {
    "scrolled": false
   },
   "outputs": [],
   "source": [
    "# for x in hp.qloguniform('label', 10, 100, 1):\n",
    "#     print(x)\n",
    "q=2\n",
    "for x in np.arange(np.log(1.0), np.log(10.0), 0.2):\n",
    "    print(\"{:.3f} {:.3f}\".format(x, round(np.exp(x) / q) * q), np.exp(x))"
   ]
  },
  {
   "cell_type": "code",
   "execution_count": null,
   "metadata": {},
   "outputs": [],
   "source": [
    "# possible values of parameters\n",
    "space={\n",
    "    'iterations': hp.quniform('iterations', np.log(10), np.log(1000), 1),\n",
    "    'depth' : hp.quniform('depth', 2, 8, 1),\n",
    "    'learning_rate': hp.loguniform('learning_rate', np.log(0.01), np.log(1.0)),\n",
    "    'l2_leaf_reg': hp.qloguniform('l2_leaf_reg', np.log(1), np.log(100), 1),\n",
    "    'border_count': hp.qloguniform('border_count', np.log(5), np.log(200), 1),\n",
    "      }\n"
   ]
  },
  {
   "cell_type": "code",
   "execution_count": null,
   "metadata": {},
   "outputs": [],
   "source": [
    "%%time\n",
    "\n",
    "# trials will contain logging information\n",
    "trials = Trials()\n",
    "\n",
    "n_iter = 100\n",
    "random_state = 42\n",
    "best=fmin(fn=score_cv, # function to optimize\n",
    "          space=space, \n",
    "          algo=tpe.suggest, # optimization algorithm, hyperopt will select its parameters automatically\n",
    "          max_evals=n_iter, # maximum number of iterations\n",
    "          trials=trials, # logging\n",
    "          rstate=np.random.RandomState(random_state),  # fixing random state for the reproducibility\n",
    "  \n",
    "         )\n",
    "best"
   ]
  },
  {
   "cell_type": "code",
   "execution_count": null,
   "metadata": {},
   "outputs": [],
   "source": [
    "# trials will contain logging information\n",
    "trials = Trials()\n",
    "\n",
    "n_iter = 100\n",
    "random_state = 42\n",
    "best=fmin(fn=score_cv, # function to optimize\n",
    "          space=space, \n",
    "          algo=anneal.suggest, # optimization algorithm, hyperopt will select its parameters automatically\n",
    "          max_evals=n_iter, # maximum number of iterations\n",
    "          trials=trials, # logging\n",
    "          rstate=np.random.RandomState(random_state),  # fixing random state for the reproducibility\n",
    "  \n",
    "         )\n",
    "best"
   ]
  },
  {
   "cell_type": "code",
   "execution_count": null,
   "metadata": {},
   "outputs": [],
   "source": [
    "# trials will contain logging information\n",
    "trials = Trials()\n",
    "\n",
    "n_iter = 100\n",
    "random_state = 42\n",
    "best=fmin(fn=score_cv, # function to optimize\n",
    "          space=space, \n",
    "          algo=rand.suggest, # optimization algorithm, hyperopt will select its parameters automatically\n",
    "          max_evals=n_iter, # maximum number of iterations\n",
    "          trials=trials, # logging\n",
    "          rstate=np.random.RandomState(random_state),  # fixing random state for the reproducibility\n",
    "  \n",
    "         )\n",
    "best"
   ]
  },
  {
   "cell_type": "code",
   "execution_count": null,
   "metadata": {},
   "outputs": [],
   "source": [
    "%%time\n",
    "# computing the score on the test set\n",
    "model = CatBoostClassifier(random_state=random_state, iterations=int(best['iterations']),\n",
    "                      depth=int(best['depth']),learning_rate=best['learning_rate'], verbose=False)\n",
    "\n",
    "model.fit(X_train_dum_part, y_train_dum_part)\n",
    "val_score=roc_auc_score(y_valid_dum, model.predict_proba(X_valid_dum)[:,1])\n",
    "\n",
    "print(\"Best cv score {:.5f}, val score {:.5f}, params {}\".format(val_score, score_cv(best), best))"
   ]
  },
  {
   "cell_type": "markdown",
   "metadata": {},
   "source": [
    "# NEW 0330 - Cat - overfitting detector"
   ]
  },
  {
   "cell_type": "code",
   "execution_count": null,
   "metadata": {},
   "outputs": [],
   "source": [
    "good_params = {\n",
    "    'iterations': 22, \n",
    "    'l2_leaf_reg': 5, \n",
    "    'learning_rate': 0.22, \n",
    "    'border_count': 100, \n",
    "    'depth': 3, \n",
    "    'class_weights': [1.0, 2.2]\n",
    "}\n",
    "est = CatBoostClassifier(random_state=42, verbose=False, **good_params)"
   ]
  },
  {
   "cell_type": "code",
   "execution_count": null,
   "metadata": {},
   "outputs": [],
   "source": [
    "%%time\n",
    "plot_learning_curve(est, \"est\", X_train_dum_part, y_train_dum_part, cv=5, ylim=(0, 1), verbose=10, n_jobs=N_JOBS)"
   ]
  },
  {
   "cell_type": "markdown",
   "metadata": {},
   "source": [
    "### One more est"
   ]
  },
  {
   "cell_type": "code",
   "execution_count": null,
   "metadata": {},
   "outputs": [],
   "source": [
    "good_params = {\n",
    "    'iterations': 220, \n",
    "    'l2_leaf_reg': 5, \n",
    "    'learning_rate': 0.22, \n",
    "    'border_count': 100, \n",
    "    'depth': 3, \n",
    "    'class_weights': [1.0, 2.2]\n",
    "}\n",
    "est = CatBoostClassifier(random_state=42, verbose=False, **good_params)"
   ]
  },
  {
   "cell_type": "code",
   "execution_count": null,
   "metadata": {},
   "outputs": [],
   "source": [
    "%%time\n",
    "plot_learning_curve(est, \"est\", X_train_dum_part, y_train_dum_part, cv=5, ylim=(0, 1), verbose=10, n_jobs=N_JOBS)"
   ]
  },
  {
   "cell_type": "markdown",
   "metadata": {},
   "source": [
    "### One more est"
   ]
  },
  {
   "cell_type": "code",
   "execution_count": null,
   "metadata": {},
   "outputs": [],
   "source": [
    "good_params = {\n",
    "    'iterations': 2200, \n",
    "    'l2_leaf_reg': 5, \n",
    "    'learning_rate': 0.22, \n",
    "    'border_count': 100, \n",
    "    'depth': 3, \n",
    "    'class_weights': [1.0, 2.2]\n",
    "}\n",
    "est = CatBoostClassifier(random_state=42, verbose=False, **good_params)"
   ]
  },
  {
   "cell_type": "code",
   "execution_count": null,
   "metadata": {},
   "outputs": [],
   "source": [
    "%%time\n",
    "plot_learning_curve(est, \"est\", X_train_dum_part, y_train_dum_part, cv=5, ylim=(0, 1), verbose=10, n_jobs=N_JOBS)"
   ]
  },
  {
   "cell_type": "code",
   "execution_count": null,
   "metadata": {},
   "outputs": [],
   "source": []
  },
  {
   "cell_type": "markdown",
   "metadata": {},
   "source": [
    "### Overfitting detector"
   ]
  },
  {
   "cell_type": "code",
   "execution_count": null,
   "metadata": {},
   "outputs": [],
   "source": [
    "good_params = {\n",
    "    'iterations': 10000, \n",
    "    'l2_leaf_reg': 5, \n",
    "    'learning_rate': 0.22, \n",
    "    'border_count': 100, \n",
    "    'depth': 3, \n",
    "    'class_weights': [1.0, 2.2]\n",
    "}\n",
    "est = CatBoostClassifier(random_state=42, verbose=False, \n",
    "                         use_best_model=True, eval_metric='AUC', od_type='IncToDec', \n",
    "                         # loss_function='AUC',  # Not supported\n",
    "                         **good_params)"
   ]
  },
  {
   "cell_type": "code",
   "execution_count": null,
   "metadata": {},
   "outputs": [],
   "source": [
    "%%time\n",
    "est.fit(X_train_dum_part, y_train_dum_part, eval_set=(X_valid_dum, y_valid_dum))"
   ]
  },
  {
   "cell_type": "code",
   "execution_count": null,
   "metadata": {},
   "outputs": [],
   "source": [
    "est.tree_count_  # !!!!!!!!!! Вывод: число деревьев выше 3000 не имеет смысла."
   ]
  },
  {
   "cell_type": "code",
   "execution_count": null,
   "metadata": {},
   "outputs": [],
   "source": [
    "preds = est.predict_proba(X_valid_dum)[:,1]\n",
    "score = roc_a(y_valid_dum, preds)\n",
    "print(score)"
   ]
  },
  {
   "cell_type": "markdown",
   "metadata": {},
   "source": [
    "# NEW 0330: RFE"
   ]
  },
  {
   "cell_type": "code",
   "execution_count": null,
   "metadata": {},
   "outputs": [],
   "source": [
    "from sklearn.feature_selection import SelectKBest, f_classif, RFECV\n",
    "def plot_rfe_chart(est, est_name, X, y, cv, scoring, \n",
    "                   ylim=(0.0, 1.01), step=1, min_features_to_select=1, verbose=0):\n",
    "    # Create the RFE object and compute a cross-validated score.\n",
    "    rfecv = RFECV(\n",
    "        estimator=est, step=step, min_features_to_select=min_features_to_select, \n",
    "        cv=cv, scoring=scoring, verbose=verbose)\n",
    "    rfecv.fit(X, y)\n",
    "    print(\"Optimal number of features : %d\" % rfecv.n_features_)\n",
    "\n",
    "    # Calculate best - all difference\n",
    "    #best_score = rfecv.grid_scores_[rfecv.n_features_ - 1]\n",
    "    best_score = max(rfecv.grid_scores_)\n",
    "    all_score = rfecv.grid_scores_[-1]\n",
    "\n",
    "    # Plot number of features VS. cross-validation scores\n",
    "    #plt.xlabel(\"Number of features selected\")  # Overlaps othe legend\n",
    "    plt.ylabel(scoring)\n",
    "    line_label = '{}=f(n_feats_selected),bst={}'.format(scoring, rfecv.n_features_)\n",
    "    plt.plot(range(1, len(rfecv.grid_scores_) + 1), rfecv.grid_scores_, label=line_label)\n",
    "    plt.xticks(range(1, len(rfecv.grid_scores_) + 1))    \n",
    "    plt.ylim(ylim)\n",
    "    plt.grid()\n",
    "    plt.legend(loc='best')\n",
    "    plt.title('RFE: {},{}.B/A={:.3f}({:+.3f})'.format(est_name, scoring, best_score, best_score - all_score)) # 100.0 * (best_to_all - 1)))\n",
    "    return rfecv.n_features_, rfecv.ranking_# Create the RFE object and compute a cross-validated score.\n",
    "\n",
    "def plot_feature_ratings(feature_rankings):\n",
    "    plt.bar(range(1, len(feature_rankings) + 1), 1 / feature_rankings)\n",
    "    plt.xticks(range(1, len(feature_rankings) + 1))\n",
    "    plt.title('Feature ratings (1/rank)')\n"
   ]
  },
  {
   "cell_type": "code",
   "execution_count": null,
   "metadata": {},
   "outputs": [],
   "source": [
    "good_params = {\n",
    "    'iterations': 220, \n",
    "    'l2_leaf_reg': 5, \n",
    "    'learning_rate': 0.22, \n",
    "    'border_count': 100, \n",
    "    'depth': 3, \n",
    "    'class_weights': [1.0, 2.2]\n",
    "}\n",
    "est = CatBoostClassifier(random_state=42, verbose=False, **good_params)"
   ]
  },
  {
   "cell_type": "code",
   "execution_count": null,
   "metadata": {
    "scrolled": false
   },
   "outputs": [],
   "source": [
    "cv = 3\n",
    "scoring='roc_auc'\n",
    "ylim = (0.6, 0.8)\n",
    "plt.figure(figsize=(16, 8))\n",
    "n_best, f_rankings = plot_rfe_chart(est, \"est_name\", X_train_dum_part, y_train_dum_part, cv, scoring, ylim)\n",
    "plt.show()\n",
    "plt.figure(figsize=(16, 8))\n",
    "plot_feature_ratings(f_rankings)"
   ]
  },
  {
   "cell_type": "code",
   "execution_count": null,
   "metadata": {},
   "outputs": [],
   "source": [
    "# Model with rank: 1\n",
    "# Mean validation score: 0.74636 (std: 0.00625)\n",
    "# Parameters: {'lgbm__reg_lambda': 0.047, 'lgbm__n_estimators': 2200, 'lgbm__learning_rate': 0.022}\n",
    "est = LGBMClassifier(n_estimators=2200, learning_rate=0.022, reg_lambda=0.047, random_state=42)\n",
    "\n",
    "cv = 3\n",
    "scoring='roc_auc'\n",
    "ylim = (0.6, 0.8)\n",
    "plt.figure(figsize=(16, 8))\n",
    "n_best, f_rankings = plot_rfe_chart(est, \"est_name\", X_train_dum_part, y_train_dum_part, cv, scoring, ylim)\n",
    "plt.show()\n",
    "plt.figure(figsize=(16, 8))\n",
    "plot_feature_ratings(f_rankings)"
   ]
  },
  {
   "cell_type": "markdown",
   "metadata": {},
   "source": [
    "### Same - fast, full cycle"
   ]
  },
  {
   "cell_type": "code",
   "execution_count": null,
   "metadata": {},
   "outputs": [],
   "source": [
    "%%time\n",
    "#est = LGBMClassifier(n_estimators=2200, learning_rate=0.022, reg_lambda=0.047, random_state=42)\n",
    "#=== cv=10 ===\n",
    "#est = LGBMClassifier(n_estimators=22, learning_rate=0.022, reg_lambda=0.100, random_state=42)  0.707(+0.000)\n",
    "#est = LGBMClassifier(n_estimators=22, learning_rate=0.022, reg_lambda=0.100, random_state=42)  0.707(+0.000)\n",
    "#est = LGBMClassifier(n_estimators=22, learning_rate=0.022, reg_lambda=0.220, random_state=42)   0.708(+0.000) n=36\n",
    "#est = LGBMClassifier(n_estimators=220, learning_rate=0.022, reg_lambda=0.220, random_state=42) #  0.733(+0.000) n=56, 42s\n",
    "#est = LGBMClassifier(n_estimators=470, learning_rate=0.022, reg_lambda=0.220, random_state=42) #  0.740(+0.000) n=46, 73s\n",
    "#est = LGBMClassifier(n_estimators=1000, learning_rate=0.022, reg_lambda=0.220, random_state=42) #  0.745(+0.000) n=46, 2m\n",
    "#est = LGBMClassifier(n_estimators=2200, learning_rate=0.022, reg_lambda=0.220, random_state=42) #  0.748(+0.000) n=56, 4m\n",
    "# === cv=5 ===\n",
    "est = LGBMClassifier(n_estimators=2200, learning_rate=0.022, reg_lambda=100.000, random_state=42)\n",
    "\n",
    "cv = 5\n",
    "scoring='roc_auc'\n",
    "ylim = (0.7, 0.75)\n",
    "plt.figure(figsize=(12, 5))\n",
    "step=1\n",
    "verbose=0\n",
    "\n",
    "n_best, f_rankings = plot_rfe_chart(est, \"est_name\", X_train_dum_part, y_train_dum_part, cv, scoring, \n",
    "                                    ylim, step=step, verbose=verbose)\n",
    "plt.show()\n",
    "\n",
    "plt.figure(figsize=(12, 5))\n",
    "plot_feature_ratings(f_rankings)"
   ]
  },
  {
   "cell_type": "code",
   "execution_count": null,
   "metadata": {},
   "outputs": [],
   "source": [
    "X_train_dum_part.info()"
   ]
  },
  {
   "cell_type": "code",
   "execution_count": null,
   "metadata": {
    "scrolled": false
   },
   "outputs": [],
   "source": [
    "%%time\n",
    "est = LGBMClassifier(n_estimators=2200, learning_rate=0.022, reg_lambda=0.220, random_state=42) #  0.748(+0.000) n=56, 4m\n",
    "X_train_dum_part2 = X_train_dum_part.drop('DepTime', axis=1)\n",
    "plot_learning_curve(est, \"est\", X_train_dum_part2, y_train_dum_part, cv=5, ylim=(0.5, 1), verbose=10, n_jobs=N_JOBS)"
   ]
  },
  {
   "cell_type": "code",
   "execution_count": null,
   "metadata": {},
   "outputs": [],
   "source": [
    "%%time\n",
    "est = LGBMClassifier(n_estimators=2200, learning_rate=0.022, reg_lambda=1000.00, random_state=42) \n",
    "X_train_dum_part2 = X_train_dum_part.drop('DepTime', axis=1)\n",
    "plot_learning_curve(est, \"est\", X_train_dum_part2, y_train_dum_part, cv=5, ylim=(0.5, 1), verbose=10, n_jobs=N_JOBS)"
   ]
  },
  {
   "cell_type": "markdown",
   "metadata": {},
   "source": [
    "### Cat - rank2"
   ]
  },
  {
   "cell_type": "code",
   "execution_count": null,
   "metadata": {},
   "outputs": [],
   "source": [
    "# Mean validation score: 0.74677 (std: 0.00613)\n",
    "# Parameters: {'cat__class_weights': [1.0, 1.0], 'cat__random_strength': 0.5, 'cat__l2_leaf_reg': 100, 'cat__border_count': 254, 'cat__depth': 6, 'cat__bagging_temperature': 0.2, 'cat__iterations': 3300}\n",
    " \n",
    "good_params = {\n",
    "    'iterations': 3300, \n",
    "    'l2_leaf_reg': 5, \n",
    "    #'learning_rate': 0.22, \n",
    "    'border_count': 254, \n",
    "    'depth': 5, \n",
    "    'class_weights': [1.0, 2.2],\n",
    "    'random_strength': 0.1,\n",
    "    'bagging_temperature': 0.5\n",
    "}\n",
    "est = CatBoostClassifier(random_state=42, verbose=False, **good_params)    "
   ]
  },
  {
   "cell_type": "code",
   "execution_count": null,
   "metadata": {},
   "outputs": [],
   "source": [
    "cv = 3\n",
    "scoring='roc_auc'\n",
    "ylim = (0.6, 0.8)\n",
    "plt.figure(figsize=(16, 8))\n",
    "n_best, f_rankings = plot_rfe_chart(est, \"est_name\", X_train_dum_part, y_train_dum_part, cv, scoring, ylim)\n",
    "plt.show()\n",
    "plt.figure(figsize=(16, 8))\n",
    "plot_feature_ratings(f_rankings)"
   ]
  },
  {
   "cell_type": "markdown",
   "metadata": {},
   "source": [
    "### Same, fast"
   ]
  },
  {
   "cell_type": "code",
   "execution_count": null,
   "metadata": {},
   "outputs": [],
   "source": [
    "good_params = {\n",
    "    'iterations': 330, #3300, \n",
    "    'l2_leaf_reg': 5, \n",
    "    #'learning_rate': 0.22, \n",
    "    'border_count': 254, \n",
    "    'depth': 5, \n",
    "    'class_weights': [1.0, 2.2],\n",
    "    'random_strength': 0.1,\n",
    "    'bagging_temperature': 0.5\n",
    "}\n",
    "est = CatBoostClassifier(random_state=42, verbose=False, **good_params)  "
   ]
  },
  {
   "cell_type": "code",
   "execution_count": null,
   "metadata": {},
   "outputs": [],
   "source": [
    "#est = LGBMClassifier(n_estimators=2200, learning_rate=0.022, reg_lambda=0.047, random_state=42)\n",
    "#est = LGBMClassifier(n_estimators=22, learning_rate=0.022, reg_lambda=0.047, random_state=42)\n",
    "\n",
    "cv = 3\n",
    "scoring='roc_auc'\n",
    "ylim = (0.6, 0.8)\n",
    "plt.figure(figsize=(16, 8))\n",
    "step=5\n",
    "\n",
    "n_best, f_rankings = plot_rfe_chart(est, \"est_name\", X_train_dum_part, y_train_dum_part, cv, scoring, \n",
    "                                    ylim, step=step, verbose=10)\n",
    "plt.show()\n",
    "\n",
    "plt.figure(figsize=(16, 8))\n",
    "plot_feature_ratings(f_rankings)"
   ]
  },
  {
   "cell_type": "markdown",
   "metadata": {},
   "source": [
    "# 03-31: Train on misc parts"
   ]
  },
  {
   "cell_type": "code",
   "execution_count": null,
   "metadata": {},
   "outputs": [],
   "source": [
    "X_train_dummies.head(3)"
   ]
  },
  {
   "cell_type": "code",
   "execution_count": null,
   "metadata": {},
   "outputs": [],
   "source": [
    "X_train_dum_part.head(3)\n",
    "# !!! shuffled!"
   ]
  },
  {
   "cell_type": "code",
   "execution_count": null,
   "metadata": {},
   "outputs": [],
   "source": [
    "X_tr_d_1 = X_train_dummies.drop('DepTime', axis=1).iloc[0:33333]\n",
    "X_tr_d_2 = X_train_dummies.drop('DepTime', axis=1).iloc[33333:66667]\n",
    "X_tr_d_3 = X_train_dummies.drop('DepTime', axis=1).iloc[66667:]\n",
    "X_te_d = X_test_dummies.drop('DepTime', axis=1)\n",
    "\n",
    "y_tr_1 = y_train.iloc[0:33333]\n",
    "y_tr_2 = y_train.iloc[33333:66667]\n",
    "y_tr_3 = y_train.iloc[66667:]"
   ]
  },
  {
   "cell_type": "code",
   "execution_count": null,
   "metadata": {},
   "outputs": [],
   "source": [
    "X_tr_d_1.head(3)"
   ]
  },
  {
   "cell_type": "code",
   "execution_count": null,
   "metadata": {},
   "outputs": [],
   "source": [
    "#%%time\n",
    "est = LGBMClassifier(n_estimators=2200, learning_rate=0.022, reg_lambda=0.220, random_state=42) #  0.748(+0.000) n=56, 4m\n",
    "#X_train_dum_part2 = X_train_dum_part.drop('DepTime', axis=1)\n",
    "#plot_learning_curve(est, \"est\", X_train_dum_part2, y_train_dum_part, cv=5, ylim=(0.5, 1), verbose=10, n_jobs=N_JOBS)"
   ]
  },
  {
   "cell_type": "code",
   "execution_count": null,
   "metadata": {},
   "outputs": [],
   "source": [
    "submission_suffix=\"lgbm-tr-1\"\n",
    "cv=5\n",
    "train_and_predict(est, X_tr_d_1, y_tr_1, X_te_d, cv=cv, submission_suffix=submission_suffix, scoring='roc_auc')"
   ]
  },
  {
   "cell_type": "code",
   "execution_count": null,
   "metadata": {},
   "outputs": [],
   "source": [
    "submission_suffix=\"lgbm-tr-1-cv10\"\n",
    "cv=10\n",
    "train_and_predict(est, X_tr_d_1, y_tr_1, X_te_d, cv=cv, submission_suffix=submission_suffix, scoring='roc_auc')"
   ]
  },
  {
   "cell_type": "code",
   "execution_count": null,
   "metadata": {},
   "outputs": [],
   "source": [
    "submission_suffix=\"lgbm-tr-2\"\n",
    "cv=5\n",
    "train_and_predict(est, X_tr_d_2, y_tr_2, X_te_d, cv=cv, submission_suffix=submission_suffix, scoring='roc_auc')"
   ]
  },
  {
   "cell_type": "code",
   "execution_count": null,
   "metadata": {},
   "outputs": [],
   "source": [
    "submission_suffix=\"lgbm-tr-3-fixed\"  # !!! в первом запуске ошибочно остались X_tr_d_1, y_tr_1\n",
    "cv=5\n",
    "train_and_predict(est, X_tr_d_3, y_tr_3, X_te_d, cv=cv, submission_suffix=submission_suffix, scoring='roc_auc')"
   ]
  },
  {
   "cell_type": "code",
   "execution_count": null,
   "metadata": {},
   "outputs": [],
   "source": [
    "### Same, +validation on other pieces"
   ]
  },
  {
   "cell_type": "code",
   "execution_count": null,
   "metadata": {},
   "outputs": [],
   "source": [
    "est.fit(X_tr_d_1, y_tr_1)\n",
    "\n",
    "score2 = roc_auc_score(y_tr_2, est.predict_proba(X_tr_d_2)[:,1])\n",
    "print(score2)\n",
    "\n",
    "score3 = roc_auc_score(y_tr_3, est.predict_proba(X_tr_d_3)[:,1])\n",
    "print(score3)\n",
    "\n",
    "score23 = roc_auc_score(pd.concat([y_tr_2, y_tr_3], axis=0), est.predict_proba(pd.concat([X_tr_d_2, X_tr_d_3], axis=0))[:,1])\n",
    "print(score23)  # Should be approx. a mean of the above two\n"
   ]
  },
  {
   "cell_type": "code",
   "execution_count": null,
   "metadata": {},
   "outputs": [],
   "source": [
    "est.fit(X_tr_d_2, y_tr_2)\n",
    "\n",
    "score1 = roc_auc_score(y_tr_1, est.predict_proba(X_tr_d_1)[:,1])\n",
    "print(score1)\n",
    "\n",
    "score3 = roc_auc_score(y_tr_3, est.predict_proba(X_tr_d_3)[:,1])\n",
    "print(score3)"
   ]
  },
  {
   "cell_type": "code",
   "execution_count": null,
   "metadata": {},
   "outputs": [],
   "source": [
    "est.fit(X_tr_d_3, y_tr_3)\n",
    "\n",
    "score1 = roc_auc_score(y_tr_1, est.predict_proba(X_tr_d_1)[:,1])\n",
    "print(score1)\n",
    "\n",
    "score2 = roc_auc_score(y_tr_2, est.predict_proba(X_tr_d_2)[:,1])\n",
    "print(score2)"
   ]
  },
  {
   "cell_type": "code",
   "execution_count": null,
   "metadata": {},
   "outputs": [],
   "source": [
    "# Use old splitting\n",
    "\n",
    "submission_suffix=None\n",
    "cv=5\n",
    "train_and_predict(est, X_train_dum_part.drop('DepTime', axis=1), y_train_dum_part, X_te_d, cv=cv, submission_suffix=submission_suffix, scoring='roc_auc')\n",
    "\n",
    "\n",
    "est.fit(X_train_dum_part.drop('DepTime', axis=1), y_train_dum_part)\n",
    "\n",
    "print(roc_auc_score(y_valid_dum, est.predict_proba(X_valid_dum.drop('DepTime', axis=1))[:,1]))"
   ]
  },
  {
   "cell_type": "code",
   "execution_count": null,
   "metadata": {},
   "outputs": [],
   "source": [
    "# CV mean: 0.7394085700516868, CV std: 0.006974855444093608\n",
    "# 0.7360428673681989\n",
    "\n",
    "#!!! Эффект 0.865 пропал!"
   ]
  },
  {
   "cell_type": "markdown",
   "metadata": {},
   "source": [
    "### Same, for orig reg_lamda\n"
   ]
  },
  {
   "cell_type": "code",
   "execution_count": null,
   "metadata": {},
   "outputs": [],
   "source": [
    "est = LGBMClassifier(n_estimators=2200, learning_rate=0.022, reg_lambda=0.047, random_state=42)"
   ]
  },
  {
   "cell_type": "code",
   "execution_count": null,
   "metadata": {},
   "outputs": [],
   "source": [
    "# Use old splitting\n",
    "submission_suffix=None\n",
    "cv=5\n",
    "train_and_predict(est, X_train_dum_part.drop('DepTime', axis=1), y_train_dum_part, X_te_d, cv=cv, submission_suffix=submission_suffix, scoring='roc_auc')\n",
    "\n",
    "\n",
    "est.fit(X_train_dum_part.drop('DepTime', axis=1), y_train_dum_part)\n",
    "\n",
    "print(roc_auc_score(y_valid_dum, est.predict_proba(X_valid_dum.drop('DepTime', axis=1))[:,1]))"
   ]
  },
  {
   "cell_type": "code",
   "execution_count": null,
   "metadata": {},
   "outputs": [],
   "source": [
    "# !!!! Не воспроизводится!"
   ]
  },
  {
   "cell_type": "markdown",
   "metadata": {},
   "source": [
    "### Same, with orig Scaler"
   ]
  },
  {
   "cell_type": "code",
   "execution_count": null,
   "metadata": {},
   "outputs": [],
   "source": [
    "clf = LGBMClassifier(n_estimators=2200, learning_rate=0.022, reg_lambda=0.047, random_state=42)\n",
    "est = Pipeline([('scaler', StandardScaler()), ('lgbm', clf)])"
   ]
  },
  {
   "cell_type": "code",
   "execution_count": null,
   "metadata": {},
   "outputs": [],
   "source": [
    "# Use old splitting\n",
    "submission_suffix=None\n",
    "cv=5\n",
    "train_and_predict(est, X_train_dum_part.drop('DepTime', axis=1), y_train_dum_part, X_te_d, cv=cv, submission_suffix=submission_suffix, scoring='roc_auc')\n",
    "\n",
    "\n",
    "est.fit(X_train_dum_part.drop('DepTime', axis=1), y_train_dum_part)\n",
    "\n",
    "print(roc_auc_score(y_valid_dum, est.predict_proba(X_valid_dum.drop('DepTime', axis=1))[:,1]))"
   ]
  },
  {
   "cell_type": "code",
   "execution_count": null,
   "metadata": {},
   "outputs": [],
   "source": [
    "# Same, do not drop DepTime (as in original)\n",
    "submission_suffix=None\n",
    "cv=5\n",
    "train_and_predict(est, X_train_dum_part, y_train_dum_part, X_te_d, cv=cv, submission_suffix=submission_suffix, scoring='roc_auc')\n",
    "\n",
    "\n",
    "est.fit(X_train_dum_part, y_train_dum_part)\n",
    "\n",
    "print(roc_auc_score(y_valid_dum, est.predict_proba(X_valid_dum)[:,1]))"
   ]
  },
  {
   "cell_type": "code",
   "execution_count": null,
   "metadata": {},
   "outputs": [],
   "source": [
    "# !! 0.746 воспроизвелась, а 0.865 - нет, вместо неё провальное 0.743\n",
    "# L0331T0447"
   ]
  },
  {
   "cell_type": "markdown",
   "metadata": {},
   "source": [
    "# New 1"
   ]
  },
  {
   "cell_type": "code",
   "execution_count": null,
   "metadata": {},
   "outputs": [],
   "source": []
  },
  {
   "cell_type": "code",
   "execution_count": null,
   "metadata": {},
   "outputs": [],
   "source": []
  },
  {
   "cell_type": "code",
   "execution_count": null,
   "metadata": {},
   "outputs": [],
   "source": [
    "ests = [('LogitPipe', logit_pipe),\n",
    "#         (\"LinearSVC(C=10.0)\", LinearSVC(C=10.0)), \n",
    "        ('LR', LogisticRegression(C=1, random_state=17, solver='liblinear')),\n",
    "        (\"LGBM\", LGBMClassifier(random_state=17)), \n",
    "        (\"LGBM_100est\", LGBMClassifier(random_state=17, n_estimators=100)),\n",
    "        (\"XGBC_100est\", XGBClassifier(random_state=17, n_estimators=100)),\n",
    "        (\"rf_100est\", RandomForestClassifier(random_state=17, n_estimators=100)),\n",
    "        (\"cat_100est\", CatBoostClassifier(random_state=17, n_estimators=100, verbose=0))]\n",
    "scores = []\n",
    "for name, est in ests:\n",
    "    %time est.fit(X_train_part, y_train_part)\n",
    "    est_pred = est.predict_proba(X_valid)[:, 1]\n",
    "    score = roc_auc_score(y_valid, est_pred)\n",
    "    scores.append(score)\n",
    "    print(name, score)"
   ]
  },
  {
   "cell_type": "code",
   "execution_count": null,
   "metadata": {},
   "outputs": [],
   "source": [
    "%%time\n",
    "\n",
    "from xgboost import XGBClassifier\n",
    "from sklearn.svm import LinearSVC\n",
    "ests = [(\"LinearSVC(C=10.0)\", LinearSVC(C=10.0)), \n",
    "        (\"LGBM\", LGBMClassifier(random_state=17)), \n",
    "        (\"LGBM_100est\", LGBMClassifier(random_state=17, n_estimators=100)),\n",
    "        (\"XGBC_100est\", XGBClassifier(random_state=17, n_estimators=100)),\n",
    "        (\"rf_100est\", RandomForestClassifier(random_state=17, n_estimators=100)),\n",
    "        (\"cat_100est\", catboost.CatBoostClassifier(random_state=17, n_estimators=100, verbose=0))]\n",
    "for name, est in ests:\n",
    "    print(name)\n",
    "    %time plot_learning_curve(est, name, X_train_dum_part, y_train_dum_part, ylim=(0.0, 1.01), train_sizes=np.linspace(.1, .2, 5))\n",
    "    plt.show()"
   ]
  },
  {
   "cell_type": "code",
   "execution_count": null,
   "metadata": {
    "scrolled": true
   },
   "outputs": [],
   "source": [
    "from sklearn.pipeline import Pipeline\n",
    "from sklearn.feature_selection import SelectKBest, f_classif\n",
    "from xgboost import XGBClassifier\n",
    "from sklearn.svm import LinearSVC\n",
    "\n",
    "ests = [(\"LinearSVC(C=10.0)\", LinearSVC(C=10.0)), \n",
    "        (\"LGBM\", LGBMClassifier(random_state=17)), \n",
    "        (\"LGBM_100est\", LGBMClassifier(random_state=17, n_estimators=100)),\n",
    "        (\"XGBC_100est\", XGBClassifier(random_state=17, n_estimators=100)),\n",
    "        (\"rf_100est\", RandomForestClassifier(random_state=17, n_estimators=100)),\n",
    "        (\"cat_100est\", catboost.CatBoostClassifier(random_state=17, n_estimators=100, verbose=0))]\n",
    "\n",
    "# SelectKBest(f_classif, k=2) will select the k=2 best features according to their Anova F-value\n",
    "for k in range(X_train_dum_part.shape[1], 1, -1):\n",
    "    print(k)\n",
    "    for name, est in ests:\n",
    "        print(name)\n",
    "        plot_learning_curve(Pipeline([(\"fs\", SelectKBest(f_classif, k=k)), # select two features\n",
    "                               (name,  est)]),\n",
    "                    \"SelectKBest(f_classif, k={}) + {}\".format(k, name),\n",
    "                    X_train_dum_part, y_train_dum_part, ylim=(0.6, 0.8),\n",
    "                    train_sizes=np.linspace(.1, 1.0, 5))\n",
    "        plt.show()"
   ]
  },
  {
   "cell_type": "code",
   "execution_count": null,
   "metadata": {},
   "outputs": [],
   "source": []
  },
  {
   "cell_type": "code",
   "execution_count": null,
   "metadata": {},
   "outputs": [],
   "source": [
    "# <!-- collapse=True -->\n",
    "\n",
    "# Modified from http://scikit-learn.org/stable/auto_examples/plot_learning_curve.html\n",
    "from sklearn.learning_curve import learning_curve\n",
    "def plot_learning_curve(estimator, title, X, y, ylim=None, cv=None,\n",
    "                        train_sizes=np.linspace(.1, 1.0, 5)):\n",
    "    \"\"\"\n",
    "    Generate a simple plot of the test and traning learning curve.\n",
    "\n",
    "    Parameters\n",
    "    ----------\n",
    "    estimator : object type that implements the \"fit\" and \"predict\" methods\n",
    "        An object of that type which is cloned for each validation.\n",
    "\n",
    "    title : string\n",
    "        Title for the chart.\n",
    "\n",
    "    X : array-like, shape (n_samples, n_features)\n",
    "        Training vector, where n_samples is the number of samples and\n",
    "        n_features is the number of features.\n",
    "\n",
    "    y : array-like, shape (n_samples) or (n_samples, n_features), optional\n",
    "        Target relative to X for classification or regression;\n",
    "        None for unsupervised learning.\n",
    "\n",
    "    ylim : tuple, shape (ymin, ymax), optional\n",
    "        Defines minimum and maximum yvalues plotted.\n",
    "\n",
    "    cv : integer, cross-validation generator, optional\n",
    "        If an integer is passed, it is the number of folds (defaults to 3).\n",
    "        Specific cross-validation objects can be passed, see\n",
    "        sklearn.cross_validation module for the list of possible objects\n",
    "    \"\"\"\n",
    "    \n",
    "    plt.figure()\n",
    "    train_sizes, train_scores, test_scores = learning_curve(\n",
    "        estimator, X, y, cv=5, n_jobs=1, train_sizes=train_sizes, scoring='roc_auc')\n",
    "    train_scores_mean = np.mean(train_scores, axis=1)\n",
    "    train_scores_std = np.std(train_scores, axis=1)\n",
    "    test_scores_mean = np.mean(test_scores, axis=1)\n",
    "    test_scores_std = np.std(test_scores, axis=1)\n",
    "\n",
    "    plt.fill_between(train_sizes, train_scores_mean - train_scores_std,\n",
    "                     train_scores_mean + train_scores_std, alpha=0.1,\n",
    "                     color=\"r\")\n",
    "    plt.fill_between(train_sizes, test_scores_mean - test_scores_std,\n",
    "                     test_scores_mean + test_scores_std, alpha=0.1, color=\"g\")\n",
    "    plt.plot(train_sizes, train_scores_mean, 'o-', color=\"r\",\n",
    "             label=\"Training score\")\n",
    "    plt.plot(train_sizes, test_scores_mean, 'o-', color=\"g\",\n",
    "             label=\"Cross-validation score\")\n",
    "\n",
    "    plt.xlabel(\"Training examples\")\n",
    "    plt.ylabel(\"Score\")\n",
    "    plt.legend(loc=\"best\")\n",
    "    plt.grid(\"on\") \n",
    "    if ylim:\n",
    "        plt.ylim(ylim)\n",
    "    plt.title(title)"
   ]
  },
  {
   "cell_type": "code",
   "execution_count": null,
   "metadata": {
    "_uuid": "5bac98797b2bfb23851d735ec3761fc0e1401e61"
   },
   "outputs": [],
   "source": [
    "X_train = train_df[['Distance', 'DepTime']].values \n",
    "y_train = train_df['dep_delayed_15min'].map({'Y': 1, 'N': 0}).values\n",
    "X_test = test_df[['Distance', 'DepTime']].values\n",
    "\n",
    "X_train_part, X_valid, y_train_part, y_valid = \\\n",
    "    train_test_split(X_train, y_train, \n",
    "                     test_size=0.3, random_state=17)"
   ]
  },
  {
   "cell_type": "code",
   "execution_count": null,
   "metadata": {
    "_uuid": "6e99742ad807b66899de68241b60cf8310fb306c"
   },
   "outputs": [],
   "source": [
    "logit_pipe = Pipeline([('scaler', StandardScaler()),\n",
    "                       ('logit', LogisticRegression(C=1, random_state=17, solver='liblinear'))])"
   ]
  },
  {
   "cell_type": "code",
   "execution_count": null,
   "metadata": {
    "_uuid": "309be359915c00cbad41384a08926ddf25d47c7b",
    "scrolled": true
   },
   "outputs": [],
   "source": [
    "logit_pipe.fit(X_train_part, y_train_part)\n",
    "logit_valid_pred = logit_pipe.predict_proba(X_valid)[:, 1]\n",
    "\n",
    "roc_auc_score(y_valid, logit_valid_pred)"
   ]
  },
  {
   "cell_type": "code",
   "execution_count": null,
   "metadata": {
    "_uuid": "082bfede543f62192c55146294cdb23b3b898c90"
   },
   "outputs": [],
   "source": [
    "logit_pipe.fit(X_train, y_train)\n",
    "logit_test_pred = logit_pipe.predict_proba(X_test)[:, 1]\n",
    "\n",
    "pd.Series(logit_test_pred, \n",
    "          name='dep_delayed_15min').to_csv('logit_2feat.csv', \n",
    "                                           index_label='id', header=True)"
   ]
  },
  {
   "cell_type": "markdown",
   "metadata": {},
   "source": [
    "#### Добавление class_weight='balanced'"
   ]
  },
  {
   "cell_type": "code",
   "execution_count": null,
   "metadata": {},
   "outputs": [],
   "source": [
    "logit_pipe = Pipeline([('scaler', StandardScaler()),\n",
    "                       ('logit', LogisticRegression(C=1, random_state=17, solver='liblinear', class_weight='balanced'))])"
   ]
  },
  {
   "cell_type": "code",
   "execution_count": null,
   "metadata": {},
   "outputs": [],
   "source": [
    "logit_pipe.fit(X_train_part, y_train_part)\n",
    "logit_valid_pred = logit_pipe.predict_proba(X_valid)[:, 1]\n",
    "\n",
    "roc_auc_score(y_valid, logit_valid_pred)"
   ]
  },
  {
   "cell_type": "markdown",
   "metadata": {
    "_uuid": "efd64f65bd3ac9d7fd279513a8cf49e7f2cb7ac0"
   },
   "source": [
    "Now you have to beat **\"A3 baseline (8 credits)\"** on Public LB. It's not challenging at all. Go for LightGBM, maybe some other models (or ensembling) as well. Include categorical features, do some simple feature engineering as well. Good luck!"
   ]
  },
  {
   "cell_type": "markdown",
   "metadata": {},
   "source": [
    "# NEW 1"
   ]
  },
  {
   "cell_type": "code",
   "execution_count": null,
   "metadata": {},
   "outputs": [],
   "source": [
    "import xgboost"
   ]
  },
  {
   "cell_type": "code",
   "execution_count": null,
   "metadata": {},
   "outputs": [],
   "source": [
    "est_pipe = Pipeline([('scaler', StandardScaler()),\n",
    "                       ('est', xgboost.XGBClassifier(n_estimators=100, random_state=17))])"
   ]
  },
  {
   "cell_type": "code",
   "execution_count": null,
   "metadata": {},
   "outputs": [],
   "source": [
    "est_pipe.fit(X_train_part, y_train_part)\n",
    "est_valid_pred = est_pipe.predict_proba(X_valid)[:, 1]\n",
    "\n",
    "roc_auc_score(y_valid, est_valid_pred)"
   ]
  },
  {
   "cell_type": "code",
   "execution_count": null,
   "metadata": {},
   "outputs": [],
   "source": [
    "est_pipe.fit(X_train, y_train)\n",
    "est_test_pred = est_pipe.predict_proba(X_test)[:, 1]\n",
    "\n",
    "pd.Series(est_test_pred, \n",
    "          name='dep_delayed_15min').to_csv('est_2feat_2-1.csv', \n",
    "                                           index_label='id', header=True)"
   ]
  },
  {
   "cell_type": "markdown",
   "metadata": {},
   "source": [
    "# NEW 2"
   ]
  },
  {
   "cell_type": "code",
   "execution_count": null,
   "metadata": {},
   "outputs": [],
   "source": [
    "import lightgbm as lgb"
   ]
  },
  {
   "cell_type": "code",
   "execution_count": null,
   "metadata": {},
   "outputs": [],
   "source": [
    "lgb_pipe = Pipeline([('scaler', StandardScaler()),\n",
    "                       ('lgb',lgb.LGBMRegressor(num_leaves=31,\n",
    "                        learning_rate=0.05,\n",
    "                        n_estimators=100))])"
   ]
  },
  {
   "cell_type": "code",
   "execution_count": null,
   "metadata": {},
   "outputs": [],
   "source": [
    "lgb_pipe.fit(X_train_part, y_train_part)\n",
    "# predict\n",
    "# lgb_valid_pred = lgb_pipe.predict_proba(X_valid)[:, 1]\n",
    "lgb_valid_pred = lgb_pipe.predict(X_valid)\n",
    "roc_auc_score(y_valid, lgb_valid_pred)"
   ]
  },
  {
   "cell_type": "code",
   "execution_count": null,
   "metadata": {},
   "outputs": [],
   "source": [
    "lgb_pipe.fit(X_train, y_train)\n",
    "lgb_test_pred = lgb_pipe.predict(X_test)\n",
    "\n",
    "\n",
    "pd.Series(lgb_test_pred, \n",
    "          name='dep_delayed_15min').to_csv('est_2feat_3-2.csv', \n",
    "                                           index_label='id', header=True)"
   ]
  },
  {
   "cell_type": "markdown",
   "metadata": {},
   "source": [
    "# NEW 3"
   ]
  },
  {
   "cell_type": "code",
   "execution_count": null,
   "metadata": {},
   "outputs": [],
   "source": [
    "from sklearn.model_selection import GridSearchCV\n",
    "from sklearn.metrics import auc, accuracy_score, roc_auc_score"
   ]
  },
  {
   "cell_type": "code",
   "execution_count": null,
   "metadata": {},
   "outputs": [],
   "source": [
    "X_train1 = train_df[['DayofMonth', 'DayOfWeek', 'UniqueCarrier', 'Distance', 'DepTime']].values\n",
    "X_test1 = test_df[['DayofMonth', 'DayOfWeek', 'UniqueCarrier', 'Distance', 'DepTime']].values\n",
    "X_train_part1, X_valid1, y_train_part1, y_valid1 = \\\n",
    "    train_test_split(X_train1, y_train, \n",
    "                     test_size=0.3, random_state=17)"
   ]
  },
  {
   "cell_type": "code",
   "execution_count": null,
   "metadata": {},
   "outputs": [],
   "source": [
    "lgb_pipe = Pipeline([('scaler', StandardScaler()),\n",
    "                       ('lgb',lgb.LGBMClassifier(learning_rate = 0.125, \n",
    "                        n_estimators = 100))])"
   ]
  },
  {
   "cell_type": "code",
   "execution_count": null,
   "metadata": {},
   "outputs": [],
   "source": [
    "lgb_pipe.fit(X_train_part1, y_train_part1)\n",
    "# predict\n",
    "# lgb_valid_pred = lgb_pipe.predict_proba(X_valid)[:, 1]\n",
    "lgb_valid_pred1 = lgb_pipe.predict(X_valid1)\n",
    "roc_auc_score(y_valid1, lgb_valid_pred1)"
   ]
  },
  {
   "cell_type": "code",
   "execution_count": null,
   "metadata": {},
   "outputs": [],
   "source": [
    "param_grid = {\n",
    "    'n_estimators': [x for x in range(20, 100, 10)],\n",
    "    'learning_rate': [0.10, 0.125, 0.15, 0.175, 0.2, 0.5]}\n",
    "gridsearch = GridSearchCV(estimator, param_grid)\n",
    "\n",
    "gridsearch.fit(X_train_part, y_train_part,\n",
    "        eval_set = [(X_valid, y_valid)],\n",
    "        eval_metric = ['auc', 'binary_logloss'],\n",
    "        early_stopping_rounds = 5)"
   ]
  },
  {
   "cell_type": "code",
   "execution_count": null,
   "metadata": {},
   "outputs": [],
   "source": []
  },
  {
   "cell_type": "code",
   "execution_count": null,
   "metadata": {},
   "outputs": [],
   "source": [
    "gridsearch.best_params_"
   ]
  },
  {
   "cell_type": "code",
   "execution_count": null,
   "metadata": {},
   "outputs": [],
   "source": [
    "lgb_pipe = Pipeline([('scaler', StandardScaler()),\n",
    "                       ('lgb',lgb.LGBMRegressor(learning_rate = 0.1, \n",
    "                        n_estimators = 500))])"
   ]
  },
  {
   "cell_type": "code",
   "execution_count": null,
   "metadata": {},
   "outputs": [],
   "source": [
    "lgb_pipe.fit(X_train_part, y_train_part)\n",
    "# predict\n",
    "# lgb_valid_pred = lgb_pipe.predict_proba(X_valid)[:, 1]\n",
    "lgb_valid_pred = gbm.predict(X_valid, num_iteration=gbm.best_iteration_)\n",
    "roc_auc_score(y_valid, lgb_valid_pred)"
   ]
  },
  {
   "cell_type": "code",
   "execution_count": null,
   "metadata": {},
   "outputs": [],
   "source": [
    "y_pred = gbm.predict(X_test, num_iteration=gbm.best_iteration_)"
   ]
  },
  {
   "cell_type": "code",
   "execution_count": null,
   "metadata": {},
   "outputs": [],
   "source": [
    "lgb_valid_pred = gbm.predict(X_valid, num_iteration=gbm.best_iteration_)\n",
    "roc_auc_score(y_valid, lgb_valid_pred)"
   ]
  },
  {
   "cell_type": "markdown",
   "metadata": {},
   "source": [
    "# NEW 4"
   ]
  },
  {
   "cell_type": "code",
   "execution_count": null,
   "metadata": {},
   "outputs": [],
   "source": [
    "import numpy as np\n",
    "import pandas as pd\n",
    "%matplotlib inline\n",
    "import matplotlib.pyplot as plt\n",
    "from sklearn.model_selection import train_test_split, GridSearchCV\n",
    "from sklearn.metrics import accuracy_score, confusion_matrix\n",
    "from sklearn.pipeline import Pipeline\n",
    "from sklearn.preprocessing import StandardScaler\n",
    "from sklearn.linear_model import LogisticRegression\n",
    "from sklearn.ensemble import RandomForestClassifier\n",
    "from lightgbm import LGBMClassifier\n",
    "from sklearn.metrics import roc_auc_score"
   ]
  },
  {
   "cell_type": "code",
   "execution_count": null,
   "metadata": {},
   "outputs": [],
   "source": [
    "train_df = pd.read_csv('../../../data/flight_delays_train.csv')\n",
    "test_df = pd.read_csv('../../../data/flight_delays_test.csv')"
   ]
  },
  {
   "cell_type": "code",
   "execution_count": null,
   "metadata": {
    "scrolled": false
   },
   "outputs": [],
   "source": [
    "train_df['dep_delayed_15min'].value_counts()"
   ]
  },
  {
   "cell_type": "code",
   "execution_count": null,
   "metadata": {},
   "outputs": [],
   "source": [
    "train_df['DepTime'] = train_df['DepTime'].apply(lambda x: '{0:0>4}'.format(x))\n",
    "test_df['DepTime'] = test_df['DepTime'].apply(lambda x: '{0:0>4}'.format(x))\n"
   ]
  },
  {
   "cell_type": "code",
   "execution_count": null,
   "metadata": {
    "scrolled": true
   },
   "outputs": [],
   "source": [
    "train_df['DepTimeHM'] = pd.to_datetime(train_df['DepTime'], format='%H%M', errors='coerce')\n",
    "test_df['DepTimeHM'] = pd.to_datetime(test_df['DepTime'], format='%H%M', errors='coerce')"
   ]
  },
  {
   "cell_type": "code",
   "execution_count": null,
   "metadata": {},
   "outputs": [],
   "source": [
    "print(train_df.shape)\n",
    "print(test_df.shape)"
   ]
  },
  {
   "cell_type": "code",
   "execution_count": null,
   "metadata": {},
   "outputs": [],
   "source": [
    "# train_df['DepTimeHM'].dropna(inplace=True)\n",
    "# test_df['DepTimeHM'].dropna(inplace=True)\n",
    "train_df.dropna(inplace=True)\n",
    "test_df.dropna(inplace=True)"
   ]
  },
  {
   "cell_type": "code",
   "execution_count": null,
   "metadata": {},
   "outputs": [],
   "source": [
    "print(train_df.shape)\n",
    "print(test_df.shape)"
   ]
  },
  {
   "cell_type": "code",
   "execution_count": null,
   "metadata": {
    "scrolled": true
   },
   "outputs": [],
   "source": [
    "train_df['Hour'] = train_df['DepTimeHM'].apply(lambda ts: ts.hour).astype('int')\n",
    "test_df['Hour'] = test_df['DepTimeHM'].apply(lambda ts: ts.hour).astype('int')\n"
   ]
  },
  {
   "cell_type": "code",
   "execution_count": null,
   "metadata": {},
   "outputs": [],
   "source": [
    "train_df['M'] = train_df['Hour'].apply(lambda x: 1 if (x >= 6 and x <= 11) else 0).astype('int')\n",
    "train_df['D'] = train_df['Hour'].apply(lambda x: 1 if (x >= 12 and x <= 18) else 0).astype('int')\n",
    "train_df['E'] = train_df['Hour'].apply(lambda x: 1 if (x >= 19 and x <= 23) else 0).astype('int')\n",
    "train_df['N'] = train_df['Hour'].apply(lambda x: 1 if (x >= 0 and x <= 5) else 0).astype('int')\n",
    "\n",
    "test_df['M'] = test_df['Hour'].apply(lambda x: 1 if (x >= 6 and x <= 11) else 0).astype('int')\n",
    "test_df['D'] = test_df['Hour'].apply(lambda x: 1 if (x >= 12 and x <= 18) else 0).astype('int')\n",
    "test_df['E'] = test_df['Hour'].apply(lambda x: 1 if (x >= 19 and x <= 23) else 0).astype('int')\n",
    "test_df['N'] = test_df['Hour'].apply(lambda x: 1 if (x >= 0 and x <= 5) else 0).astype('int')\n"
   ]
  },
  {
   "cell_type": "code",
   "execution_count": null,
   "metadata": {},
   "outputs": [],
   "source": [
    "train_df['MonthD'] = train_df['Month'].replace(to_replace=r'^c\\-', value='', regex=True).astype('int')\n",
    "train_df['DayOfMD'] = train_df['DayofMonth'].replace(to_replace=r'^c\\-', value='', regex=True).astype('int')\n",
    "train_df['DayOfWD'] = train_df['DayOfWeek'].replace(to_replace=r'^c\\-', value='', regex=True).astype('int')\n",
    "\n",
    "train_df['Holiday'] = train_df['DayOfWD'].apply(lambda x: 1 if (x >= 6) else 0).astype('int')\n",
    "\n",
    "\n",
    "test_df['MonthD'] = test_df['Month'].replace(to_replace=r'^c\\-', value='', regex=True).astype('int')\n",
    "test_df['DayOfMD'] = test_df['DayofMonth'].replace(to_replace=r'^c\\-', value='', regex=True).astype('int')\n",
    "test_df['DayOfWD'] = test_df['DayOfWeek'].replace(to_replace=r'^c\\-', value='', regex=True).astype('int')\n",
    "\n",
    "test_df['Holiday'] = test_df['DayOfWD'].apply(lambda x: 1 if (x >= 6) else 0).astype('int')\n",
    "\n"
   ]
  },
  {
   "cell_type": "code",
   "execution_count": null,
   "metadata": {},
   "outputs": [],
   "source": [
    "train_df['DistLog'] = np.log(train_df['Distance'])\n",
    "test_df['DistLog'] = np.log(test_df['Distance'])"
   ]
  },
  {
   "cell_type": "code",
   "execution_count": null,
   "metadata": {},
   "outputs": [],
   "source": [
    "train_df[\"UnqCar\"] = train_df[\"UniqueCarrier\"].astype('category')\n",
    "test_df[\"UnqCar\"] = test_df[\"UniqueCarrier\"].astype('category')\n",
    "\n",
    "train_df[\"Org\"] = train_df[\"Origin\"].astype('category')\n",
    "test_df[\"Org\"] = test_df[\"Origin\"].astype('category')\n",
    "\n",
    "train_df[\"Dst\"] = train_df[\"Dest\"].astype('category')\n",
    "test_df[\"Dst\"] = test_df[\"Dest\"].astype('category')"
   ]
  },
  {
   "cell_type": "code",
   "execution_count": null,
   "metadata": {},
   "outputs": [],
   "source": [
    "train_df[\"UnqCarC\"] = train_df[\"UnqCar\"].cat.codes\n",
    "test_df[\"UnqCarC\"] = test_df[\"UnqCar\"].cat.codes\n",
    "\n",
    "train_df[\"OrgC\"] = train_df[\"Org\"].cat.codes\n",
    "test_df[\"OrgC\"] = test_df[\"Org\"].cat.codes\n",
    "\n",
    "train_df[\"DstC\"] = train_df[\"Dst\"].cat.codes\n",
    "test_df[\"DstC\"] = test_df[\"Dst\"].cat.codes"
   ]
  },
  {
   "cell_type": "code",
   "execution_count": null,
   "metadata": {},
   "outputs": [],
   "source": [
    "# train_df['Hour'].dropna(inplace=True)\n",
    "# test_df['Hour'].dropna(inplace=True)"
   ]
  },
  {
   "cell_type": "code",
   "execution_count": null,
   "metadata": {
    "scrolled": false
   },
   "outputs": [],
   "source": [
    "train_df.describe(include='all').T"
   ]
  },
  {
   "cell_type": "code",
   "execution_count": null,
   "metadata": {
    "scrolled": true
   },
   "outputs": [],
   "source": [
    "train_df.info()"
   ]
  },
  {
   "cell_type": "code",
   "execution_count": null,
   "metadata": {},
   "outputs": [],
   "source": [
    "import matplotlib.pyplot as plt"
   ]
  },
  {
   "cell_type": "code",
   "execution_count": null,
   "metadata": {},
   "outputs": [],
   "source": [
    "def plot_corr(df,size=10):\n",
    "    '''Function plots a graphical correlation matrix for each pair of columns in the dataframe.\n",
    "\n",
    "    Input:\n",
    "        df: pandas DataFrame\n",
    "        size: vertical and horizontal size of the plot'''\n",
    "\n",
    "    corr = df.corr()\n",
    "    fig, ax = plt.subplots(figsize=(size, size))\n",
    "    ax.matshow(corr)\n",
    "    plt.xticks(range(len(corr.columns)), corr.columns);\n",
    "    plt.yticks(range(len(corr.columns)), corr.columns);"
   ]
  },
  {
   "cell_type": "code",
   "execution_count": null,
   "metadata": {},
   "outputs": [],
   "source": [
    "%%time\n",
    "plot_corr(train_df[['DistLog', 'MonthD', 'DayOfMD', 'DayOfWD', \n",
    "                    'M', 'D', 'E', 'N', 'Holiday', 'UnqCarC', 'OrgC', 'DstC', 'DepTime']])"
   ]
  },
  {
   "cell_type": "code",
   "execution_count": null,
   "metadata": {},
   "outputs": [],
   "source": [
    "X_train = train_df[['DistLog', 'MonthD', 'DayOfMD', 'DayOfWD', \n",
    "                    'M', 'D', 'E', 'N', 'Holiday', 'UnqCarC', 'OrgC', 'DstC', 'DepTime']].values \n",
    "y_train = train_df['dep_delayed_15min'].map({'Y': 1, 'N': 0}).values\n",
    "X_test = test_df[['DistLog', 'MonthD', 'DayOfMD', 'DayOfWD', \n",
    "                    'M', 'D', 'E', 'N', 'Holiday', 'UnqCarC', 'OrgC', 'DstC', 'DepTime']].values"
   ]
  },
  {
   "cell_type": "code",
   "execution_count": null,
   "metadata": {},
   "outputs": [],
   "source": [
    "X_train_part, X_valid, y_train_part, y_valid = \\\n",
    "    train_test_split(X_train, y_train, \n",
    "                     test_size=0.3, random_state=17)"
   ]
  },
  {
   "cell_type": "code",
   "execution_count": null,
   "metadata": {},
   "outputs": [],
   "source": [
    "X_train[0]"
   ]
  },
  {
   "cell_type": "code",
   "execution_count": null,
   "metadata": {},
   "outputs": [],
   "source": [
    "clf_pipe = Pipeline([('scaler', StandardScaler()),\n",
    "                       ('lgbm', LGBMClassifier(random_state=17))])\n",
    "\n",
    "clf_pipe.fit(X_train_part, y_train_part)"
   ]
  },
  {
   "cell_type": "code",
   "execution_count": null,
   "metadata": {},
   "outputs": [],
   "source": [
    "est_valid_pred = clf_pipe.predict_proba(X_valid)[:, 1]\n",
    "roc_auc_score(y_valid, est_valid_pred)"
   ]
  },
  {
   "cell_type": "code",
   "execution_count": null,
   "metadata": {},
   "outputs": [],
   "source": [
    "clf_pipe.fit(X_train, y_train)\n",
    "lgb_test_pred = clf_pipe.predict_proba(X_test)[:, 1]\n",
    "\n",
    "pd.Series(lgb_test_pred, \n",
    "          name='dep_delayed_15min').to_csv('est_2feat_4-5_lgb.csv', \n",
    "                                           index_label='id', header=True)"
   ]
  },
  {
   "cell_type": "markdown",
   "metadata": {},
   "source": [
    "### CatBOOST"
   ]
  },
  {
   "cell_type": "code",
   "execution_count": null,
   "metadata": {},
   "outputs": [],
   "source": [
    "import catboost"
   ]
  },
  {
   "cell_type": "code",
   "execution_count": null,
   "metadata": {},
   "outputs": [],
   "source": [
    "est = catboost.CatBoostClassifier(n_estimators=100)\n",
    "est.fit(X_train_part, y_train_part)"
   ]
  },
  {
   "cell_type": "code",
   "execution_count": null,
   "metadata": {},
   "outputs": [],
   "source": [
    "est_valid_pred = est.predict_proba(X_valid)[:, 1]\n",
    "roc_auc_score(y_valid, est_valid_pred)"
   ]
  },
  {
   "cell_type": "code",
   "execution_count": null,
   "metadata": {},
   "outputs": [],
   "source": [
    "%%time\n",
    "est = catboost.CatBoostClassifier(n_estimators=200)\n",
    "est.fit(X_train_part, y_train_part)"
   ]
  },
  {
   "cell_type": "code",
   "execution_count": null,
   "metadata": {
    "scrolled": true
   },
   "outputs": [],
   "source": [
    "est_valid_pred = est.predict_proba(X_valid)[:, 1]\n",
    "roc_auc_score(y_valid, est_valid_pred)"
   ]
  },
  {
   "cell_type": "code",
   "execution_count": null,
   "metadata": {},
   "outputs": [],
   "source": [
    "est.fit(X_train, y_train)\n",
    "cat_test_pred = est.predict_proba(X_test)[:, 1]\n",
    "\n",
    "pd.Series(cat_test_pred, \n",
    "          name='dep_delayed_15min').to_csv('est_2feat_4-4_catboost.csv', \n",
    "                                           index_label='id', header=True)"
   ]
  },
  {
   "cell_type": "code",
   "execution_count": null,
   "metadata": {},
   "outputs": [],
   "source": [
    "logit = LogisticRegression(C=1, solver='liblinear',\n",
    "                           random_state=17)\n",
    "logit_pipe = Pipeline([('scaler', StandardScaler()), \n",
    "                       ('logit', logit)])"
   ]
  },
  {
   "cell_type": "code",
   "execution_count": null,
   "metadata": {},
   "outputs": [],
   "source": [
    "logit_pipe.fit(X_train_part, y_train_part)\n",
    "logit_valid_pred = logit_pipe.predict_proba(X_valid)[:, 1]\n",
    "\n",
    "roc_auc_score(y_valid, logit_valid_pred)"
   ]
  },
  {
   "cell_type": "code",
   "execution_count": null,
   "metadata": {
    "scrolled": true
   },
   "outputs": [],
   "source": [
    "logit_pipe.fit(X_train, y_train)\n",
    "logit_test_pred = logit_pipe.predict_proba(X_test)[:, 1]\n",
    "\n",
    "pd.Series(logit_test_pred, \n",
    "          name='dep_delayed_15min').to_csv('est_2feat_4-2.csv', \n",
    "                                           index_label='id', header=True)"
   ]
  },
  {
   "cell_type": "markdown",
   "metadata": {},
   "source": [
    "# New 6.1 learning curves"
   ]
  },
  {
   "cell_type": "code",
   "execution_count": null,
   "metadata": {},
   "outputs": [],
   "source": []
  },
  {
   "cell_type": "code",
   "execution_count": null,
   "metadata": {},
   "outputs": [],
   "source": [
    "%%time\n",
    "\n",
    "from xgboost import XGBClassifier\n",
    "from sklearn.svm import LinearSVC\n",
    "ests = [(\"LinearSVC(C=10.0)\", LinearSVC(C=10.0)), \n",
    "        (\"LGBM\", LGBMClassifier(random_state=17)), \n",
    "        (\"LGBM_100est\", LGBMClassifier(random_state=17, n_estimators=100)),\n",
    "        (\"XGBC_100est\", XGBClassifier(random_state=17, n_estimators=100)),\n",
    "        (\"rf_100est\", RandomForestClassifier(random_state=17, n_estimators=100)),\n",
    "        (\"cat_100est\", catboost.CatBoostClassifier(random_state=17, n_estimators=100, verbose=0))]\n",
    "for name, est in ests:\n",
    "    print(name)\n",
    "    %time plot_learning_curve(est, name, X_train_part, y_train_part, ylim=(0.0, 1.01), train_sizes=np.linspace(.1, .2, 5))\n",
    "    plt.show()"
   ]
  },
  {
   "cell_type": "code",
   "execution_count": null,
   "metadata": {},
   "outputs": [],
   "source": []
  },
  {
   "cell_type": "code",
   "execution_count": null,
   "metadata": {
    "scrolled": true
   },
   "outputs": [],
   "source": [
    "from sklearn.pipeline import Pipeline\n",
    "from sklearn.feature_selection import SelectKBest, f_classif\n",
    "# SelectKBest(f_classif, k=2) will select the k=2 best features according to their Anova F-value\n",
    "\n",
    "for k in range(X_train_part.shape[1], 1, -1):\n",
    "    print(k)\n",
    "    plot_learning_curve(Pipeline([(\"fs\", SelectKBest(f_classif, k=k)), # select two features\n",
    "                               (\"LGBMClassifier\",  LGBMClassifier(random_state=17, n_estimators=100))]),\n",
    "                    \"SelectKBest(f_classif, k={}) + LGBMClassifier\".format(k),\n",
    "                    X_train_part, y_train_part, ylim=(0.6, 0.8),\n",
    "                    train_sizes=np.linspace(.1, 1.0, 5))\n",
    "    plt.show()"
   ]
  },
  {
   "cell_type": "markdown",
   "metadata": {},
   "source": [
    "# NEW 4.1 logit"
   ]
  },
  {
   "cell_type": "code",
   "execution_count": null,
   "metadata": {},
   "outputs": [],
   "source": [
    "logit = LogisticRegression(C=1, solver='liblinear',\n",
    "                           random_state=17, class_weight='balanced')\n",
    "logit_pipe = Pipeline([('scaler', StandardScaler()), \n",
    "                       ('logit', logit)])"
   ]
  },
  {
   "cell_type": "code",
   "execution_count": null,
   "metadata": {
    "scrolled": false
   },
   "outputs": [],
   "source": [
    "logit_pipe.fit(X_train_part, y_train_part)\n",
    "logit_valid_pred = logit_pipe.predict_proba(X_valid)[:, 1]\n",
    "\n",
    "roc_auc_score(y_valid, logit_valid_pred)"
   ]
  },
  {
   "cell_type": "code",
   "execution_count": null,
   "metadata": {},
   "outputs": [],
   "source": []
  },
  {
   "cell_type": "code",
   "execution_count": null,
   "metadata": {},
   "outputs": [],
   "source": []
  },
  {
   "cell_type": "code",
   "execution_count": null,
   "metadata": {},
   "outputs": [],
   "source": []
  },
  {
   "cell_type": "markdown",
   "metadata": {},
   "source": [
    "# NEW 5"
   ]
  },
  {
   "cell_type": "code",
   "execution_count": null,
   "metadata": {},
   "outputs": [],
   "source": [
    "train_df[train_df['dep_delayed_15min'] == 'Y'].UniqueCarrier.value_counts()\n"
   ]
  },
  {
   "cell_type": "code",
   "execution_count": null,
   "metadata": {},
   "outputs": [],
   "source": [
    "train_df[train_df['dep_delayed_15min'] == 'N'].UniqueCarrier.value_counts()"
   ]
  },
  {
   "cell_type": "code",
   "execution_count": null,
   "metadata": {},
   "outputs": [],
   "source": [
    "crosstab_df = pd.crosstab(train_df.UniqueCarrier, train_df.dep_delayed_15min)\n",
    "crosstab_df['Ratio'] = crosstab_df.Y / crosstab_df.N"
   ]
  },
  {
   "cell_type": "code",
   "execution_count": null,
   "metadata": {},
   "outputs": [],
   "source": [
    "crosstab_df.sort_values(by='Ratio')"
   ]
  },
  {
   "cell_type": "code",
   "execution_count": null,
   "metadata": {},
   "outputs": [],
   "source": []
  },
  {
   "cell_type": "code",
   "execution_count": null,
   "metadata": {},
   "outputs": [],
   "source": [
    "# NEW 6"
   ]
  }
 ],
 "metadata": {
  "kernelspec": {
   "display_name": "Python 3",
   "language": "python",
   "name": "python3"
  },
  "language_info": {
   "codemirror_mode": {
    "name": "ipython",
    "version": 3
   },
   "file_extension": ".py",
   "mimetype": "text/x-python",
   "name": "python",
   "nbconvert_exporter": "python",
   "pygments_lexer": "ipython3",
   "version": "3.5.2"
  }
 },
 "nbformat": 4,
 "nbformat_minor": 1
}
